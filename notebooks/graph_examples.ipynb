{
 "cells": [
  {
   "cell_type": "code",
   "execution_count": 1,
   "id": "governmental-subcommittee",
   "metadata": {},
   "outputs": [],
   "source": [
    "%load_ext autoreload\n",
    "%autoreload 2"
   ]
  },
  {
   "cell_type": "code",
   "execution_count": 2,
   "id": "lasting-riding",
   "metadata": {},
   "outputs": [],
   "source": [
    "import sys  \n",
    "sys.path.insert(0, '..')"
   ]
  },
  {
   "cell_type": "code",
   "execution_count": 3,
   "id": "gross-panel",
   "metadata": {},
   "outputs": [],
   "source": [
    "from main import get_amazon_graph\n",
    "from datetime import datetime"
   ]
  },
  {
   "cell_type": "code",
   "execution_count": 4,
   "id": "minus-resident",
   "metadata": {},
   "outputs": [
    {
     "name": "stderr",
     "output_type": "stream",
     "text": [
      "2021-05-03 16:54:00,798 - numexpr.utils - [INFO] - Note: NumExpr detected 12 cores but \"NUMEXPR_MAX_THREADS\" not set, so enforcing safe limit of 8.\n",
      "2021-05-03 16:54:00,799 - numexpr.utils - [INFO] - NumExpr defaulting to 8 threads.\n",
      "2021-05-03 16:54:00,887 - AmazonGraph - [INFO] - loading entities\n",
      "2021-05-03 16:54:01,045 - AmazonGraph - [INFO] - loading relations\n",
      "2021-05-03 16:54:10,751 - AmazonGraph - [INFO] - loaded purchase\n",
      "2021-05-03 16:54:11,262 - AmazonGraph - [INFO] - loaded also_viewed\n",
      "2021-05-03 16:54:11,866 - AmazonGraph - [INFO] - loaded also_bought\n",
      "2021-05-03 16:54:12,095 - AmazonGraph - [INFO] - loaded produced_by\n",
      "2021-05-03 16:54:12,356 - AmazonGraph - [INFO] - loaded belongs_to_category\n"
     ]
    }
   ],
   "source": [
    "knowledge_graph = get_amazon_graph('Magazine_Subscriptions', user_k_core=1, item_k_core=1)"
   ]
  },
  {
   "cell_type": "code",
   "execution_count": 5,
   "id": "latest-presentation",
   "metadata": {},
   "outputs": [
    {
     "data": {
      "text/plain": [
       "[('AH2IFH762VY5U', 0),\n",
       " ('AOSFI0JEYU4XM', 1),\n",
       " ('A3JPFWKS83R49V', 2),\n",
       " ('A19FKU6JZQ2ECJ', 3),\n",
       " ('A25MDGOMZ2GALN', 4),\n",
       " ('A3XT9XXWXFMJ1', 5),\n",
       " ('A3ERU005ES1IHT', 6),\n",
       " ('AC2278WPK3EU', 7),\n",
       " ('A3QRR8PSCBI07C', 8),\n",
       " ('A5QQOOZJOVPSF', 9)]"
      ]
     },
     "execution_count": 5,
     "metadata": {},
     "output_type": "execute_result"
    }
   ],
   "source": [
    "list(knowledge_graph.entity_set.entity2idx.items())[:10]"
   ]
  },
  {
   "cell_type": "code",
   "execution_count": 6,
   "id": "cheap-professional",
   "metadata": {},
   "outputs": [
    {
     "data": {
      "text/plain": [
       "[(0, 'AH2IFH762VY5U'),\n",
       " (1, 'AOSFI0JEYU4XM'),\n",
       " (2, 'A3JPFWKS83R49V'),\n",
       " (3, 'A19FKU6JZQ2ECJ'),\n",
       " (4, 'A25MDGOMZ2GALN'),\n",
       " (5, 'A3XT9XXWXFMJ1'),\n",
       " (6, 'A3ERU005ES1IHT'),\n",
       " (7, 'AC2278WPK3EU'),\n",
       " (8, 'A3QRR8PSCBI07C'),\n",
       " (9, 'A5QQOOZJOVPSF')]"
      ]
     },
     "execution_count": 6,
     "metadata": {},
     "output_type": "execute_result"
    }
   ],
   "source": [
    "list(knowledge_graph.entity_set.idx2entity.items())[:10]"
   ]
  },
  {
   "cell_type": "code",
   "execution_count": 7,
   "id": "marked-country",
   "metadata": {},
   "outputs": [
    {
     "data": {
      "text/plain": [
       "['AH2IFH762VY5U',\n",
       " 'AOSFI0JEYU4XM',\n",
       " 'A3JPFWKS83R49V',\n",
       " 'A19FKU6JZQ2ECJ',\n",
       " 'A25MDGOMZ2GALN',\n",
       " 'A3XT9XXWXFMJ1',\n",
       " 'A3ERU005ES1IHT',\n",
       " 'AC2278WPK3EU',\n",
       " 'A3QRR8PSCBI07C',\n",
       " 'A5QQOOZJOVPSF']"
      ]
     },
     "execution_count": 7,
     "metadata": {},
     "output_type": "execute_result"
    }
   ],
   "source": [
    "knowledge_graph.entity_set.customer[:10]"
   ]
  },
  {
   "cell_type": "code",
   "execution_count": 8,
   "id": "accredited-boundary",
   "metadata": {},
   "outputs": [
    {
     "data": {
      "text/plain": [
       "91584"
      ]
     },
     "execution_count": 8,
     "metadata": {},
     "output_type": "execute_result"
    }
   ],
   "source": [
    "len(knowledge_graph.entity_set.entity2idx)"
   ]
  },
  {
   "cell_type": "code",
   "execution_count": 9,
   "id": "arctic-screen",
   "metadata": {},
   "outputs": [
    {
     "data": {
      "text/plain": [
       "{'also_viewed': 0,\n",
       " 'belongs_to_category': 1,\n",
       " 'purchase': 2,\n",
       " 'also_bought': 3,\n",
       " 'produced_by': 4}"
      ]
     },
     "execution_count": 9,
     "metadata": {},
     "output_type": "execute_result"
    }
   ],
   "source": [
    "knowledge_graph.relation_set.relation2idx"
   ]
  },
  {
   "cell_type": "code",
   "execution_count": 10,
   "id": "animated-newfoundland",
   "metadata": {},
   "outputs": [
    {
     "data": {
      "text/plain": [
       "{0: 'also_viewed',\n",
       " 1: 'belongs_to_category',\n",
       " 2: 'purchase',\n",
       " 3: 'also_bought',\n",
       " 4: 'produced_by'}"
      ]
     },
     "execution_count": 10,
     "metadata": {},
     "output_type": "execute_result"
    }
   ],
   "source": [
    "knowledge_graph.relation_set.idx2relation"
   ]
  },
  {
   "cell_type": "code",
   "execution_count": 11,
   "id": "egyptian-rally",
   "metadata": {},
   "outputs": [
    {
     "data": {
      "text/plain": [
       "['B00005NIOH',\n",
       " '0465060730',\n",
       " 'B00005N7SD',\n",
       " 'B002PXW0LW',\n",
       " 'B002PXW24C',\n",
       " 'B01FV51RKA',\n",
       " 'B06XWB4X41',\n",
       " 'B002PXW0M6',\n",
       " 'B001U5SPLK',\n",
       " '0061479012']"
      ]
     },
     "execution_count": 11,
     "metadata": {},
     "output_type": "execute_result"
    }
   ],
   "source": [
    "knowledge_graph.relation_set.also_bought.relations['B00005N7NQ'][:10]"
   ]
  },
  {
   "cell_type": "code",
   "execution_count": 12,
   "id": "lonely-cutting",
   "metadata": {},
   "outputs": [
    {
     "data": {
      "text/plain": [
       "['Ages 4-8',\n",
       " 'Firefighting & Prevention',\n",
       " 'Model Trains',\n",
       " 'Investing',\n",
       " 'Midwest',\n",
       " 'Music',\n",
       " 'Newspapers',\n",
       " 'Science & Technology',\n",
       " 'Animals',\n",
       " 'Teen']"
      ]
     },
     "execution_count": 12,
     "metadata": {},
     "output_type": "execute_result"
    }
   ],
   "source": [
    "knowledge_graph.entity_set.category[:10]"
   ]
  },
  {
   "cell_type": "code",
   "execution_count": 13,
   "id": "welsh-treatment",
   "metadata": {},
   "outputs": [
    {
     "data": {
      "text/plain": [
       "[(1067817600, 'B00005NIN8'),\n",
       " (1282867200, 'B00005N7SA'),\n",
       " (1161820800, 'B000063XJN'),\n",
       " (1103241600, 'B00005N7QD'),\n",
       " (1174694400, 'B00006J9HV'),\n",
       " (1190073600, 'B00005R8BL'),\n",
       " (1098921600, 'B00005NIOM'),\n",
       " (1081123200, 'B00008DP07'),\n",
       " (1128124800, 'B00005NINU'),\n",
       " (1175212800, 'B00005N7QI')]"
      ]
     },
     "execution_count": 13,
     "metadata": {},
     "output_type": "execute_result"
    }
   ],
   "source": [
    "knowledge_graph.relation_set.purchase.relations['A3JPFWKS83R49V'][:10]"
   ]
  },
  {
   "cell_type": "code",
   "execution_count": 14,
   "id": "caroline-jackson",
   "metadata": {},
   "outputs": [
    {
     "name": "stderr",
     "output_type": "stream",
     "text": [
      "2021-05-03 16:54:20,949 - AmazonGraph - [INFO] - converting also_viewed\n",
      "2021-05-03 16:54:21,413 - AmazonGraph - [INFO] - converting belongs_to_category\n",
      "2021-05-03 16:54:21,577 - AmazonGraph - [INFO] - converting purchase\n",
      "2021-05-03 16:54:22,783 - AmazonGraph - [INFO] - converting also_bought\n",
      "2021-05-03 16:54:23,263 - AmazonGraph - [INFO] - converting produced_by\n"
     ]
    }
   ],
   "source": [
    "adj_lists = knowledge_graph.to_adj_lists()"
   ]
  },
  {
   "cell_type": "code",
   "execution_count": 15,
   "id": "meaningful-stuff",
   "metadata": {},
   "outputs": [
    {
     "data": {
      "text/plain": [
       "91584"
      ]
     },
     "execution_count": 15,
     "metadata": {},
     "output_type": "execute_result"
    }
   ],
   "source": [
    "len(adj_lists)"
   ]
  },
  {
   "cell_type": "code",
   "execution_count": 22,
   "id": "concrete-designation",
   "metadata": {},
   "outputs": [],
   "source": [
    "for candidate in ['B00005NIOH', 'B00005N7NQ', 'B0089FUF6W']:\n",
    "    for item in knowledge_graph.relation_set.also_bought.relations[candidate]:\n",
    "        assert candidate in knowledge_graph.relation_set.also_bought.relations[item]"
   ]
  },
  {
   "cell_type": "code",
   "execution_count": 23,
   "id": "therapeutic-content",
   "metadata": {},
   "outputs": [
    {
     "name": "stderr",
     "output_type": "stream",
     "text": [
      "2021-05-03 16:56:25,581 - AmazonGraph - [INFO] - loading entities\n",
      "2021-05-03 16:56:25,646 - AmazonGraph - [INFO] - loading relations\n",
      "2021-05-03 16:56:28,613 - AmazonGraph - [INFO] - loaded purchase\n",
      "2021-05-03 16:56:29,398 - AmazonGraph - [INFO] - loaded also_viewed\n",
      "2021-05-03 16:56:29,951 - AmazonGraph - [INFO] - loaded also_bought\n",
      "2021-05-03 16:56:30,139 - AmazonGraph - [INFO] - loaded produced_by\n",
      "2021-05-03 16:56:30,340 - AmazonGraph - [INFO] - loaded belongs_to_category\n"
     ]
    }
   ],
   "source": [
    "knowledge_graph = get_amazon_graph('Magazine_Subscriptions', user_k_core=2, item_k_core=1)"
   ]
  },
  {
   "cell_type": "code",
   "execution_count": 24,
   "id": "corporate-republic",
   "metadata": {},
   "outputs": [
    {
     "data": {
      "text/plain": [
       "27703"
      ]
     },
     "execution_count": 24,
     "metadata": {},
     "output_type": "execute_result"
    }
   ],
   "source": [
    "len(knowledge_graph.entity_set.entity2idx)"
   ]
  },
  {
   "cell_type": "code",
   "execution_count": 25,
   "id": "architectural-shannon",
   "metadata": {},
   "outputs": [],
   "source": [
    "customer_indices = list(map(lambda x: knowledge_graph.entity_set.entity2idx[x], knowledge_graph.entity_set.customer))"
   ]
  },
  {
   "cell_type": "code",
   "execution_count": 20,
   "id": "effective-sierra",
   "metadata": {},
   "outputs": [],
   "source": [
    "def test_k_core(\n",
    "    adj_lists: list,\n",
    "    customer_indices: list,\n",
    "    purchase_relation_idx: int,\n",
    "    no_purchases_customer_idx: int,\n",
    "    user_k_core: int\n",
    "):\n",
    "    for customer in customer_indices:\n",
    "        assert len(list(filter(\n",
    "            lambda x: x.relation_type == purchase_relation_idx,\n",
    "            adj_lists[customer]\n",
    "        ))) >= user_k_core"
   ]
  },
  {
   "cell_type": "code",
   "execution_count": 21,
   "id": "alternate-antigua",
   "metadata": {},
   "outputs": [
    {
     "name": "stderr",
     "output_type": "stream",
     "text": [
      "2021-04-29 23:17:27,209 - AmazonGraph - [INFO] - converting purchase\n",
      "2021-04-29 23:17:27,599 - AmazonGraph - [INFO] - converting also_bought\n",
      "2021-04-29 23:17:27,733 - AmazonGraph - [INFO] - converting belongs_to_category\n",
      "2021-04-29 23:17:27,997 - AmazonGraph - [INFO] - converting also_viewed\n",
      "2021-04-29 23:17:28,129 - AmazonGraph - [INFO] - converting produced_by\n"
     ]
    }
   ],
   "source": [
    "test_k_core(\n",
    "    adj_lists=knowledge_graph.to_adj_lists(), \n",
    "    customer_indices=customer_indices,\n",
    "    purchase_relation_idx=knowledge_graph.relation_set.relation2idx['purchase'],\n",
    "    user_k_core=2,\n",
    ")"
   ]
  }
 ],
 "metadata": {
  "kernelspec": {
   "display_name": "Python 3",
   "language": "python",
   "name": "python3"
  },
  "language_info": {
   "codemirror_mode": {
    "name": "ipython",
    "version": 3
   },
   "file_extension": ".py",
   "mimetype": "text/x-python",
   "name": "python",
   "nbconvert_exporter": "python",
   "pygments_lexer": "ipython3",
   "version": "3.8.5"
  }
 },
 "nbformat": 4,
 "nbformat_minor": 5
}
