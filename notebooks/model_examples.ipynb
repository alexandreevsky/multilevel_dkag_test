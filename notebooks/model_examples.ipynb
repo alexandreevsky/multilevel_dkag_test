{
 "cells": [
  {
   "cell_type": "code",
   "execution_count": 1,
   "id": "successful-corrections",
   "metadata": {},
   "outputs": [],
   "source": [
    "%load_ext autoreload\n",
    "%autoreload 2"
   ]
  },
  {
   "cell_type": "code",
   "execution_count": 2,
   "id": "ethical-bradford",
   "metadata": {},
   "outputs": [],
   "source": [
    "import sys  \n",
    "sys.path.insert(0, '..')"
   ]
  },
  {
   "cell_type": "code",
   "execution_count": 47,
   "id": "billion-eagle",
   "metadata": {},
   "outputs": [],
   "source": [
    "from main import get_tafeng_graph\n",
    "from knowledge_graph.datasets import KgPosNegTriples, TimeSplittedDataset, KgCustomers\n",
    "from knowledge_graph.layer_generators import LayerNodeGenerator\n",
    "from utils import get_dates_for_split, get_graph_splits, get_test_interactions\n",
    "from models.Model import Model\n",
    "from models.config import Config\n",
    "from toolz import valmap\n",
    "import numpy as np\n",
    "import torch\n",
    "from datetime import datetime"
   ]
  },
  {
   "cell_type": "code",
   "execution_count": 4,
   "id": "direct-happiness",
   "metadata": {},
   "outputs": [
    {
     "name": "stderr",
     "output_type": "stream",
     "text": [
      "2021-05-09 16:29:36,986 - numexpr.utils - [INFO] - Note: NumExpr detected 12 cores but \"NUMEXPR_MAX_THREADS\" not set, so enforcing safe limit of 8.\n",
      "2021-05-09 16:29:36,987 - numexpr.utils - [INFO] - NumExpr defaulting to 8 threads.\n",
      "2021-05-09 16:29:39,882 - TaFengGraph - [INFO] - loading entities\n",
      "2021-05-09 16:29:40,181 - TaFengGraph - [INFO] - loading relations\n",
      "2021-05-09 16:31:07,311 - TaFengGraph - [INFO] - loaded purchase\n",
      "2021-05-09 16:31:58,514 - TaFengGraph - [INFO] - loaded bought_in\n",
      "2021-05-09 16:32:51,999 - TaFengGraph - [INFO] - loaded belongs_to_age_group\n",
      "2021-05-09 16:33:45,214 - TaFengGraph - [INFO] - loaded belongs_to_subclass\n"
     ]
    }
   ],
   "source": [
    "knowledge_graph = get_tafeng_graph(user_k_core=2, item_k_core=1)"
   ]
  },
  {
   "cell_type": "code",
   "execution_count": 5,
   "id": "interpreted-harvey",
   "metadata": {},
   "outputs": [
    {
     "data": {
      "text/plain": [
       "55868"
      ]
     },
     "execution_count": 5,
     "metadata": {},
     "output_type": "execute_result"
    }
   ],
   "source": [
    "len(knowledge_graph.entity_set)"
   ]
  },
  {
   "cell_type": "code",
   "execution_count": 6,
   "id": "hearing-presentation",
   "metadata": {},
   "outputs": [
    {
     "data": {
      "text/plain": [
       "30130"
      ]
     },
     "execution_count": 6,
     "metadata": {},
     "output_type": "execute_result"
    }
   ],
   "source": [
    "len(knowledge_graph.entity_set.customer)"
   ]
  },
  {
   "cell_type": "code",
   "execution_count": 7,
   "id": "wireless-cowboy",
   "metadata": {},
   "outputs": [],
   "source": [
    "timestamps = knowledge_graph.relation_set.get_all_timestamps()\n",
    "splitting_points = get_dates_for_split(timestamps, n_points=3)"
   ]
  },
  {
   "cell_type": "code",
   "execution_count": 8,
   "id": "introductory-mustang",
   "metadata": {},
   "outputs": [
    {
     "data": {
      "text/plain": [
       "[datetime.datetime(2000, 11, 28, 3, 0),\n",
       " datetime.datetime(2001, 1, 1, 3, 0),\n",
       " datetime.datetime(2001, 1, 30, 3, 0)]"
      ]
     },
     "execution_count": 8,
     "metadata": {},
     "output_type": "execute_result"
    }
   ],
   "source": [
    "splitting_points"
   ]
  },
  {
   "cell_type": "code",
   "execution_count": 9,
   "id": "anticipated-coaching",
   "metadata": {},
   "outputs": [
    {
     "name": "stderr",
     "output_type": "stream",
     "text": [
      "2021-05-09 16:33:46,583 - TaFengGraph - [INFO] - converting purchase\n",
      "2021-05-09 16:33:49,842 - TaFengGraph - [INFO] - converting belongs_to_subclass\n",
      "2021-05-09 16:33:50,394 - TaFengGraph - [INFO] - converting belongs_to_age_group\n",
      "2021-05-09 16:33:50,642 - TaFengGraph - [INFO] - converting bought_in\n",
      "2021-05-09 16:33:51,720 - TaFengGraph - [INFO] - converting purchase\n",
      "2021-05-09 16:33:54,584 - TaFengGraph - [INFO] - converting belongs_to_subclass\n",
      "2021-05-09 16:33:54,799 - TaFengGraph - [INFO] - converting belongs_to_age_group\n",
      "2021-05-09 16:33:55,047 - TaFengGraph - [INFO] - converting bought_in\n",
      "2021-05-09 16:33:56,372 - TaFengGraph - [INFO] - converting purchase\n",
      "2021-05-09 16:33:59,081 - TaFengGraph - [INFO] - converting belongs_to_subclass\n",
      "2021-05-09 16:33:59,337 - TaFengGraph - [INFO] - converting belongs_to_age_group\n",
      "2021-05-09 16:33:59,623 - TaFengGraph - [INFO] - converting bought_in\n",
      "2021-05-09 16:34:01,445 - TaFengGraph - [INFO] - converting purchase\n",
      "2021-05-09 16:34:04,842 - TaFengGraph - [INFO] - converting belongs_to_subclass\n",
      "2021-05-09 16:34:05,103 - TaFengGraph - [INFO] - converting belongs_to_age_group\n",
      "2021-05-09 16:34:05,353 - TaFengGraph - [INFO] - converting bought_in\n"
     ]
    }
   ],
   "source": [
    "splits = get_graph_splits(knowledge_graph, splitting_points)"
   ]
  },
  {
   "cell_type": "code",
   "execution_count": 10,
   "id": "third-carnival",
   "metadata": {},
   "outputs": [
    {
     "data": {
      "text/plain": [
       "4"
      ]
     },
     "execution_count": 10,
     "metadata": {},
     "output_type": "execute_result"
    }
   ],
   "source": [
    "len(splits)"
   ]
  },
  {
   "cell_type": "code",
   "execution_count": 11,
   "id": "involved-python",
   "metadata": {},
   "outputs": [],
   "source": [
    "train_splits = splits[:-1]\n",
    "test_split = splits[-1]"
   ]
  },
  {
   "cell_type": "code",
   "execution_count": 12,
   "id": "involved-horizontal",
   "metadata": {},
   "outputs": [],
   "source": [
    "device = torch.device('cuda') if torch.cuda.is_available() else torch.device('cpu')"
   ]
  },
  {
   "cell_type": "markdown",
   "id": "pressing-diary",
   "metadata": {},
   "source": [
    "# Init model"
   ]
  },
  {
   "cell_type": "code",
   "execution_count": 13,
   "id": "prescribed-bangladesh",
   "metadata": {},
   "outputs": [],
   "source": [
    "config = Config(\n",
    "    entity_embedding_dim=10,\n",
    "    relation_embedding_dim=10,\n",
    "    n_entities=len(knowledge_graph.entity_set),\n",
    "    n_relations=len(knowledge_graph.relation_set),\n",
    "    n_layers=2,\n",
    "    transR_l2_weight=0.05,\n",
    "    concat_layers=True\n",
    ")\n",
    "model = Model(\n",
    "    config,\n",
    "    layer_generators=[LayerNodeGenerator(split, n_neighbours=5) for split in train_splits],\n",
    "    device=device\n",
    ")"
   ]
  },
  {
   "cell_type": "markdown",
   "id": "useful-stable",
   "metadata": {},
   "source": [
    "# TransR part"
   ]
  },
  {
   "cell_type": "code",
   "execution_count": 14,
   "id": "certified-thinking",
   "metadata": {},
   "outputs": [],
   "source": [
    "pos_neg_triples_ds = [KgPosNegTriples(split) for split in train_splits]\n",
    "ts_ds = TimeSplittedDataset(pos_neg_triples_ds)"
   ]
  },
  {
   "cell_type": "code",
   "execution_count": 15,
   "id": "detected-haiti",
   "metadata": {},
   "outputs": [
    {
     "data": {
      "text/plain": [
       "(563, 0, 34149, 9473)"
      ]
     },
     "execution_count": 15,
     "metadata": {},
     "output_type": "execute_result"
    }
   ],
   "source": [
    "pos_neg_triples_ds[0][1]"
   ]
  },
  {
   "cell_type": "code",
   "execution_count": 16,
   "id": "permanent-president",
   "metadata": {},
   "outputs": [
    {
     "data": {
      "text/plain": [
       "PosNegBatch(head=[563, 39064], relation=[0, 0], pos_tail=[34149, 8399], neg_tail=[15168, 31438])"
      ]
     },
     "execution_count": 16,
     "metadata": {},
     "output_type": "execute_result"
    }
   ],
   "source": [
    "pos_neg_triples_ds[0][1:3]"
   ]
  },
  {
   "cell_type": "code",
   "execution_count": 17,
   "id": "continental-service",
   "metadata": {},
   "outputs": [],
   "source": [
    "batches = list(map(lambda x: x.data, ts_ds[1:5]))"
   ]
  },
  {
   "cell_type": "code",
   "execution_count": 18,
   "id": "acting-place",
   "metadata": {},
   "outputs": [
    {
     "data": {
      "text/plain": [
       "[PosNegBatch(head=[563, 39064, 35030, 32840], relation=[0, 0, 0, 0], pos_tail=[33046, 14114, 1006, 9332], neg_tail=[10465, 40378, 3238, 34403]),\n",
       " PosNegBatch(head=[50625, 21613, 16031, 29728], relation=[3, 0, 0, 2], pos_tail=[32153, 32418, 37087, 32142], neg_tail=[21705, 18745, 17074, 36062]),\n",
       " PosNegBatch(head=[15033, 39476, 44290, 13502], relation=[2, 0, 0, 2], pos_tail=[32146, 14443, 22932, 32142], neg_tail=[33068, 55405, 22532, 868])]"
      ]
     },
     "execution_count": 18,
     "metadata": {},
     "output_type": "execute_result"
    }
   ],
   "source": [
    "batches"
   ]
  },
  {
   "cell_type": "code",
   "execution_count": 19,
   "id": "meaningful-brief",
   "metadata": {},
   "outputs": [],
   "source": [
    "time_outputs = model(\n",
    "    list(map(lambda x: list(set(x.head + x.pos_tail + x.neg_tail)), batches)),\n",
    "    mode='transR'\n",
    ")"
   ]
  },
  {
   "cell_type": "code",
   "execution_count": 20,
   "id": "impressive-baseball",
   "metadata": {
    "scrolled": false
   },
   "outputs": [
    {
     "data": {
      "text/plain": [
       "3"
      ]
     },
     "execution_count": 20,
     "metadata": {},
     "output_type": "execute_result"
    }
   ],
   "source": [
    "len(time_outputs)"
   ]
  },
  {
   "cell_type": "code",
   "execution_count": 21,
   "id": "annoying-recipe",
   "metadata": {},
   "outputs": [
    {
     "data": {
      "text/plain": [
       "{10465: tensor([ 0.6276, -0.0023,  0.4895, -0.0070,  0.0892,  0.0228,  0.5493, -0.0086,\n",
       "         -0.0046,  0.2370], grad_fn=<DivBackward0>),\n",
       " 14114: tensor([ 6.8483e-01, -1.9292e-03,  4.4356e-02, -1.4948e-04, -2.1145e-03,\n",
       "          1.7615e-01,  6.5749e-01, -5.1472e-03,  1.5572e-01,  2.0356e-01],\n",
       "        grad_fn=<DivBackward0>),\n",
       " 34403: tensor([ 0.9238,  0.0138,  0.0897, -0.0056, -0.0051,  0.2871,  0.2360, -0.0022,\n",
       "         -0.0074, -0.0040], grad_fn=<DivBackward0>),\n",
       " 3238: tensor([ 0.5844,  0.1118,  0.2255, -0.0047, -0.0016,  0.6616,  0.3966, -0.0041,\n",
       "         -0.0011, -0.0009], grad_fn=<DivBackward0>),\n",
       " 32840: tensor([ 4.5381e-01, -4.2713e-04,  9.7117e-02,  6.8263e-02, -5.7411e-03,\n",
       "         -1.5957e-03,  8.8313e-01, -1.4483e-03, -1.0739e-03, -1.4975e-03],\n",
       "        grad_fn=<DivBackward0>),\n",
       " 1006: tensor([ 0.8356, -0.0029,  0.3361, -0.0058,  0.0682,  0.1744,  0.3916, -0.0076,\n",
       "         -0.0018,  0.0144], grad_fn=<DivBackward0>),\n",
       " 563: tensor([ 0.8232, -0.0010,  0.2261, -0.0049,  0.0495,  0.3822,  0.3204, -0.0057,\n",
       "         -0.0029,  0.1410], grad_fn=<DivBackward0>),\n",
       " 9332: tensor([ 5.9946e-02,  2.6508e-01,  1.7965e-01, -5.8883e-03, -6.2802e-04,\n",
       "          6.6395e-01,  6.3478e-01, -4.8884e-03, -2.8436e-05,  2.2368e-01],\n",
       "        grad_fn=<DivBackward0>),\n",
       " 35030: tensor([ 0.6181, -0.0019,  0.6800, -0.0070,  0.3505,  0.0685,  0.1652, -0.0071,\n",
       "         -0.0061,  0.0226], grad_fn=<DivBackward0>),\n",
       " 33046: tensor([ 5.6914e-01, -3.3672e-03,  6.0086e-01, -4.6523e-03, -8.6771e-05,\n",
       "         -1.5321e-03,  5.6117e-01, -6.3047e-03, -7.6105e-03, -1.3981e-03],\n",
       "        grad_fn=<DivBackward0>),\n",
       " 39064: tensor([ 5.8468e-01,  3.8882e-01,  1.1461e-01, -4.5955e-03, -6.8659e-03,\n",
       "         -1.5152e-04,  7.0263e-01, -1.1089e-03, -8.2669e-03, -1.6991e-03],\n",
       "        grad_fn=<DivBackward0>),\n",
       " 40378: tensor([ 0.4363,  0.3192, -0.0008, -0.0073, -0.0027,  0.7233,  0.4197, -0.0063,\n",
       "          0.0797,  0.0443], grad_fn=<DivBackward0>)}"
      ]
     },
     "execution_count": 21,
     "metadata": {},
     "output_type": "execute_result"
    }
   ],
   "source": [
    "time_outputs[0]"
   ]
  },
  {
   "cell_type": "code",
   "execution_count": 22,
   "id": "christian-catering",
   "metadata": {
    "scrolled": false
   },
   "outputs": [
    {
     "data": {
      "text/plain": [
       "[{10465: tensor([ 6.6372e-01, -3.1680e-03,  4.7953e-01, -5.6688e-03,  1.0736e-01,\n",
       "          -2.0546e-04,  5.1009e-01, -8.2295e-03, -3.0152e-03,  2.4020e-01],\n",
       "         grad_fn=<DivBackward0>),\n",
       "  14114: tensor([ 5.0055e-01, -7.8070e-04,  4.4055e-02, -1.2958e-03, -2.0540e-03,\n",
       "           2.5683e-01,  8.0195e-01, -7.0739e-03,  8.4307e-02,  1.7680e-01],\n",
       "         grad_fn=<DivBackward0>),\n",
       "  34403: tensor([ 8.8753e-01, -4.3606e-04,  1.2105e-01, -5.4741e-03, -4.3328e-03,\n",
       "           5.9953e-02,  4.4038e-01, -3.3498e-03, -6.1324e-03, -3.1645e-03],\n",
       "         grad_fn=<DivBackward0>),\n",
       "  3238: tensor([ 0.7059,  0.0119,  0.1919, -0.0016, -0.0048,  0.1958,  0.6530, -0.0057,\n",
       "          -0.0017, -0.0041], grad_fn=<DivBackward0>),\n",
       "  32840: tensor([ 6.5789e-01, -1.6645e-03, -4.0736e-04, -2.3901e-04, -7.2559e-03,\n",
       "          -3.9195e-04,  7.5307e-01, -3.1051e-04, -1.4953e-03, -2.4724e-03],\n",
       "         grad_fn=<DivBackward0>),\n",
       "  1006: tensor([ 0.9047, -0.0027,  0.2836, -0.0049,  0.0329,  0.0682,  0.3075, -0.0066,\n",
       "          -0.0021,  0.0253], grad_fn=<DivBackward0>),\n",
       "  563: tensor([ 6.5395e-01, -2.7840e-03,  3.7286e-01, -2.3129e-03,  1.4674e-02,\n",
       "           1.5813e-01,  5.7687e-01, -5.2663e-03, -1.2402e-04,  2.7439e-01],\n",
       "         grad_fn=<DivBackward0>),\n",
       "  9332: tensor([ 0.6058,  0.1426,  0.0953, -0.0092, -0.0041,  0.6129,  0.4303, -0.0052,\n",
       "           0.2066,  0.0033], grad_fn=<DivBackward0>),\n",
       "  35030: tensor([ 0.6620, -0.0020,  0.4928, -0.0109,  0.1908, -0.0007,  0.5312, -0.0095,\n",
       "          -0.0069,  0.0075], grad_fn=<DivBackward0>),\n",
       "  33046: tensor([ 0.5342, -0.0030,  0.7195, -0.0032,  0.1289,  0.0014,  0.4245, -0.0065,\n",
       "          -0.0062, -0.0009], grad_fn=<DivBackward0>),\n",
       "  39064: tensor([ 0.2143,  0.2957,  0.2739, -0.0067, -0.0069,  0.2924,  0.8402, -0.0046,\n",
       "          -0.0092, -0.0020], grad_fn=<DivBackward0>),\n",
       "  40378: tensor([ 5.2961e-01,  1.9972e-01, -2.3306e-04, -5.4026e-03, -2.6966e-03,\n",
       "           5.3779e-01,  5.6528e-01, -6.0991e-03,  9.6854e-02,  2.4780e-01],\n",
       "         grad_fn=<DivBackward0>)},\n",
       " {10465: tensor([ 0.4970, -0.0027,  0.6982, -0.0106,  0.2661, -0.0012,  0.4410, -0.0078,\n",
       "          -0.0060, -0.0031], grad_fn=<DivBackward0>),\n",
       "  14114: tensor([ 4.1220e-01, -6.6945e-05,  7.3882e-01, -9.8921e-03,  4.7180e-01,\n",
       "           2.4789e-01, -2.5819e-03, -4.7894e-03, -8.2082e-03, -3.3252e-03],\n",
       "         grad_fn=<DivBackward0>),\n",
       "  34403: tensor([ 6.9820e-01, -2.0780e-03,  1.0483e-01, -3.4902e-03, -4.3449e-03,\n",
       "           2.9184e-01,  5.8313e-01, -4.6378e-03, -1.7830e-04,  2.7614e-01],\n",
       "         grad_fn=<DivBackward0>),\n",
       "  3238: tensor([ 9.4973e-01, -7.6935e-04, -6.3378e-04, -4.1839e-03, -5.7474e-03,\n",
       "           1.3023e-01,  2.8457e-01, -1.9051e-03, -3.1404e-03, -3.7927e-03],\n",
       "         grad_fn=<DivBackward0>),\n",
       "  32840: tensor([ 4.5783e-01,  1.9786e-01, -1.6060e-03, -1.0247e-03, -5.5726e-03,\n",
       "           4.1943e-01,  7.5619e-01, -2.6623e-03, -4.8068e-04,  5.8727e-02],\n",
       "         grad_fn=<DivBackward0>),\n",
       "  1006: tensor([ 0.4665,  0.0934,  0.6792, -0.0048, -0.0038, -0.0010,  0.5581,  0.0294,\n",
       "          -0.0022, -0.0019], grad_fn=<DivBackward0>),\n",
       "  563: tensor([ 4.2166e-01, -3.1118e-03,  7.1727e-01, -4.0543e-03,  2.2449e-01,\n",
       "          -1.3469e-03,  5.0718e-01, -6.4366e-03, -5.3751e-03, -2.3063e-06],\n",
       "         grad_fn=<DivBackward0>),\n",
       "  9332: tensor([ 0.6155,  0.0228,  0.1766, -0.0032, -0.0028,  0.4940,  0.5878, -0.0033,\n",
       "          -0.0031, -0.0022], grad_fn=<DivBackward0>),\n",
       "  35030: tensor([ 4.1620e-01, -7.3242e-04,  4.5068e-02, -2.0178e-03, -2.4271e-03,\n",
       "           9.2126e-02,  8.4958e-01, -5.0312e-03, -3.1748e-03,  3.0728e-01],\n",
       "         grad_fn=<DivBackward0>),\n",
       "  33046: tensor([ 0.5121,  0.3965,  0.5464, -0.0076, -0.0087,  0.1468,  0.4795,  0.1739,\n",
       "          -0.0063, -0.0010], grad_fn=<DivBackward0>),\n",
       "  39064: tensor([ 0.0503,  0.0453,  0.3833, -0.0036, -0.0024,  0.4604,  0.7620, -0.0068,\n",
       "          -0.0044,  0.2360], grad_fn=<DivBackward0>),\n",
       "  40378: tensor([ 6.5400e-01, -2.2504e-03,  5.6002e-01, -7.1911e-03, -4.4371e-04,\n",
       "          -9.5697e-04,  5.0849e-01, -6.4054e-03, -2.8534e-03, -1.7112e-03],\n",
       "         grad_fn=<DivBackward0>)},\n",
       " {10465: tensor([-0.0023,  0.0741,  0.2473,  0.0735, -0.0017,  0.3374,  0.8949,  0.1151,\n",
       "          -0.0023, -0.0025], grad_fn=<DivBackward0>),\n",
       "  14114: tensor([ 0.5419,  0.0595, -0.0019,  0.1960, -0.0051,  0.3575,  0.6958, -0.0016,\n",
       "           0.2287, -0.0009], grad_fn=<DivBackward0>),\n",
       "  34403: tensor([ 7.6243e-01,  4.4544e-02,  3.7042e-01, -6.4959e-03, -5.2354e-03,\n",
       "          -6.2616e-04,  5.2846e-01,  1.1152e-02, -3.3067e-03, -5.1982e-03],\n",
       "         grad_fn=<DivBackward0>),\n",
       "  3238: tensor([ 0.6127,  0.5115,  0.4089, -0.0234, -0.0103, -0.0014, -0.0027,  0.4412,\n",
       "          -0.0100, -0.0151], grad_fn=<DivBackward0>),\n",
       "  32840: tensor([ 6.8431e-01, -3.9032e-03,  5.9574e-01, -1.8064e-03, -9.4785e-05,\n",
       "           1.6943e-02,  4.1993e-01, -5.4171e-03, -5.5414e-03,  1.0232e-02],\n",
       "         grad_fn=<DivBackward0>),\n",
       "  1006: tensor([ 2.3966e-01,  6.7729e-01,  3.3804e-01, -6.2523e-03, -4.5931e-03,\n",
       "           3.5578e-01,  4.5487e-01, -1.1208e-04, -5.6389e-03,  1.8972e-01],\n",
       "         grad_fn=<DivBackward0>),\n",
       "  563: tensor([ 5.4899e-01,  3.3003e-01, -1.8143e-03, -3.9841e-03, -7.6357e-03,\n",
       "          -4.2305e-04,  6.6950e-01,  3.7595e-01, -2.5745e-04, -5.7304e-03],\n",
       "         grad_fn=<DivBackward0>),\n",
       "  9332: tensor([ 0.6266,  0.1725, -0.0012, -0.0022, -0.0041,  0.2457,  0.6813, -0.0031,\n",
       "          -0.0025,  0.2302], grad_fn=<DivBackward0>),\n",
       "  35030: tensor([ 6.4360e-01,  1.3820e-02,  1.6897e-01, -4.8289e-03, -5.4081e-04,\n",
       "           3.9737e-01,  5.8421e-01, -6.1165e-03, -2.2455e-03,  2.4034e-01],\n",
       "         grad_fn=<DivBackward0>),\n",
       "  33046: tensor([ 0.5525,  0.0084,  0.4252, -0.0039, -0.0060,  0.1239,  0.6802,  0.1891,\n",
       "          -0.0011, -0.0045], grad_fn=<DivBackward0>),\n",
       "  39064: tensor([ 0.7041, -0.0015,  0.5526, -0.0038,  0.1210,  0.0541,  0.4257, -0.0056,\n",
       "          -0.0061, -0.0010], grad_fn=<DivBackward0>),\n",
       "  40378: tensor([ 0.4978, -0.0019,  0.5224, -0.0024,  0.0549,  0.1872,  0.6641, -0.0080,\n",
       "          -0.0024, -0.0019], grad_fn=<DivBackward0>)}]"
      ]
     },
     "execution_count": 22,
     "metadata": {},
     "output_type": "execute_result"
    }
   ],
   "source": [
    "model(\n",
    "    list(set(batches[0].head + batches[0].pos_tail + batches[0].neg_tail)),\n",
    "    mode='transR'\n",
    ")"
   ]
  },
  {
   "cell_type": "code",
   "execution_count": 23,
   "id": "statewide-convert",
   "metadata": {},
   "outputs": [
    {
     "data": {
      "text/plain": [
       "tensor(0.8795, grad_fn=<DivBackward0>)"
      ]
     },
     "execution_count": 23,
     "metadata": {},
     "output_type": "execute_result"
    }
   ],
   "source": [
    "model.transR_loss(batches, time_outputs)"
   ]
  },
  {
   "cell_type": "markdown",
   "id": "varying-andrews",
   "metadata": {},
   "source": [
    "# Recommender part"
   ]
  },
  {
   "cell_type": "code",
   "execution_count": 24,
   "id": "fourth-brighton",
   "metadata": {},
   "outputs": [],
   "source": [
    "customer_indices = list(map(lambda x: knowledge_graph.entity_set.entity2idx[x], knowledge_graph.entity_set.customer))\n",
    "product_indices = list(map(lambda x: knowledge_graph.entity_set.entity2idx[x], knowledge_graph.entity_set.product))"
   ]
  },
  {
   "cell_type": "code",
   "execution_count": 25,
   "id": "automotive-asbestos",
   "metadata": {},
   "outputs": [
    {
     "data": {
      "text/plain": [
       "(23709, 30130)"
      ]
     },
     "execution_count": 25,
     "metadata": {},
     "output_type": "execute_result"
    }
   ],
   "source": [
    "len(product_indices), len(customer_indices)"
   ]
  },
  {
   "cell_type": "code",
   "execution_count": 26,
   "id": "directed-rocket",
   "metadata": {},
   "outputs": [],
   "source": [
    "customer_dataset = KgCustomers(\n",
    "    splits=train_splits,\n",
    "    customer_indices=customer_indices,\n",
    "    product_indices=product_indices,\n",
    "    purchase_relation_idx=knowledge_graph.relation_set.relation2idx['purchase']\n",
    ")"
   ]
  },
  {
   "cell_type": "code",
   "execution_count": 27,
   "id": "sustained-eleven",
   "metadata": {},
   "outputs": [
    {
     "data": {
      "text/plain": [
       "5791"
      ]
     },
     "execution_count": 27,
     "metadata": {},
     "output_type": "execute_result"
    }
   ],
   "source": [
    "len(customer_dataset.customers_to_iterate_over)"
   ]
  },
  {
   "cell_type": "code",
   "execution_count": 28,
   "id": "entire-running",
   "metadata": {},
   "outputs": [
    {
     "data": {
      "text/plain": [
       "[32374, 32195, 32308, 32159]"
      ]
     },
     "execution_count": 28,
     "metadata": {},
     "output_type": "execute_result"
    }
   ],
   "source": [
    "customer_dataset.sample_pos_products_for_customer(splits[0], customer_indices[0], 4)"
   ]
  },
  {
   "cell_type": "code",
   "execution_count": 29,
   "id": "apart-lucas",
   "metadata": {},
   "outputs": [
    {
     "data": {
      "text/plain": [
       "[34350, 55199, 44647, 40712]"
      ]
     },
     "execution_count": 29,
     "metadata": {},
     "output_type": "execute_result"
    }
   ],
   "source": [
    "customer_dataset.sample_neg_products_for_customer(splits[0], customer_indices[0], 4)"
   ]
  },
  {
   "cell_type": "code",
   "execution_count": 30,
   "id": "quarterly-brother",
   "metadata": {},
   "outputs": [],
   "source": [
    "batch = customer_dataset[:30]"
   ]
  },
  {
   "cell_type": "code",
   "execution_count": 31,
   "id": "cooperative-walnut",
   "metadata": {},
   "outputs": [
    {
     "data": {
      "text/plain": [
       "CustomerPosNegBatch(customer=[9940, 14483, 5665, 8140, 4501, 4065, 6676, 852, 1693, 8685, 981, 13512, 4415, 8947, 9366, 14807, 4550, 2711, 13917, 144, 31063, 6532, 11983, 7015, 4249, 4053, 3421, 11574, 529, 14047], pos_products=tensor([[32207, 47429],\n",
       "        [35049, 35808],\n",
       "        [34118, 44658],\n",
       "        [39047, 43304],\n",
       "        [32568, 50960],\n",
       "        [37160, 36576],\n",
       "        [34900, 36047],\n",
       "        [39200, 34173],\n",
       "        [32885, 35305],\n",
       "        [38833, 35500],\n",
       "        [40465, 34900],\n",
       "        [41572, 36426],\n",
       "        [34382, 33085],\n",
       "        [33747, 54397],\n",
       "        [33928, 34906],\n",
       "        [49161, 49838],\n",
       "        [33388, 33579],\n",
       "        [35890, 36358],\n",
       "        [42853, 47884],\n",
       "        [35509, 34289],\n",
       "        [44562, 34006],\n",
       "        [32185, 32466],\n",
       "        [42443, 36982],\n",
       "        [33486, 33365],\n",
       "        [32621, 46056],\n",
       "        [32855, 33735],\n",
       "        [39815, 35609],\n",
       "        [39234, 37888],\n",
       "        [36779, 32330],\n",
       "        [36952, 46215]]), neg_products=tensor([[45779, 38700],\n",
       "        [41751, 38975],\n",
       "        [50495, 46008],\n",
       "        [49121, 52108],\n",
       "        [44191, 46005],\n",
       "        [40502, 37860],\n",
       "        [41907, 32455],\n",
       "        [34160, 46086],\n",
       "        [41074, 54526],\n",
       "        [39051, 42225],\n",
       "        [37697, 55396],\n",
       "        [35779, 38674],\n",
       "        [42794, 48902],\n",
       "        [32811, 39721],\n",
       "        [40799, 35171],\n",
       "        [47355, 45110],\n",
       "        [51027, 54620],\n",
       "        [42516, 43700],\n",
       "        [44410, 43438],\n",
       "        [46847, 47442],\n",
       "        [34147, 51603],\n",
       "        [47393, 36336],\n",
       "        [54595, 46368],\n",
       "        [46217, 49454],\n",
       "        [37206, 47522],\n",
       "        [34039, 48593],\n",
       "        [44808, 44588],\n",
       "        [35195, 51365],\n",
       "        [48822, 54995],\n",
       "        [55843, 47025]]))"
      ]
     },
     "execution_count": 31,
     "metadata": {},
     "output_type": "execute_result"
    }
   ],
   "source": [
    "batch"
   ]
  },
  {
   "cell_type": "code",
   "execution_count": 32,
   "id": "roman-stream",
   "metadata": {},
   "outputs": [
    {
     "data": {
      "text/plain": [
       "[32207,\n",
       " 35049,\n",
       " 34118,\n",
       " 39047,\n",
       " 32568,\n",
       " 37160,\n",
       " 34900,\n",
       " 39200,\n",
       " 32885,\n",
       " 38833,\n",
       " 40465,\n",
       " 41572,\n",
       " 34382,\n",
       " 33747,\n",
       " 33928,\n",
       " 49161,\n",
       " 33388,\n",
       " 35890,\n",
       " 42853,\n",
       " 35509,\n",
       " 44562,\n",
       " 32185,\n",
       " 42443,\n",
       " 33486,\n",
       " 32621,\n",
       " 32855,\n",
       " 39815,\n",
       " 39234,\n",
       " 36779,\n",
       " 36952]"
      ]
     },
     "execution_count": 32,
     "metadata": {},
     "output_type": "execute_result"
    }
   ],
   "source": [
    "batch.pos_products.T.numpy().tolist()[0]"
   ]
  },
  {
   "cell_type": "code",
   "execution_count": 33,
   "id": "comprehensive-trustee",
   "metadata": {},
   "outputs": [
    {
     "data": {
      "text/plain": [
       "[32207,\n",
       " 35049,\n",
       " 34118,\n",
       " 39047,\n",
       " 32568,\n",
       " 37160,\n",
       " 34900,\n",
       " 39200,\n",
       " 32885,\n",
       " 38833,\n",
       " 40465,\n",
       " 41572,\n",
       " 34382,\n",
       " 33747,\n",
       " 33928,\n",
       " 49161,\n",
       " 33388,\n",
       " 35890,\n",
       " 42853,\n",
       " 35509,\n",
       " 44562,\n",
       " 32185,\n",
       " 42443,\n",
       " 33486,\n",
       " 32621,\n",
       " 32855,\n",
       " 39815,\n",
       " 39234,\n",
       " 36779,\n",
       " 36952]"
      ]
     },
     "execution_count": 33,
     "metadata": {},
     "output_type": "execute_result"
    }
   ],
   "source": [
    "batch.pos_products.T.numpy().tolist()[0]"
   ]
  },
  {
   "cell_type": "code",
   "execution_count": 34,
   "id": "approximate-recording",
   "metadata": {},
   "outputs": [
    {
     "data": {
      "text/plain": [
       "torch.Size([30, 3, 20])"
      ]
     },
     "execution_count": 34,
     "metadata": {},
     "output_type": "execute_result"
    }
   ],
   "source": [
    "model._embed_nodes(batch.pos_products.T.numpy().tolist()[0], concat_layers=True, time_start=0).size()"
   ]
  },
  {
   "cell_type": "code",
   "execution_count": 35,
   "id": "contrary-break",
   "metadata": {},
   "outputs": [
    {
     "data": {
      "text/plain": [
       "torch.Size([30, 3, 10])"
      ]
     },
     "execution_count": 35,
     "metadata": {},
     "output_type": "execute_result"
    }
   ],
   "source": [
    "model._embed_nodes(batch.pos_products.T.numpy().tolist()[0], concat_layers=False, time_start=0).size()"
   ]
  },
  {
   "cell_type": "code",
   "execution_count": 36,
   "id": "advisory-south",
   "metadata": {},
   "outputs": [
    {
     "data": {
      "text/plain": [
       "tensor(0.7091, grad_fn=<DivBackward0>)"
      ]
     },
     "execution_count": 36,
     "metadata": {},
     "output_type": "execute_result"
    }
   ],
   "source": [
    "model.recommender_task_loss(batch)"
   ]
  },
  {
   "cell_type": "markdown",
   "id": "communist-break",
   "metadata": {},
   "source": [
    "# Get customer representations from the last lstm timestep"
   ]
  },
  {
   "cell_type": "code",
   "execution_count": 37,
   "id": "sunset-corpus",
   "metadata": {},
   "outputs": [],
   "source": [
    "customer_embeddings = model(customer_dataset.customers_to_iterate_over, mode='customers')"
   ]
  },
  {
   "cell_type": "code",
   "execution_count": 38,
   "id": "missing-significance",
   "metadata": {},
   "outputs": [
    {
     "data": {
      "text/plain": [
       "(torch.Size([5791, 20]), 5791)"
      ]
     },
     "execution_count": 38,
     "metadata": {},
     "output_type": "execute_result"
    }
   ],
   "source": [
    "customer_embeddings.size(), len(customer_dataset.customers_to_iterate_over)"
   ]
  },
  {
   "cell_type": "code",
   "execution_count": 41,
   "id": "geographic-flexibility",
   "metadata": {},
   "outputs": [],
   "source": [
    "del customer_embeddings"
   ]
  },
  {
   "cell_type": "markdown",
   "id": "embedded-hollow",
   "metadata": {},
   "source": [
    "# Get product representations from the last timestep"
   ]
  },
  {
   "cell_type": "code",
   "execution_count": 39,
   "id": "plain-protein",
   "metadata": {},
   "outputs": [],
   "source": [
    "product_embeddings = model(product_indices, mode='products')"
   ]
  },
  {
   "cell_type": "code",
   "execution_count": 40,
   "id": "statutory-issue",
   "metadata": {},
   "outputs": [
    {
     "data": {
      "text/plain": [
       "(torch.Size([23709, 20]), 23709)"
      ]
     },
     "execution_count": 40,
     "metadata": {},
     "output_type": "execute_result"
    }
   ],
   "source": [
    "product_embeddings.size(), len(product_indices)"
   ]
  },
  {
   "cell_type": "code",
   "execution_count": 42,
   "id": "configured-canvas",
   "metadata": {},
   "outputs": [],
   "source": [
    "del product_embeddings"
   ]
  },
  {
   "cell_type": "markdown",
   "id": "numeric-bulletin",
   "metadata": {},
   "source": [
    "# Get similarity scores for every user item pair"
   ]
  },
  {
   "cell_type": "code",
   "execution_count": 100,
   "id": "specific-lending",
   "metadata": {},
   "outputs": [],
   "source": [
    "test_interactions = get_test_interactions(\n",
    "    customer_indices, test_split, knowledge_graph.relation_set.relation2idx['purchase']\n",
    ")"
   ]
  },
  {
   "cell_type": "code",
   "execution_count": 108,
   "id": "documentary-brisbane",
   "metadata": {},
   "outputs": [],
   "source": [
    "def precision_at_k(hits: np.ndarray, k: int) -> np.ndarray:\n",
    "    return hits[:, :k].mean(axis=1)\n",
    "\n",
    "def recall_at_k(hits: np.ndarray, k: int) -> np.ndarray:\n",
    "    return hits[:, :k].sum(axis=1) / hits.sum(axis=1)\n",
    "\n",
    "def ndcg_at_k(hits: np.ndarray, k: int) -> np.ndarray:\n",
    "    def dcg_at_k(hits_k: np.ndarray) -> np.ndarray:\n",
    "        return np.sum((2**hits_k - 1) / np.log2(np.arange(2, k + 2)), axis=1)\n",
    "\n",
    "    hits_k = hits[:, :k]\n",
    "    dcg = dcg_at_k(hits_k)\n",
    "    sorted_hits_k = np.sort(hits_k)[::-1]\n",
    "    \n",
    "    idcg = dcg_at_k(sorted_hits_k)\n",
    "    idcg[idcg == 0] = np.inf\n",
    "    \n",
    "    return dcg / idcg"
   ]
  },
  {
   "cell_type": "code",
   "execution_count": 109,
   "id": "streaming-fleet",
   "metadata": {},
   "outputs": [],
   "source": [
    "def calculate_metrics_at_k(k: int, scores: torch.Tensor, interactions_list: list) -> tuple:\n",
    "    \n",
    "    interactions_matrix = np.zeros((scores.size(0), scores.size(1)))\n",
    "    for idx, interactions in enumerate(interactions_list):\n",
    "        interactions_matrix[idx, interactions] = 1\n",
    "    \n",
    "    _, sorted_items = torch.sort(scores, descending=True)\n",
    "    sorted_items = sorted_items.numpy()\n",
    "    \n",
    "    binary_hits = np.zeros_like(interactions_matrix)\n",
    "    for idx, items in enumerate(sorted_items):\n",
    "        binary_hits[idx, :] = interactions_matrix[idx, items]\n",
    "\n",
    "    precision = precision_at_k(binary_hits, k)\n",
    "    recall = recall_at_k(binary_hits, k)\n",
    "    ndcg = ndcg_at_k(binary_hits, k)\n",
    "        \n",
    "    return precision, recall, ndcg"
   ]
  },
  {
   "cell_type": "code",
   "execution_count": 112,
   "id": "understood-velvet",
   "metadata": {},
   "outputs": [],
   "source": [
    "def evaluate(model: Model, interactions_dict: dict, product_ids: list, batch_size: int, k: int) -> tuple:\n",
    "    \n",
    "    customer_ids = list(interactions_dict.keys())\n",
    "    \n",
    "    model.eval()\n",
    "    \n",
    "    precision_k = []\n",
    "    recall_k = []\n",
    "    ndcg_k = []\n",
    "    \n",
    "    with torch.no_grad():\n",
    "        product_embeddings = model(product_ids, mode='products')\n",
    "        \n",
    "        product_to_idx = {product: idx for idx, product in enumerate(product_ids)}\n",
    "        \n",
    "        interactions_dict = valmap(\n",
    "            lambda x_list: list(map(lambda item: product_to_idx[item], x_list)),\n",
    "            interactions_dict\n",
    "        )\n",
    "        \n",
    "        batch_idx = 0\n",
    "        n_batches = len(customer_ids) // batch_size + 1\n",
    "        for _ in range(n_batches):\n",
    "            customer_batch = customer_ids[batch_idx: batch_idx + batch_size]\n",
    "            interactions_list = [interactions_dict[customer] for customer in customer_batch] \n",
    "            scores = model(customer_batch, mode='customers') @ product_embeddings.T\n",
    "            batch_precision, batch_recall, batch_ndcg = calculate_metrics_at_k(k, scores, interactions_list)\n",
    "            precision_k.append(batch_precision)\n",
    "            recall_k.append(batch_recall)\n",
    "            ndcg_k.append(batch_ndcg)\n",
    "            break\n",
    "            \n",
    "    precision_k = sum(np.concatenate(precision_k)) / len(customer_ids)\n",
    "    recall_k = sum(np.concatenate(recall_k)) / len(customer_ids)\n",
    "    ndcg_k = sum(np.concatenate(ndcg_k)) / len(customer_ids)\n",
    "    \n",
    "    return precision_k, recall_k, ndcg_k"
   ]
  },
  {
   "cell_type": "code",
   "execution_count": 114,
   "id": "significant-armenia",
   "metadata": {},
   "outputs": [
    {
     "data": {
      "text/plain": [
       "(3.017319413433106e-06, 3.017319413433106e-06, 0.0)"
      ]
     },
     "execution_count": 114,
     "metadata": {},
     "output_type": "execute_result"
    }
   ],
   "source": [
    "evaluate(model, test_interactions, product_indices, 32, 20)"
   ]
  }
 ],
 "metadata": {
  "kernelspec": {
   "display_name": "Python 3",
   "language": "python",
   "name": "python3"
  },
  "language_info": {
   "codemirror_mode": {
    "name": "ipython",
    "version": 3
   },
   "file_extension": ".py",
   "mimetype": "text/x-python",
   "name": "python",
   "nbconvert_exporter": "python",
   "pygments_lexer": "ipython3",
   "version": "3.8.5"
  }
 },
 "nbformat": 4,
 "nbformat_minor": 5
}
