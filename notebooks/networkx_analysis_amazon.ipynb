{
 "cells": [
  {
   "cell_type": "code",
   "execution_count": 1,
   "id": "alien-season",
   "metadata": {},
   "outputs": [],
   "source": [
    "%load_ext autoreload\n",
    "%autoreload 2"
   ]
  },
  {
   "cell_type": "code",
   "execution_count": 2,
   "id": "uniform-designation",
   "metadata": {},
   "outputs": [],
   "source": [
    "import sys  \n",
    "sys.path.insert(0, '..')"
   ]
  },
  {
   "cell_type": "code",
   "execution_count": 3,
   "id": "excess-theta",
   "metadata": {},
   "outputs": [],
   "source": [
    "from main import get_amazon_graph\n",
    "import networkx as nx\n",
    "import numpy as np\n",
    "from datetime import datetime\n",
    "import matplotlib.pyplot as plt\n",
    "%matplotlib inline"
   ]
  },
  {
   "cell_type": "code",
   "execution_count": 4,
   "id": "worth-gateway",
   "metadata": {},
   "outputs": [
    {
     "name": "stderr",
     "output_type": "stream",
     "text": [
      "2021-04-29 22:30:55,146 - numexpr.utils - [INFO] - Note: NumExpr detected 12 cores but \"NUMEXPR_MAX_THREADS\" not set, so enforcing safe limit of 8.\n",
      "2021-04-29 22:30:55,147 - numexpr.utils - [INFO] - NumExpr defaulting to 8 threads.\n",
      "2021-04-29 22:30:55,182 - AmazonGraph - [INFO] - loading entities\n",
      "2021-04-29 22:30:55,243 - AmazonGraph - [INFO] - loading relations\n",
      "2021-04-29 22:30:57,925 - AmazonGraph - [INFO] - loaded purchase\n",
      "2021-04-29 22:30:58,164 - AmazonGraph - [INFO] - loaded also_viewed\n",
      "2021-04-29 22:30:58,390 - AmazonGraph - [INFO] - loaded also_bought\n",
      "2021-04-29 22:30:58,534 - AmazonGraph - [INFO] - loaded produced_by\n",
      "2021-04-29 22:30:58,682 - AmazonGraph - [INFO] - loaded belongs_to_category\n"
     ]
    }
   ],
   "source": [
    "knowledge_graph = get_amazon_graph('Magazine_Subscriptions', user_k_core=2, item_k_core=1)"
   ]
  },
  {
   "cell_type": "code",
   "execution_count": 8,
   "id": "functional-democrat",
   "metadata": {},
   "outputs": [
    {
     "name": "stderr",
     "output_type": "stream",
     "text": [
      "2021-04-29 22:31:05,451 - AmazonGraph - [INFO] - converting belongs_to_category\n",
      "2021-04-29 22:31:05,589 - AmazonGraph - [INFO] - converting also_bought\n",
      "2021-04-29 22:31:05,841 - AmazonGraph - [INFO] - converting produced_by\n",
      "2021-04-29 22:31:05,859 - AmazonGraph - [INFO] - converting purchase\n",
      "2021-04-29 22:31:06,221 - AmazonGraph - [INFO] - converting also_viewed\n"
     ]
    }
   ],
   "source": [
    "gr = knowledge_graph.to_networkx_graph()"
   ]
  },
  {
   "cell_type": "code",
   "execution_count": 9,
   "id": "frequent-profile",
   "metadata": {},
   "outputs": [
    {
     "data": {
      "text/plain": [
       "(27703, 119946)"
      ]
     },
     "execution_count": 9,
     "metadata": {},
     "output_type": "execute_result"
    }
   ],
   "source": [
    "gr.number_of_nodes(), gr.number_of_edges()"
   ]
  },
  {
   "cell_type": "code",
   "execution_count": 10,
   "id": "turkish-vision",
   "metadata": {},
   "outputs": [
    {
     "name": "stdout",
     "output_type": "stream",
     "text": [
      "average degree centrality: 0.0003125919849529279\n"
     ]
    }
   ],
   "source": [
    "print(f'average degree centrality: {np.mean(list(nx.degree_centrality(gr).values()))}')"
   ]
  },
  {
   "cell_type": "code",
   "execution_count": 11,
   "id": "connected-assignment",
   "metadata": {},
   "outputs": [
    {
     "name": "stdout",
     "output_type": "stream",
     "text": [
      "number of strongly connected components: 15047\n",
      "number of strongly connected components of size more than 1: 1\n"
     ]
    }
   ],
   "source": [
    "strongly_connected_components = list(nx.strongly_connected_components(gr))\n",
    "print(f'number of strongly connected components: {len(strongly_connected_components)}')\n",
    "print(f'number of strongly connected components of size more than 1: {len(list(filter(lambda x: len(x) > 1, strongly_connected_components)))}')"
   ]
  },
  {
   "cell_type": "code",
   "execution_count": 12,
   "id": "caring-arbor",
   "metadata": {},
   "outputs": [
    {
     "data": {
      "text/plain": [
       "12657"
      ]
     },
     "execution_count": 12,
     "metadata": {},
     "output_type": "execute_result"
    }
   ],
   "source": [
    "len(list(filter(lambda x: len(x) > 1, strongly_connected_components))[0])"
   ]
  },
  {
   "cell_type": "code",
   "execution_count": 13,
   "id": "agricultural-allah",
   "metadata": {},
   "outputs": [],
   "source": [
    "largest_comp = next(reversed(sorted(strongly_connected_components, key=len)))"
   ]
  },
  {
   "cell_type": "code",
   "execution_count": 14,
   "id": "established-cable",
   "metadata": {},
   "outputs": [
    {
     "name": "stdout",
     "output_type": "stream",
     "text": [
      "average degree centrality in the largest connected component: 0.0009292389983825903\n"
     ]
    }
   ],
   "source": [
    "print(f'average degree centrality in the largest connected component: {np.mean(list(nx.degree_centrality(gr.subgraph(largest_comp)).values()))}')"
   ]
  },
  {
   "cell_type": "code",
   "execution_count": 15,
   "id": "municipal-arkansas",
   "metadata": {},
   "outputs": [
    {
     "name": "stdout",
     "output_type": "stream",
     "text": [
      "average degree in the largest comp: 11.76\n"
     ]
    }
   ],
   "source": [
    "degrees = nx.degree(gr.subgraph(largest_comp))\n",
    "print(f'average degree in the largest comp: {sum(val for _, val in degrees) / len(degrees):.2f}')"
   ]
  },
  {
   "cell_type": "code",
   "execution_count": null,
   "id": "engaging-crack",
   "metadata": {},
   "outputs": [],
   "source": []
  }
 ],
 "metadata": {
  "kernelspec": {
   "display_name": "Python 3",
   "language": "python",
   "name": "python3"
  },
  "language_info": {
   "codemirror_mode": {
    "name": "ipython",
    "version": 3
   },
   "file_extension": ".py",
   "mimetype": "text/x-python",
   "name": "python",
   "nbconvert_exporter": "python",
   "pygments_lexer": "ipython3",
   "version": "3.8.5"
  }
 },
 "nbformat": 4,
 "nbformat_minor": 5
}
