{
 "cells": [
  {
   "cell_type": "code",
   "execution_count": 1,
   "id": "pleasant-rabbit",
   "metadata": {},
   "outputs": [],
   "source": [
    "%load_ext autoreload\n",
    "%autoreload 2"
   ]
  },
  {
   "cell_type": "code",
   "execution_count": 2,
   "id": "continued-moderator",
   "metadata": {},
   "outputs": [],
   "source": [
    "import sys  \n",
    "sys.path.insert(0, '..')"
   ]
  },
  {
   "cell_type": "code",
   "execution_count": 3,
   "id": "organized-occupation",
   "metadata": {},
   "outputs": [],
   "source": [
    "from main import get_tafeng_graph\n",
    "import networkx as nx\n",
    "import numpy as np\n",
    "from datetime import datetime\n",
    "import matplotlib.pyplot as plt\n",
    "%matplotlib inline"
   ]
  },
  {
   "cell_type": "code",
   "execution_count": 4,
   "id": "undefined-moment",
   "metadata": {},
   "outputs": [
    {
     "name": "stderr",
     "output_type": "stream",
     "text": [
      "2021-04-30 11:59:44,793 - numexpr.utils - [INFO] - Note: NumExpr detected 12 cores but \"NUMEXPR_MAX_THREADS\" not set, so enforcing safe limit of 8.\n",
      "2021-04-30 11:59:44,794 - numexpr.utils - [INFO] - NumExpr defaulting to 8 threads.\n",
      "2021-04-30 11:59:47,769 - TaFengGraph - [INFO] - loading entities\n",
      "2021-04-30 11:59:48,076 - TaFengGraph - [INFO] - loading relations\n",
      "2021-04-30 12:01:08,472 - TaFengGraph - [INFO] - loaded purchase\n",
      "2021-04-30 12:01:56,534 - TaFengGraph - [INFO] - loaded bought_in\n",
      "2021-04-30 12:02:43,828 - TaFengGraph - [INFO] - loaded belongs_to_age_group\n",
      "2021-04-30 12:03:40,746 - TaFengGraph - [INFO] - loaded belongs_to_subclass\n"
     ]
    }
   ],
   "source": [
    "knowledge_graph = get_tafeng_graph(user_k_core=2, item_k_core=1)"
   ]
  },
  {
   "cell_type": "code",
   "execution_count": 10,
   "id": "corrected-pottery",
   "metadata": {},
   "outputs": [
    {
     "name": "stderr",
     "output_type": "stream",
     "text": [
      "2021-04-30 12:05:35,051 - TaFengGraph - [INFO] - converting bought_in\n",
      "2021-04-30 12:05:36,523 - TaFengGraph - [INFO] - converting purchase\n",
      "2021-04-30 12:05:48,040 - TaFengGraph - [INFO] - converting belongs_to_age_group\n",
      "2021-04-30 12:05:48,330 - TaFengGraph - [INFO] - converting belongs_to_subclass\n"
     ]
    }
   ],
   "source": [
    "gr = knowledge_graph.to_networkx_graph()"
   ]
  },
  {
   "cell_type": "code",
   "execution_count": 11,
   "id": "everyday-mozambique",
   "metadata": {},
   "outputs": [
    {
     "data": {
      "text/plain": [
       "(55854, 1748910)"
      ]
     },
     "execution_count": 11,
     "metadata": {},
     "output_type": "execute_result"
    }
   ],
   "source": [
    "gr.number_of_nodes(), gr.number_of_edges()"
   ]
  },
  {
   "cell_type": "code",
   "execution_count": 12,
   "id": "distant-dressing",
   "metadata": {},
   "outputs": [
    {
     "name": "stdout",
     "output_type": "stream",
     "text": [
      "average degree centrality: 0.0011212350640894882\n"
     ]
    }
   ],
   "source": [
    "print(f'average degree centrality: {np.mean(list(nx.degree_centrality(gr).values()))}')"
   ]
  },
  {
   "cell_type": "code",
   "execution_count": 13,
   "id": "exact-radar",
   "metadata": {},
   "outputs": [
    {
     "name": "stdout",
     "output_type": "stream",
     "text": [
      "number of strongly connected components: 1\n",
      "number of strongly connected components of size more than 1: 1\n"
     ]
    }
   ],
   "source": [
    "strongly_connected_components = list(nx.strongly_connected_components(gr))\n",
    "print(f'number of strongly connected components: {len(strongly_connected_components)}')\n",
    "print(f'number of strongly connected components of size more than 1: {len(list(filter(lambda x: len(x) > 1, strongly_connected_components)))}')"
   ]
  },
  {
   "cell_type": "code",
   "execution_count": 14,
   "id": "western-genealogy",
   "metadata": {},
   "outputs": [
    {
     "data": {
      "text/plain": [
       "55854"
      ]
     },
     "execution_count": 14,
     "metadata": {},
     "output_type": "execute_result"
    }
   ],
   "source": [
    "len(list(filter(lambda x: len(x) > 1, strongly_connected_components))[0])"
   ]
  },
  {
   "cell_type": "code",
   "execution_count": 15,
   "id": "local-geology",
   "metadata": {},
   "outputs": [],
   "source": [
    "largest_comp = next(reversed(sorted(strongly_connected_components, key=len)))"
   ]
  },
  {
   "cell_type": "code",
   "execution_count": 16,
   "id": "solid-basic",
   "metadata": {},
   "outputs": [
    {
     "name": "stdout",
     "output_type": "stream",
     "text": [
      "average degree centrality in the largest connected component: 0.0011212350640894882\n"
     ]
    }
   ],
   "source": [
    "print(f'average degree centrality in the largest connected component: {np.mean(list(nx.degree_centrality(gr.subgraph(largest_comp)).values()))}')"
   ]
  },
  {
   "cell_type": "code",
   "execution_count": 17,
   "id": "sublime-motivation",
   "metadata": {},
   "outputs": [
    {
     "name": "stdout",
     "output_type": "stream",
     "text": [
      "average degree in the largest comp: 62.62\n"
     ]
    }
   ],
   "source": [
    "degrees = nx.degree(gr.subgraph(largest_comp))\n",
    "print(f'average degree in the largest comp: {sum(val for _, val in degrees) / len(degrees):.2f}')"
   ]
  },
  {
   "cell_type": "code",
   "execution_count": null,
   "id": "advised-telephone",
   "metadata": {},
   "outputs": [],
   "source": []
  }
 ],
 "metadata": {
  "kernelspec": {
   "display_name": "Python 3",
   "language": "python",
   "name": "python3"
  },
  "language_info": {
   "codemirror_mode": {
    "name": "ipython",
    "version": 3
   },
   "file_extension": ".py",
   "mimetype": "text/x-python",
   "name": "python",
   "nbconvert_exporter": "python",
   "pygments_lexer": "ipython3",
   "version": "3.8.5"
  }
 },
 "nbformat": 4,
 "nbformat_minor": 5
}
