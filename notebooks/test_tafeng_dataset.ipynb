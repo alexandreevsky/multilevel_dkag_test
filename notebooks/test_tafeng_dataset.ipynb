{
 "cells": [
  {
   "cell_type": "code",
   "execution_count": 1,
   "metadata": {},
   "outputs": [],
   "source": [
    "%load_ext autoreload\n",
    "%autoreload 2"
   ]
  },
  {
   "cell_type": "code",
   "execution_count": 2,
   "metadata": {},
   "outputs": [],
   "source": [
    "import sys  \n",
    "sys.path.insert(0, '..')"
   ]
  },
  {
   "cell_type": "code",
   "execution_count": 34,
   "metadata": {},
   "outputs": [],
   "source": [
    "from utils import get_tafeng_graph, load_weights\n",
    "from knowledge_graph.datasets import KgPosNegTriples, TimeSplittedDataset, KgCustomers, EdgeWithType\n",
    "from knowledge_graph.layer_generators import LayerNodeGenerator\n",
    "from utils import get_dates_for_split, get_graph_splits, get_test_interactions, load_tafeng_dataframe\n",
    "from models.Model import Model\n",
    "from models.config import Config\n",
    "import numpy as np\n",
    "import random\n",
    "from tqdm.notebook import tqdm\n",
    "import sys\n",
    "import torch\n",
    "import torch.optim as optim\n",
    "from train import train_transR_one_epoch, train_lstm_one_epoch, evaluate\n",
    "from datetime import datetime"
   ]
  },
  {
   "cell_type": "code",
   "execution_count": 4,
   "metadata": {},
   "outputs": [
    {
     "name": "stderr",
     "output_type": "stream",
     "text": [
      "2021-05-12 13:26:16,156 - TaFengGraph - [INFO] - loading entities\n",
      "2021-05-12 13:26:16,427 - TaFengGraph - [INFO] - loading relations\n",
      "2021-05-12 13:27:55,541 - TaFengGraph - [INFO] - loaded purchase\n",
      "2021-05-12 13:28:58,236 - TaFengGraph - [INFO] - loaded bought_in\n",
      "2021-05-12 13:30:00,504 - TaFengGraph - [INFO] - loaded belongs_to_age_group\n",
      "2021-05-12 13:31:04,691 - TaFengGraph - [INFO] - loaded belongs_to_subclass\n"
     ]
    }
   ],
   "source": [
    "knowledge_graph = get_tafeng_graph(user_k_core=2, item_k_core=1)"
   ]
  },
  {
   "cell_type": "code",
   "execution_count": 5,
   "metadata": {},
   "outputs": [],
   "source": [
    "timestamps = knowledge_graph.relation_set.get_all_timestamps()\n",
    "splitting_points = get_dates_for_split(timestamps, n_points=5)"
   ]
  },
  {
   "cell_type": "code",
   "execution_count": 6,
   "metadata": {},
   "outputs": [
    {
     "name": "stderr",
     "output_type": "stream",
     "text": [
      "2021-05-12 13:31:06,233 - TaFengGraph - [INFO] - converting belongs_to_subclass\n",
      "2021-05-12 13:31:06,713 - TaFengGraph - [INFO] - converting bought_in\n",
      "2021-05-12 13:31:07,952 - TaFengGraph - [INFO] - converting purchase\n",
      "2021-05-12 13:31:09,570 - TaFengGraph - [INFO] - converting belongs_to_age_group\n",
      "2021-05-12 13:31:10,012 - TaFengGraph - [INFO] - converting belongs_to_subclass\n",
      "2021-05-12 13:31:10,198 - TaFengGraph - [INFO] - converting bought_in\n",
      "2021-05-12 13:31:11,117 - TaFengGraph - [INFO] - converting purchase\n",
      "2021-05-12 13:31:12,832 - TaFengGraph - [INFO] - converting belongs_to_age_group\n",
      "2021-05-12 13:31:13,062 - TaFengGraph - [INFO] - converting belongs_to_subclass\n",
      "2021-05-12 13:31:13,602 - TaFengGraph - [INFO] - converting bought_in\n",
      "2021-05-12 13:31:14,250 - TaFengGraph - [INFO] - converting purchase\n",
      "2021-05-12 13:31:16,009 - TaFengGraph - [INFO] - converting belongs_to_age_group\n",
      "2021-05-12 13:31:16,241 - TaFengGraph - [INFO] - converting belongs_to_subclass\n",
      "2021-05-12 13:31:16,423 - TaFengGraph - [INFO] - converting bought_in\n",
      "2021-05-12 13:31:17,635 - TaFengGraph - [INFO] - converting purchase\n",
      "2021-05-12 13:31:18,931 - TaFengGraph - [INFO] - converting belongs_to_age_group\n",
      "2021-05-12 13:31:19,155 - TaFengGraph - [INFO] - converting belongs_to_subclass\n",
      "2021-05-12 13:31:19,335 - TaFengGraph - [INFO] - converting bought_in\n",
      "2021-05-12 13:31:20,620 - TaFengGraph - [INFO] - converting purchase\n",
      "2021-05-12 13:31:21,967 - TaFengGraph - [INFO] - converting belongs_to_age_group\n",
      "2021-05-12 13:31:22,200 - TaFengGraph - [INFO] - converting belongs_to_subclass\n",
      "2021-05-12 13:31:22,384 - TaFengGraph - [INFO] - converting bought_in\n",
      "2021-05-12 13:31:23,839 - TaFengGraph - [INFO] - converting purchase\n",
      "2021-05-12 13:31:25,219 - TaFengGraph - [INFO] - converting belongs_to_age_group\n"
     ]
    }
   ],
   "source": [
    "splits = get_graph_splits(knowledge_graph, splitting_points)\n",
    "del timestamps, splitting_points"
   ]
  },
  {
   "cell_type": "code",
   "execution_count": 7,
   "metadata": {},
   "outputs": [],
   "source": [
    "train_splits = splits[:-1]\n",
    "test_split = splits[-1]"
   ]
  },
  {
   "cell_type": "code",
   "execution_count": 8,
   "metadata": {},
   "outputs": [],
   "source": [
    "pos_neg_triples_ds = [KgPosNegTriples(split) for split in train_splits]\n",
    "ts_ds = TimeSplittedDataset(pos_neg_triples_ds)"
   ]
  },
  {
   "cell_type": "code",
   "execution_count": 9,
   "metadata": {},
   "outputs": [],
   "source": [
    "customer_indices = list(map(lambda x: knowledge_graph.entity_set.entity2idx[x], knowledge_graph.entity_set.customer))\n",
    "product_indices = list(map(lambda x: knowledge_graph.entity_set.entity2idx[x], knowledge_graph.entity_set.product))"
   ]
  },
  {
   "cell_type": "code",
   "execution_count": 23,
   "metadata": {},
   "outputs": [],
   "source": [
    "def test_pos_neg_triples(split):\n",
    "    batch_size = 100\n",
    "    test_kg_pos_neg_triples = KgPosNegTriples(split)\n",
    "    n_batches = len(test_kg_pos_neg_triples) // batch_size + 1\n",
    "    batch_idx = 0\n",
    "    for _ in tqdm(range(n_batches)):\n",
    "        batch = test_kg_pos_neg_triples[batch_idx: batch_idx + batch_size]\n",
    "        for idx in range(batch_size):\n",
    "            assert EdgeWithType(relation_type=batch.relation[idx], to=batch.neg_tail[idx]) not in split[batch.head[idx]]\n",
    "            assert EdgeWithType(relation_type=batch.relation[idx], to=batch.pos_tail[idx]) in split[batch.head[idx]]"
   ]
  },
  {
   "cell_type": "code",
   "execution_count": 24,
   "metadata": {},
   "outputs": [
    {
     "data": {
      "application/vnd.jupyter.widget-view+json": {
       "model_id": "649902f13b79496cbc353add7e664b2a",
       "version_major": 2,
       "version_minor": 0
      },
      "text/plain": [
       "HBox(children=(FloatProgress(value=0.0, max=559.0), HTML(value='')))"
      ]
     },
     "metadata": {},
     "output_type": "display_data"
    },
    {
     "name": "stdout",
     "output_type": "stream",
     "text": [
      "\n"
     ]
    }
   ],
   "source": [
    "test_pos_neg_triples(test_split)"
   ]
  },
  {
   "cell_type": "code",
   "execution_count": 32,
   "metadata": {},
   "outputs": [],
   "source": [
    "def test_customer_ds(splits):\n",
    "    purchase_relation_idx=knowledge_graph.relation_set.relation2idx['purchase']\n",
    "    customer_ds = KgCustomers(\n",
    "        splits=train_splits,\n",
    "        customer_indices=customer_indices,\n",
    "        product_indices=product_indices,\n",
    "        purchase_relation_idx=purchase_relation_idx\n",
    "    )\n",
    "    \n",
    "    batch_size = 100\n",
    "    n_batches = len(customer_ds) // batch_size + 1\n",
    "    batch_idx = 0\n",
    "    for _ in tqdm(range(n_batches)):\n",
    "        batch = customer_ds[batch_idx: batch_idx + batch_size]\n",
    "        pos_products = batch.pos_products.numpy()\n",
    "        neg_products = batch.neg_products.numpy()\n",
    "        customers = batch.customer\n",
    "        for idx in range(batch_size):\n",
    "            for time_idx in range(len(splits)-1):\n",
    "                to_p = pos_products[idx][time_idx]\n",
    "                to_n = neg_products[idx][time_idx]\n",
    "                assert EdgeWithType(relation_type=purchase_relation_idx, to=to_p) in splits[time_idx+1][customers[idx]]\n",
    "                assert EdgeWithType(relation_type=purchase_relation_idx, to=to_n) not in splits[time_idx+1][customers[idx]]    "
   ]
  },
  {
   "cell_type": "code",
   "execution_count": 33,
   "metadata": {},
   "outputs": [
    {
     "data": {
      "application/vnd.jupyter.widget-view+json": {
       "model_id": "563a50853abe42f3a49829b867e95f56",
       "version_major": 2,
       "version_minor": 0
      },
      "text/plain": [
       "HBox(children=(FloatProgress(value=0.0, max=21.0), HTML(value='')))"
      ]
     },
     "metadata": {},
     "output_type": "display_data"
    },
    {
     "name": "stdout",
     "output_type": "stream",
     "text": [
      "\n"
     ]
    }
   ],
   "source": [
    "test_customer_ds(train_splits)"
   ]
  },
  {
   "cell_type": "code",
   "execution_count": 35,
   "metadata": {},
   "outputs": [],
   "source": [
    "tafeng_df = load_tafeng_dataframe(2, 1)"
   ]
  },
  {
   "cell_type": "code",
   "execution_count": 41,
   "metadata": {},
   "outputs": [
    {
     "data": {
      "text/html": [
       "<div>\n",
       "<style scoped>\n",
       "    .dataframe tbody tr th:only-of-type {\n",
       "        vertical-align: middle;\n",
       "    }\n",
       "\n",
       "    .dataframe tbody tr th {\n",
       "        vertical-align: top;\n",
       "    }\n",
       "\n",
       "    .dataframe thead th {\n",
       "        text-align: right;\n",
       "    }\n",
       "</style>\n",
       "<table border=\"1\" class=\"dataframe\">\n",
       "  <thead>\n",
       "    <tr style=\"text-align: right;\">\n",
       "      <th></th>\n",
       "      <th>date</th>\n",
       "      <th>customer</th>\n",
       "      <th>age_group</th>\n",
       "      <th>zip_code</th>\n",
       "      <th>product_subclass</th>\n",
       "      <th>product</th>\n",
       "    </tr>\n",
       "  </thead>\n",
       "  <tbody>\n",
       "    <tr>\n",
       "      <th>0</th>\n",
       "      <td>2000-11-01</td>\n",
       "      <td>1104905</td>\n",
       "      <td>45-49</td>\n",
       "      <td>115</td>\n",
       "      <td>110411</td>\n",
       "      <td>4710199010372</td>\n",
       "    </tr>\n",
       "    <tr>\n",
       "      <th>1</th>\n",
       "      <td>2000-11-01</td>\n",
       "      <td>418683</td>\n",
       "      <td>45-49</td>\n",
       "      <td>115</td>\n",
       "      <td>120107</td>\n",
       "      <td>4710857472535</td>\n",
       "    </tr>\n",
       "    <tr>\n",
       "      <th>2</th>\n",
       "      <td>2000-11-01</td>\n",
       "      <td>1057331</td>\n",
       "      <td>35-39</td>\n",
       "      <td>115</td>\n",
       "      <td>100407</td>\n",
       "      <td>4710043654103</td>\n",
       "    </tr>\n",
       "    <tr>\n",
       "      <th>3</th>\n",
       "      <td>2000-11-01</td>\n",
       "      <td>1849332</td>\n",
       "      <td>45-49</td>\n",
       "      <td>Others</td>\n",
       "      <td>120108</td>\n",
       "      <td>4710126092129</td>\n",
       "    </tr>\n",
       "    <tr>\n",
       "      <th>4</th>\n",
       "      <td>2000-11-01</td>\n",
       "      <td>1981995</td>\n",
       "      <td>50-54</td>\n",
       "      <td>115</td>\n",
       "      <td>100205</td>\n",
       "      <td>4710176021445</td>\n",
       "    </tr>\n",
       "    <tr>\n",
       "      <th>...</th>\n",
       "      <td>...</td>\n",
       "      <td>...</td>\n",
       "      <td>...</td>\n",
       "      <td>...</td>\n",
       "      <td>...</td>\n",
       "      <td>...</td>\n",
       "    </tr>\n",
       "    <tr>\n",
       "      <th>793834</th>\n",
       "      <td>2001-02-28</td>\n",
       "      <td>312790</td>\n",
       "      <td>35-39</td>\n",
       "      <td>114</td>\n",
       "      <td>530501</td>\n",
       "      <td>4713317035042</td>\n",
       "    </tr>\n",
       "    <tr>\n",
       "      <th>793835</th>\n",
       "      <td>2001-02-28</td>\n",
       "      <td>57486</td>\n",
       "      <td>40-44</td>\n",
       "      <td>115</td>\n",
       "      <td>530209</td>\n",
       "      <td>4710731060124</td>\n",
       "    </tr>\n",
       "    <tr>\n",
       "      <th>793836</th>\n",
       "      <td>2001-02-28</td>\n",
       "      <td>733526</td>\n",
       "      <td>&gt;65</td>\n",
       "      <td>Unknown</td>\n",
       "      <td>510539</td>\n",
       "      <td>4716340052307</td>\n",
       "    </tr>\n",
       "    <tr>\n",
       "      <th>793837</th>\n",
       "      <td>2001-02-28</td>\n",
       "      <td>173704</td>\n",
       "      <td>45-49</td>\n",
       "      <td>115</td>\n",
       "      <td>520457</td>\n",
       "      <td>4714276145315</td>\n",
       "    </tr>\n",
       "    <tr>\n",
       "      <th>793838</th>\n",
       "      <td>2001-02-28</td>\n",
       "      <td>1719888</td>\n",
       "      <td>30-34</td>\n",
       "      <td>221</td>\n",
       "      <td>530202</td>\n",
       "      <td>4713080610231</td>\n",
       "    </tr>\n",
       "  </tbody>\n",
       "</table>\n",
       "<p>793839 rows × 6 columns</p>\n",
       "</div>"
      ],
      "text/plain": [
       "             date customer age_group zip_code product_subclass        product\n",
       "0      2000-11-01  1104905     45-49      115           110411  4710199010372\n",
       "1      2000-11-01   418683     45-49      115           120107  4710857472535\n",
       "2      2000-11-01  1057331     35-39      115           100407  4710043654103\n",
       "3      2000-11-01  1849332     45-49   Others           120108  4710126092129\n",
       "4      2000-11-01  1981995     50-54      115           100205  4710176021445\n",
       "...           ...      ...       ...      ...              ...            ...\n",
       "793834 2001-02-28   312790     35-39      114           530501  4713317035042\n",
       "793835 2001-02-28    57486     40-44      115           530209  4710731060124\n",
       "793836 2001-02-28   733526       >65  Unknown           510539  4716340052307\n",
       "793837 2001-02-28   173704     45-49      115           520457  4714276145315\n",
       "793838 2001-02-28  1719888     30-34      221           530202  4713080610231\n",
       "\n",
       "[793839 rows x 6 columns]"
      ]
     },
     "execution_count": 41,
     "metadata": {},
     "output_type": "execute_result"
    }
   ],
   "source": [
    "tafeng_df"
   ]
  },
  {
   "cell_type": "code",
   "execution_count": 46,
   "metadata": {},
   "outputs": [
    {
     "name": "stdout",
     "output_type": "stream",
     "text": [
      "[Timestamp('2000-11-01 00:00:00') '1104905' '45-49' '115' '110411'\n",
      " '4710199010372']\n"
     ]
    }
   ],
   "source": [
    "for idx, row in tafeng_df.iterrows():\n",
    "    print(row.values)\n",
    "    break"
   ]
  },
  {
   "cell_type": "code",
   "execution_count": 51,
   "metadata": {},
   "outputs": [],
   "source": [
    "def test_graph_structure():\n",
    "    adj_lists = knowledge_graph.to_adj_lists()\n",
    "    \n",
    "    def assert_both_edges_exist(v1: int, v2: int, relation_type: str):\n",
    "        assert EdgeWithType(to=v2, relation_type=relation_type) in adj_lists[v1]\n",
    "        assert EdgeWithType(to=v1, relation_type=relation_type) in adj_lists[v2]\n",
    "    \n",
    "    \n",
    "    tafeng_df = load_tafeng_dataframe(user_k_core=2, item_k_core=1)[:1000]\n",
    "\n",
    "    entity2idx = knowledge_graph.entity_set.entity2idx\n",
    "    relation2idx = knowledge_graph.relation_set.relation2idx\n",
    "    for _, row in tqdm(tafeng_df.iterrows()):\n",
    "        customer, product, age_group, zip_code, product_subclass = (\n",
    "            entity2idx[str(row.customer)], entity2idx[str(row['product'])], entity2idx[str(row.age_group)],\n",
    "            entity2idx[str(row.zip_code)], entity2idx[str(row.product_subclass)]\n",
    "        )\n",
    "        \n",
    "        assert_both_edges_exist(product, customer, relation2idx['purchase'])\n",
    "        assert_both_edges_exist(age_group, customer, relation2idx['belongs_to_age_group'])\n",
    "        assert_both_edges_exist(zip_code, product, relation2idx['bought_in'])\n",
    "        assert_both_edges_exist(product, product_subclass, relation2idx['belongs_to_subclass'])"
   ]
  },
  {
   "cell_type": "code",
   "execution_count": 52,
   "metadata": {},
   "outputs": [
    {
     "name": "stderr",
     "output_type": "stream",
     "text": [
      "2021-05-12 15:24:43,629 - TaFengGraph - [INFO] - converting belongs_to_subclass\n",
      "2021-05-12 15:24:43,821 - TaFengGraph - [INFO] - converting bought_in\n",
      "2021-05-12 15:24:44,470 - TaFengGraph - [INFO] - converting purchase\n",
      "2021-05-12 15:24:53,806 - TaFengGraph - [INFO] - converting belongs_to_age_group\n"
     ]
    },
    {
     "data": {
      "application/vnd.jupyter.widget-view+json": {
       "model_id": "4a50bfa18ffc4c2885e1fbf7473f5ee8",
       "version_major": 2,
       "version_minor": 0
      },
      "text/plain": [
       "HBox(children=(FloatProgress(value=1.0, bar_style='info', max=1.0), HTML(value='')))"
      ]
     },
     "metadata": {},
     "output_type": "display_data"
    },
    {
     "name": "stdout",
     "output_type": "stream",
     "text": [
      "\n"
     ]
    }
   ],
   "source": [
    "test_graph_structure()"
   ]
  },
  {
   "cell_type": "code",
   "execution_count": null,
   "metadata": {},
   "outputs": [],
   "source": []
  }
 ],
 "metadata": {
  "kernelspec": {
   "display_name": "Python 3",
   "language": "python",
   "name": "python3"
  },
  "language_info": {
   "codemirror_mode": {
    "name": "ipython",
    "version": 3
   },
   "file_extension": ".py",
   "mimetype": "text/x-python",
   "name": "python",
   "nbconvert_exporter": "python",
   "pygments_lexer": "ipython3",
   "version": "3.6.4"
  }
 },
 "nbformat": 4,
 "nbformat_minor": 2
}
