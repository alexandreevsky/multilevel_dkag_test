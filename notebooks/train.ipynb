{
 "cells": [
  {
   "cell_type": "code",
   "execution_count": 2,
   "metadata": {},
   "outputs": [],
   "source": [
    "%load_ext autoreload\n",
    "%autoreload 2"
   ]
  },
  {
   "cell_type": "code",
   "execution_count": 3,
   "metadata": {
    "id": "w9BFgon4FW5j"
   },
   "outputs": [],
   "source": [
    "import sys  \n",
    "sys.path.insert(0, '..')"
   ]
  },
  {
   "cell_type": "code",
   "execution_count": 75,
   "metadata": {
    "id": "LinuSycdF3dK"
   },
   "outputs": [],
   "source": [
    "from utils import get_tafeng_graph, load_weights\n",
    "from knowledge_graph.datasets import KgPosNegTriples, TimeSplittedDataset, KgCustomers\n",
    "from knowledge_graph.layer_generators import LayerNodeGenerator\n",
    "from utils import get_dates_for_split, get_graph_splits, get_test_interactions\n",
    "from models.Model import Model\n",
    "from models.config import Config\n",
    "import numpy as np\n",
    "import random\n",
    "from tqdm.notebook import tqdm\n",
    "import sys\n",
    "import torch\n",
    "import torch.optim as optim\n",
    "from train import train_transR_one_epoch, train_lstm_one_epoch, evaluate\n",
    "from datetime import datetime"
   ]
  },
  {
   "cell_type": "code",
   "execution_count": 5,
   "metadata": {
    "colab": {
     "base_uri": "https://localhost:8080/"
    },
    "id": "_n-eIrFFF8s6",
    "outputId": "38eb0f99-24e3-4c0f-a485-c716de38d714"
   },
   "outputs": [
    {
     "data": {
      "text/plain": [
       "<torch._C.Generator at 0x16a6d66e228>"
      ]
     },
     "execution_count": 5,
     "metadata": {},
     "output_type": "execute_result"
    }
   ],
   "source": [
    "SEED = 42\n",
    "random.seed(SEED)\n",
    "np.random.seed(SEED)\n",
    "torch.manual_seed(SEED)"
   ]
  },
  {
   "cell_type": "code",
   "execution_count": 6,
   "metadata": {
    "colab": {
     "base_uri": "https://localhost:8080/"
    },
    "id": "5HlHcJHTGIrT",
    "outputId": "4063c54a-c1c9-4ca9-cfbb-acfed24e17fd"
   },
   "outputs": [
    {
     "name": "stderr",
     "output_type": "stream",
     "text": [
      "2021-05-11 12:07:43,373 - TaFengGraph - [INFO] - loading entities\n",
      "2021-05-11 12:07:43,631 - TaFengGraph - [INFO] - loading relations\n",
      "2021-05-11 12:09:24,436 - TaFengGraph - [INFO] - loaded purchase\n",
      "2021-05-11 12:10:27,438 - TaFengGraph - [INFO] - loaded bought_in\n",
      "2021-05-11 12:11:35,236 - TaFengGraph - [INFO] - loaded belongs_to_age_group\n",
      "2021-05-11 12:12:40,377 - TaFengGraph - [INFO] - loaded belongs_to_subclass\n"
     ]
    }
   ],
   "source": [
    "knowledge_graph = get_tafeng_graph(user_k_core=2, item_k_core=1)"
   ]
  },
  {
   "cell_type": "code",
   "execution_count": 7,
   "metadata": {
    "id": "owAcCwLiGLyo"
   },
   "outputs": [],
   "source": [
    "timestamps = knowledge_graph.relation_set.get_all_timestamps()\n",
    "splitting_points = get_dates_for_split(timestamps, n_points=3)"
   ]
  },
  {
   "cell_type": "code",
   "execution_count": 8,
   "metadata": {
    "colab": {
     "base_uri": "https://localhost:8080/"
    },
    "id": "8Kb4GoZQQu5w",
    "outputId": "a8af3744-8247-4e03-cdd8-88877c5d4f7d"
   },
   "outputs": [
    {
     "name": "stderr",
     "output_type": "stream",
     "text": [
      "2021-05-11 12:12:41,988 - TaFengGraph - [INFO] - converting belongs_to_age_group\n",
      "2021-05-11 12:12:42,686 - TaFengGraph - [INFO] - converting belongs_to_subclass\n",
      "2021-05-11 12:12:43,072 - TaFengGraph - [INFO] - converting bought_in\n",
      "2021-05-11 12:12:44,386 - TaFengGraph - [INFO] - converting purchase\n",
      "2021-05-11 12:12:47,163 - TaFengGraph - [INFO] - converting belongs_to_age_group\n",
      "2021-05-11 12:12:47,771 - TaFengGraph - [INFO] - converting belongs_to_subclass\n",
      "2021-05-11 12:12:48,033 - TaFengGraph - [INFO] - converting bought_in\n",
      "2021-05-11 12:12:49,139 - TaFengGraph - [INFO] - converting purchase\n",
      "2021-05-11 12:12:51,486 - TaFengGraph - [INFO] - converting belongs_to_age_group\n",
      "2021-05-11 12:12:51,731 - TaFengGraph - [INFO] - converting belongs_to_subclass\n",
      "2021-05-11 12:12:51,926 - TaFengGraph - [INFO] - converting bought_in\n",
      "2021-05-11 12:12:53,027 - TaFengGraph - [INFO] - converting purchase\n",
      "2021-05-11 12:12:55,556 - TaFengGraph - [INFO] - converting belongs_to_age_group\n",
      "2021-05-11 12:12:55,799 - TaFengGraph - [INFO] - converting belongs_to_subclass\n",
      "2021-05-11 12:12:55,998 - TaFengGraph - [INFO] - converting bought_in\n",
      "2021-05-11 12:12:56,679 - TaFengGraph - [INFO] - converting purchase\n"
     ]
    }
   ],
   "source": [
    "splits = get_graph_splits(knowledge_graph, splitting_points)\n",
    "del timestamps, splitting_points"
   ]
  },
  {
   "cell_type": "code",
   "execution_count": 9,
   "metadata": {
    "id": "TmpJ3tWVQsuT"
   },
   "outputs": [],
   "source": [
    "train_splits = splits[:-1]\n",
    "test_split = splits[-1]"
   ]
  },
  {
   "cell_type": "code",
   "execution_count": 22,
   "metadata": {
    "colab": {
     "base_uri": "https://localhost:8080/"
    },
    "id": "SbQw9XGcUQM2",
    "outputId": "5bfcf5dd-9232-401a-8233-3c8ed796fbcf"
   },
   "outputs": [
    {
     "data": {
      "text/plain": [
       "device(type='cuda')"
      ]
     },
     "execution_count": 22,
     "metadata": {},
     "output_type": "execute_result"
    }
   ],
   "source": [
    "device = torch.device('cuda') if torch.cuda.is_available() else torch.device('cpu')\n",
    "device"
   ]
  },
  {
   "cell_type": "code",
   "execution_count": 11,
   "metadata": {
    "id": "wnAnGRw5Vch1"
   },
   "outputs": [],
   "source": [
    "pos_neg_triples_ds = [KgPosNegTriples(split) for split in train_splits]\n",
    "ts_ds = TimeSplittedDataset(pos_neg_triples_ds)"
   ]
  },
  {
   "cell_type": "code",
   "execution_count": 70,
   "metadata": {
    "id": "qXRy9EaFZ2C7"
   },
   "outputs": [],
   "source": [
    "customer_indices = list(map(lambda x: knowledge_graph.entity_set.entity2idx[x], knowledge_graph.entity_set.customer))\n",
    "product_indices = list(map(lambda x: knowledge_graph.entity_set.entity2idx[x], knowledge_graph.entity_set.product))"
   ]
  },
  {
   "cell_type": "code",
   "execution_count": 13,
   "metadata": {
    "id": "SEKc24bZ6ay1"
   },
   "outputs": [],
   "source": [
    "customer_ds = KgCustomers(\n",
    "    splits=train_splits,\n",
    "    customer_indices=customer_indices,\n",
    "    product_indices=product_indices,\n",
    "    purchase_relation_idx=knowledge_graph.relation_set.relation2idx['purchase']\n",
    ")"
   ]
  },
  {
   "cell_type": "code",
   "execution_count": 14,
   "metadata": {
    "colab": {
     "base_uri": "https://localhost:8080/"
    },
    "id": "ItAuUm826d5O",
    "outputId": "82bc41cb-4aa6-46fe-a51c-336719b1132e"
   },
   "outputs": [
    {
     "data": {
      "text/plain": [
       "5791"
      ]
     },
     "execution_count": 14,
     "metadata": {},
     "output_type": "execute_result"
    }
   ],
   "source": [
    "len(customer_ds.customers_to_iterate_over)"
   ]
  },
  {
   "cell_type": "code",
   "execution_count": 76,
   "metadata": {},
   "outputs": [],
   "source": [
    "config = Config(\n",
    "    entity_embedding_dim=20,\n",
    "    relation_embedding_dim=20,\n",
    "    n_entities=len(knowledge_graph.entity_set),\n",
    "    n_relations=len(knowledge_graph.relation_set),\n",
    "    n_layers=2,\n",
    "    transR_l2_weight=1e-5,\n",
    "    concat_layers=True\n",
    ")\n",
    "model = Model(\n",
    "    config,\n",
    "    layer_generators=[LayerNodeGenerator(split, n_neighbours=8) for split in train_splits],\n",
    "    device=device\n",
    ").to(device)\n",
    "\n",
    "agg_optimizer = optim.Adam(model.transR_aggregator.parameters())\n",
    "lstm_optimizer = optim.Adam(model.lstm.parameters())"
   ]
  },
  {
   "cell_type": "code",
   "execution_count": 26,
   "metadata": {
    "scrolled": true
   },
   "outputs": [
    {
     "name": "stdout",
     "output_type": "stream",
     "text": [
      "Epoch #1:\n"
     ]
    },
    {
     "data": {
      "application/vnd.jupyter.widget-view+json": {
       "model_id": "93882515d1ae4c24acc1632905054310",
       "version_major": 2,
       "version_minor": 0
      },
      "text/plain": [
       "HBox(children=(FloatProgress(value=0.0, max=873.0), HTML(value='')))"
      ]
     },
     "metadata": {},
     "output_type": "display_data"
    },
    {
     "name": "stderr",
     "output_type": "stream",
     "text": [
      "2021-05-11 12:24:58,635 - ..\\train.py - [INFO] - Iter 50: batch loss -> 0.4329060912132263, mean loss -> 0.5610813474655152\n",
      "2021-05-11 12:31:27,363 - ..\\train.py - [INFO] - Iter 100: batch loss -> 0.2911437153816223, mean loss -> 0.4531164687871933\n",
      "2021-05-11 12:37:54,022 - ..\\train.py - [INFO] - Iter 150: batch loss -> 0.28047630190849304, mean loss -> 0.3952358799179395\n",
      "2021-05-11 12:44:31,008 - ..\\train.py - [INFO] - Iter 200: batch loss -> 0.262432336807251, mean loss -> 0.3598401653766632\n",
      "2021-05-11 12:51:00,421 - ..\\train.py - [INFO] - Iter 250: batch loss -> 0.20597711205482483, mean loss -> 0.33574014925956724\n",
      "2021-05-11 12:57:27,097 - ..\\train.py - [INFO] - Iter 300: batch loss -> 0.20776987075805664, mean loss -> 0.3175469387571017\n",
      "2021-05-11 13:03:54,647 - ..\\train.py - [INFO] - Iter 350: batch loss -> 0.18854251503944397, mean loss -> 0.3035180486525808\n",
      "2021-05-11 13:10:29,933 - ..\\train.py - [INFO] - Iter 400: batch loss -> 0.21498727798461914, mean loss -> 0.2929042910039425\n",
      "2021-05-11 13:16:59,622 - ..\\train.py - [INFO] - Iter 450: batch loss -> 0.19098448753356934, mean loss -> 0.28472022728787527\n",
      "2021-05-11 13:23:29,806 - ..\\train.py - [INFO] - Iter 500: batch loss -> 0.19394424557685852, mean loss -> 0.2775926053225994\n",
      "2021-05-11 13:29:53,976 - ..\\train.py - [INFO] - Iter 550: batch loss -> 0.20157885551452637, mean loss -> 0.27037883685393765\n",
      "2021-05-11 13:36:42,642 - ..\\train.py - [INFO] - Iter 600: batch loss -> 0.20480123162269592, mean loss -> 0.2640322051445643\n",
      "2021-05-11 13:43:12,323 - ..\\train.py - [INFO] - Iter 650: batch loss -> 0.21378207206726074, mean loss -> 0.2588876436536129\n",
      "2021-05-11 13:49:29,217 - ..\\train.py - [INFO] - Iter 700: batch loss -> 0.18982011079788208, mean loss -> 0.2545205384492874\n",
      "2021-05-11 13:55:49,276 - ..\\train.py - [INFO] - Iter 750: batch loss -> 0.19580337405204773, mean loss -> 0.2504263143142064\n",
      "2021-05-11 14:02:13,216 - ..\\train.py - [INFO] - Iter 800: batch loss -> 0.18165525794029236, mean loss -> 0.2463870907202363\n",
      "2021-05-11 14:08:28,035 - ..\\train.py - [INFO] - Iter 850: batch loss -> 0.09778564423322678, mean loss -> 0.24248911959283492\n"
     ]
    },
    {
     "name": "stdout",
     "output_type": "stream",
     "text": [
      "\n",
      "Epoch #2:\n"
     ]
    },
    {
     "data": {
      "application/vnd.jupyter.widget-view+json": {
       "model_id": "a9a0a68e7d5242689793ffecef51bb4d",
       "version_major": 2,
       "version_minor": 0
      },
      "text/plain": [
       "HBox(children=(FloatProgress(value=0.0, max=873.0), HTML(value='')))"
      ]
     },
     "metadata": {},
     "output_type": "display_data"
    },
    {
     "name": "stderr",
     "output_type": "stream",
     "text": [
      "2021-05-11 14:17:34,245 - ..\\train.py - [INFO] - Iter 50: batch loss -> 0.18949273228645325, mean loss -> 0.1776418435573578\n",
      "2021-05-11 14:23:58,344 - ..\\train.py - [INFO] - Iter 100: batch loss -> 0.16455230116844177, mean loss -> 0.17953832425177096\n",
      "2021-05-11 14:30:12,259 - ..\\train.py - [INFO] - Iter 150: batch loss -> 0.16066722571849823, mean loss -> 0.18058854843179384\n",
      "2021-05-11 14:36:23,236 - ..\\train.py - [INFO] - Iter 200: batch loss -> 0.20244310796260834, mean loss -> 0.17881967730820178\n",
      "2021-05-11 14:42:42,736 - ..\\train.py - [INFO] - Iter 250: batch loss -> 0.10772552341222763, mean loss -> 0.17800150194764136\n",
      "2021-05-11 14:49:00,000 - ..\\train.py - [INFO] - Iter 300: batch loss -> 0.21922358870506287, mean loss -> 0.1769365935275952\n",
      "2021-05-11 14:55:15,106 - ..\\train.py - [INFO] - Iter 350: batch loss -> 0.14353381097316742, mean loss -> 0.17620552605816295\n",
      "2021-05-11 15:01:21,196 - ..\\train.py - [INFO] - Iter 400: batch loss -> 0.16486482322216034, mean loss -> 0.1753819750994444\n",
      "2021-05-11 15:07:41,855 - ..\\train.py - [INFO] - Iter 450: batch loss -> 0.16058897972106934, mean loss -> 0.17495662798484166\n",
      "2021-05-11 15:14:04,248 - ..\\train.py - [INFO] - Iter 500: batch loss -> 0.1903313249349594, mean loss -> 0.17311432994902134\n",
      "2021-05-11 15:20:10,439 - ..\\train.py - [INFO] - Iter 550: batch loss -> 0.13302160799503326, mean loss -> 0.17212427548386833\n",
      "2021-05-11 15:26:13,512 - ..\\train.py - [INFO] - Iter 600: batch loss -> 0.18207989633083344, mean loss -> 0.17099079488466185\n",
      "2021-05-11 15:32:25,123 - ..\\train.py - [INFO] - Iter 650: batch loss -> 0.1968129277229309, mean loss -> 0.17007821313463725\n",
      "2021-05-11 15:38:40,662 - ..\\train.py - [INFO] - Iter 700: batch loss -> 0.1460631787776947, mean loss -> 0.1694931779482535\n",
      "2021-05-11 15:44:46,575 - ..\\train.py - [INFO] - Iter 750: batch loss -> 0.10523473471403122, mean loss -> 0.16830149905880293\n",
      "2021-05-11 15:51:00,920 - ..\\train.py - [INFO] - Iter 800: batch loss -> 0.13038812577724457, mean loss -> 0.16756635271944106\n",
      "2021-05-11 15:57:15,497 - ..\\train.py - [INFO] - Iter 850: batch loss -> 0.18247787654399872, mean loss -> 0.16725429142222684\n"
     ]
    },
    {
     "name": "stdout",
     "output_type": "stream",
     "text": [
      "\n"
     ]
    }
   ],
   "source": [
    "for i in range(2):\n",
    "    print(f'Epoch #{i+1}:')\n",
    "    train_transR_one_epoch(model, ts_ds, agg_optimizer, batch_size=64, verbose=50, use_tqdm=True)"
   ]
  },
  {
   "cell_type": "code",
   "execution_count": 27,
   "metadata": {},
   "outputs": [],
   "source": [
    "# torch.save({\n",
    "#     'transR_aggregator': model.transR_aggregator.state_dict(),\n",
    "#     'agg_optimizer': agg_optimizer.state_dict()\n",
    "# }, '../checkpoints/transR_aggregator_2_epochs')"
   ]
  },
  {
   "cell_type": "code",
   "execution_count": 63,
   "metadata": {},
   "outputs": [
    {
     "data": {
      "text/plain": [
       "TransrAggregator(\n",
       "  (kgat): KGAT(\n",
       "    (relation_embedder): Embedding(4, 20)\n",
       "    (aggregator): RelationAttentiveAggregator()\n",
       "    (activation): LeakyReLU(negative_slope=0.01, inplace=True)\n",
       "    (node_layer_updating_matrices): ModuleList(\n",
       "      (0): Linear(in_features=40, out_features=20, bias=True)\n",
       "      (1): Linear(in_features=40, out_features=20, bias=True)\n",
       "    )\n",
       "  )\n",
       "  (time_entity_embeddings): ModuleList(\n",
       "    (0): Embedding(55868, 20)\n",
       "    (1): Embedding(55868, 20)\n",
       "    (2): Embedding(55868, 20)\n",
       "  )\n",
       ")"
      ]
     },
     "execution_count": 63,
     "metadata": {},
     "output_type": "execute_result"
    }
   ],
   "source": [
    "model.transR_aggregator"
   ]
  },
  {
   "cell_type": "code",
   "execution_count": 64,
   "metadata": {},
   "outputs": [
    {
     "name": "stdout",
     "output_type": "stream",
     "text": [
      "Epoch #1:\n"
     ]
    },
    {
     "data": {
      "application/vnd.jupyter.widget-view+json": {
       "model_id": "3ce172f81ea945228db6508f5f9d3d4d",
       "version_major": 2,
       "version_minor": 0
      },
      "text/plain": [
       "HBox(children=(FloatProgress(value=0.0, max=181.0), HTML(value='')))"
      ]
     },
     "metadata": {},
     "output_type": "display_data"
    },
    {
     "name": "stderr",
     "output_type": "stream",
     "text": [
      "2021-05-11 16:24:13,219 - ..\\train.py - [INFO] - Iter 10: batch loss -> 0.6823303699493408, mean loss -> 0.6867675542831421\n",
      "2021-05-11 16:24:47,699 - ..\\train.py - [INFO] - Iter 20: batch loss -> 0.669663667678833, mean loss -> 0.6807757467031479\n",
      "2021-05-11 16:25:21,519 - ..\\train.py - [INFO] - Iter 30: batch loss -> 0.6311533451080322, mean loss -> 0.6718840380509694\n",
      "2021-05-11 16:25:55,238 - ..\\train.py - [INFO] - Iter 40: batch loss -> 0.6097091436386108, mean loss -> 0.6589302226901055\n",
      "2021-05-11 16:26:31,028 - ..\\train.py - [INFO] - Iter 50: batch loss -> 0.5187261700630188, mean loss -> 0.6383015930652618\n",
      "2021-05-11 16:27:05,768 - ..\\train.py - [INFO] - Iter 60: batch loss -> 0.5159697532653809, mean loss -> 0.6143056020140648\n",
      "2021-05-11 16:27:39,619 - ..\\train.py - [INFO] - Iter 70: batch loss -> 0.46740835905075073, mean loss -> 0.5968025450195585\n",
      "2021-05-11 16:28:14,452 - ..\\train.py - [INFO] - Iter 80: batch loss -> 0.5448513627052307, mean loss -> 0.5823419105261565\n",
      "2021-05-11 16:28:48,221 - ..\\train.py - [INFO] - Iter 90: batch loss -> 0.41940850019454956, mean loss -> 0.5703685525390837\n",
      "2021-05-11 16:29:22,121 - ..\\train.py - [INFO] - Iter 100: batch loss -> 0.39540672302246094, mean loss -> 0.5583375751972198\n",
      "2021-05-11 16:29:56,079 - ..\\train.py - [INFO] - Iter 110: batch loss -> 0.5284202098846436, mean loss -> 0.5492532884532755\n",
      "2021-05-11 16:30:30,057 - ..\\train.py - [INFO] - Iter 120: batch loss -> 0.3724296987056732, mean loss -> 0.5409195803105831\n",
      "2021-05-11 16:31:04,509 - ..\\train.py - [INFO] - Iter 130: batch loss -> 0.42095163464546204, mean loss -> 0.5309022541229541\n",
      "2021-05-11 16:31:38,434 - ..\\train.py - [INFO] - Iter 140: batch loss -> 0.3613097071647644, mean loss -> 0.5247068411537579\n",
      "2021-05-11 16:32:12,982 - ..\\train.py - [INFO] - Iter 150: batch loss -> 0.388507217168808, mean loss -> 0.5192954385280609\n",
      "2021-05-11 16:32:47,015 - ..\\train.py - [INFO] - Iter 160: batch loss -> 0.39427536725997925, mean loss -> 0.5113908991217613\n",
      "2021-05-11 16:33:21,253 - ..\\train.py - [INFO] - Iter 170: batch loss -> 0.2745262086391449, mean loss -> 0.5070768820888856\n",
      "2021-05-11 16:33:55,228 - ..\\train.py - [INFO] - Iter 180: batch loss -> 0.3992023169994354, mean loss -> 0.5011984151270654\n"
     ]
    },
    {
     "name": "stdout",
     "output_type": "stream",
     "text": [
      "\n",
      "Epoch #2:\n"
     ]
    },
    {
     "data": {
      "application/vnd.jupyter.widget-view+json": {
       "model_id": "a7d6eac02d3845ccb39a92fadf33cb20",
       "version_major": 2,
       "version_minor": 0
      },
      "text/plain": [
       "HBox(children=(FloatProgress(value=0.0, max=181.0), HTML(value='')))"
      ]
     },
     "metadata": {},
     "output_type": "display_data"
    },
    {
     "name": "stderr",
     "output_type": "stream",
     "text": [
      "2021-05-11 16:34:32,812 - ..\\train.py - [INFO] - Iter 10: batch loss -> 0.4137633740901947, mean loss -> 0.42937292754650114\n",
      "2021-05-11 16:35:07,039 - ..\\train.py - [INFO] - Iter 20: batch loss -> 0.6064690351486206, mean loss -> 0.42957859486341476\n",
      "2021-05-11 16:35:40,732 - ..\\train.py - [INFO] - Iter 30: batch loss -> 0.3989071846008301, mean loss -> 0.427229384581248\n",
      "2021-05-11 16:36:14,989 - ..\\train.py - [INFO] - Iter 40: batch loss -> 0.3335401713848114, mean loss -> 0.42970529571175575\n",
      "2021-05-11 16:36:49,124 - ..\\train.py - [INFO] - Iter 50: batch loss -> 0.4611482620239258, mean loss -> 0.42758774638175967\n",
      "2021-05-11 16:37:23,317 - ..\\train.py - [INFO] - Iter 60: batch loss -> 0.3683856129646301, mean loss -> 0.4237172454595566\n",
      "2021-05-11 16:37:57,657 - ..\\train.py - [INFO] - Iter 70: batch loss -> 0.398837149143219, mean loss -> 0.4195801160165242\n",
      "2021-05-11 16:38:33,034 - ..\\train.py - [INFO] - Iter 80: batch loss -> 0.32841968536376953, mean loss -> 0.4146486181765795\n",
      "2021-05-11 16:39:07,324 - ..\\train.py - [INFO] - Iter 90: batch loss -> 0.2513574957847595, mean loss -> 0.41202773451805114\n",
      "2021-05-11 16:39:41,087 - ..\\train.py - [INFO] - Iter 100: batch loss -> 0.3606070876121521, mean loss -> 0.4086780899763107\n",
      "2021-05-11 16:40:16,076 - ..\\train.py - [INFO] - Iter 110: batch loss -> 0.3607650399208069, mean loss -> 0.40221061218868603\n",
      "2021-05-11 16:40:50,028 - ..\\train.py - [INFO] - Iter 120: batch loss -> 0.5052124261856079, mean loss -> 0.4074298607806365\n",
      "2021-05-11 16:41:23,911 - ..\\train.py - [INFO] - Iter 130: batch loss -> 0.4251646399497986, mean loss -> 0.4092787687595074\n",
      "2021-05-11 16:41:57,426 - ..\\train.py - [INFO] - Iter 140: batch loss -> 0.305803120136261, mean loss -> 0.4094194565500532\n",
      "2021-05-11 16:42:33,121 - ..\\train.py - [INFO] - Iter 150: batch loss -> 0.46325060725212097, mean loss -> 0.4074974320332209\n",
      "2021-05-11 16:43:09,169 - ..\\train.py - [INFO] - Iter 160: batch loss -> 0.5363699793815613, mean loss -> 0.40801201183348895\n",
      "2021-05-11 16:43:43,526 - ..\\train.py - [INFO] - Iter 170: batch loss -> 0.4127427041530609, mean loss -> 0.4058500328484704\n",
      "2021-05-11 16:44:17,304 - ..\\train.py - [INFO] - Iter 180: batch loss -> 0.4874424934387207, mean loss -> 0.40530050761169856\n"
     ]
    },
    {
     "name": "stdout",
     "output_type": "stream",
     "text": [
      "\n",
      "Epoch #3:\n"
     ]
    },
    {
     "data": {
      "application/vnd.jupyter.widget-view+json": {
       "model_id": "ca0ea3bd50154ea6986f883407994105",
       "version_major": 2,
       "version_minor": 0
      },
      "text/plain": [
       "HBox(children=(FloatProgress(value=0.0, max=181.0), HTML(value='')))"
      ]
     },
     "metadata": {},
     "output_type": "display_data"
    },
    {
     "name": "stderr",
     "output_type": "stream",
     "text": [
      "2021-05-11 16:44:54,753 - ..\\train.py - [INFO] - Iter 10: batch loss -> 0.6502814292907715, mean loss -> 0.4385721027851105\n",
      "2021-05-11 16:45:28,853 - ..\\train.py - [INFO] - Iter 20: batch loss -> 0.4671427011489868, mean loss -> 0.41407445520162584\n",
      "2021-05-11 16:46:02,908 - ..\\train.py - [INFO] - Iter 30: batch loss -> 0.35569655895233154, mean loss -> 0.4115783860286077\n",
      "2021-05-11 16:46:36,910 - ..\\train.py - [INFO] - Iter 40: batch loss -> 0.33238497376441956, mean loss -> 0.4014429472386837\n",
      "2021-05-11 16:47:11,208 - ..\\train.py - [INFO] - Iter 50: batch loss -> 0.48731017112731934, mean loss -> 0.39144979149103165\n",
      "2021-05-11 16:47:45,365 - ..\\train.py - [INFO] - Iter 60: batch loss -> 0.3344988226890564, mean loss -> 0.3899109703799089\n",
      "2021-05-11 16:48:19,491 - ..\\train.py - [INFO] - Iter 70: batch loss -> 0.46345099806785583, mean loss -> 0.39322544102157864\n",
      "2021-05-11 16:48:54,100 - ..\\train.py - [INFO] - Iter 80: batch loss -> 0.3982779383659363, mean loss -> 0.39110668320208786\n",
      "2021-05-11 16:49:30,497 - ..\\train.py - [INFO] - Iter 90: batch loss -> 0.3832825720310211, mean loss -> 0.38715534955263137\n",
      "2021-05-11 16:50:06,109 - ..\\train.py - [INFO] - Iter 100: batch loss -> 0.3849843740463257, mean loss -> 0.3861392505466938\n",
      "2021-05-11 16:50:39,708 - ..\\train.py - [INFO] - Iter 110: batch loss -> 0.48373541235923767, mean loss -> 0.3870026232166724\n",
      "2021-05-11 16:51:13,533 - ..\\train.py - [INFO] - Iter 120: batch loss -> 0.3608332872390747, mean loss -> 0.38608098241190114\n",
      "2021-05-11 16:51:47,390 - ..\\train.py - [INFO] - Iter 130: batch loss -> 0.38293182849884033, mean loss -> 0.38618316799402236\n",
      "2021-05-11 16:52:21,219 - ..\\train.py - [INFO] - Iter 140: batch loss -> 0.4600200951099396, mean loss -> 0.3867361276277474\n",
      "2021-05-11 16:52:56,009 - ..\\train.py - [INFO] - Iter 150: batch loss -> 0.4015507996082306, mean loss -> 0.38261839707692463\n",
      "2021-05-11 16:53:29,946 - ..\\train.py - [INFO] - Iter 160: batch loss -> 0.4212833642959595, mean loss -> 0.38211511317640545\n",
      "2021-05-11 16:54:03,758 - ..\\train.py - [INFO] - Iter 170: batch loss -> 0.27668240666389465, mean loss -> 0.3801975584205459\n",
      "2021-05-11 16:54:37,979 - ..\\train.py - [INFO] - Iter 180: batch loss -> 0.3042808473110199, mean loss -> 0.37961733581291307\n"
     ]
    },
    {
     "name": "stdout",
     "output_type": "stream",
     "text": [
      "\n",
      "Epoch #4:\n"
     ]
    },
    {
     "data": {
      "application/vnd.jupyter.widget-view+json": {
       "model_id": "2cdc2acfdc5e41889c12e86b471523ec",
       "version_major": 2,
       "version_minor": 0
      },
      "text/plain": [
       "HBox(children=(FloatProgress(value=0.0, max=181.0), HTML(value='')))"
      ]
     },
     "metadata": {},
     "output_type": "display_data"
    },
    {
     "name": "stderr",
     "output_type": "stream",
     "text": [
      "2021-05-11 16:55:15,845 - ..\\train.py - [INFO] - Iter 10: batch loss -> 0.41007253527641296, mean loss -> 0.40030136704444885\n",
      "2021-05-11 16:55:50,759 - ..\\train.py - [INFO] - Iter 20: batch loss -> 0.34083259105682373, mean loss -> 0.3834927171468735\n",
      "2021-05-11 16:56:25,046 - ..\\train.py - [INFO] - Iter 30: batch loss -> 0.3755955100059509, mean loss -> 0.38216613233089447\n",
      "2021-05-11 16:56:58,943 - ..\\train.py - [INFO] - Iter 40: batch loss -> 0.3641565442085266, mean loss -> 0.3727788753807545\n",
      "2021-05-11 16:57:33,465 - ..\\train.py - [INFO] - Iter 50: batch loss -> 0.267130970954895, mean loss -> 0.36852777898311617\n",
      "2021-05-11 16:58:08,048 - ..\\train.py - [INFO] - Iter 60: batch loss -> 0.4541900157928467, mean loss -> 0.37372165645162264\n",
      "2021-05-11 16:58:42,465 - ..\\train.py - [INFO] - Iter 70: batch loss -> 0.28186336159706116, mean loss -> 0.3831715709396771\n",
      "2021-05-11 16:59:16,671 - ..\\train.py - [INFO] - Iter 80: batch loss -> 0.4205564260482788, mean loss -> 0.3888462821021676\n",
      "2021-05-11 16:59:50,903 - ..\\train.py - [INFO] - Iter 90: batch loss -> 0.5032525062561035, mean loss -> 0.3902458079987102\n",
      "2021-05-11 17:00:26,077 - ..\\train.py - [INFO] - Iter 100: batch loss -> 0.3223569691181183, mean loss -> 0.39062421038746836\n",
      "2021-05-11 17:01:01,895 - ..\\train.py - [INFO] - Iter 110: batch loss -> 0.3257644772529602, mean loss -> 0.3898795947432518\n",
      "2021-05-11 17:01:37,674 - ..\\train.py - [INFO] - Iter 120: batch loss -> 0.3826308250427246, mean loss -> 0.3913777975986401\n",
      "2021-05-11 17:02:12,183 - ..\\train.py - [INFO] - Iter 130: batch loss -> 0.4144464135169983, mean loss -> 0.39131563707039907\n",
      "2021-05-11 17:02:45,802 - ..\\train.py - [INFO] - Iter 140: batch loss -> 0.37177574634552, mean loss -> 0.3894910871982574\n",
      "2021-05-11 17:03:20,122 - ..\\train.py - [INFO] - Iter 150: batch loss -> 0.3451825976371765, mean loss -> 0.3864320530494054\n",
      "2021-05-11 17:03:54,520 - ..\\train.py - [INFO] - Iter 160: batch loss -> 0.3130635917186737, mean loss -> 0.38677747286856173\n",
      "2021-05-11 17:04:28,759 - ..\\train.py - [INFO] - Iter 170: batch loss -> 0.32533857226371765, mean loss -> 0.3854838515029234\n",
      "2021-05-11 17:05:02,957 - ..\\train.py - [INFO] - Iter 180: batch loss -> 0.2880813479423523, mean loss -> 0.38324002656671735\n"
     ]
    },
    {
     "name": "stdout",
     "output_type": "stream",
     "text": [
      "\n"
     ]
    }
   ],
   "source": [
    "for i in range(4):\n",
    "    print(f'Epoch #{i+1}:')\n",
    "    train_lstm_one_epoch(model, customer_ds, lstm_optimizer, 32, 10, True)"
   ]
  },
  {
   "cell_type": "code",
   "execution_count": 65,
   "metadata": {},
   "outputs": [],
   "source": [
    "# torch.save({\n",
    "#     'lstm': model.lstm.state_dict(),\n",
    "#     'lstm_optimizer': lstm_optimizer.state_dict()\n",
    "# }, '../checkpoints/lstm_4_epochs')"
   ]
  },
  {
   "cell_type": "code",
   "execution_count": 77,
   "metadata": {},
   "outputs": [],
   "source": [
    "load_weights(model, '../checkpoints/transR_aggregator_2_epochs', '../checkpoints/lstm_4_epochs')"
   ]
  },
  {
   "cell_type": "code",
   "execution_count": 78,
   "metadata": {},
   "outputs": [
    {
     "data": {
      "text/plain": [
       "Model(\n",
       "  (transR_aggregator): TransrAggregator(\n",
       "    (kgat): KGAT(\n",
       "      (relation_embedder): Embedding(4, 20)\n",
       "      (aggregator): RelationAttentiveAggregator()\n",
       "      (activation): LeakyReLU(negative_slope=0.01, inplace=True)\n",
       "      (node_layer_updating_matrices): ModuleList(\n",
       "        (0): Linear(in_features=40, out_features=20, bias=True)\n",
       "        (1): Linear(in_features=40, out_features=20, bias=True)\n",
       "      )\n",
       "    )\n",
       "    (time_entity_embeddings): ModuleList(\n",
       "      (0): Embedding(55868, 20)\n",
       "      (1): Embedding(55868, 20)\n",
       "      (2): Embedding(55868, 20)\n",
       "    )\n",
       "  )\n",
       "  (lstm): LSTM(40, 40, batch_first=True)\n",
       ")"
      ]
     },
     "execution_count": 78,
     "metadata": {},
     "output_type": "execute_result"
    }
   ],
   "source": [
    "model"
   ]
  },
  {
   "cell_type": "code",
   "execution_count": 102,
   "metadata": {},
   "outputs": [],
   "source": [
    "test_interactions = get_test_interactions(\n",
    "    customer_ds.customers_to_iterate_over,\n",
    "    test_split,\n",
    "    knowledge_graph.relation_set.relation2idx['purchase']\n",
    ")"
   ]
  },
  {
   "cell_type": "code",
   "execution_count": 103,
   "metadata": {},
   "outputs": [
    {
     "data": {
      "application/vnd.jupyter.widget-view+json": {
       "model_id": "094338ebcff14360998ac82a255d3066",
       "version_major": 2,
       "version_minor": 0
      },
      "text/plain": [
       "HBox(children=(FloatProgress(value=0.0, max=467.0), HTML(value='')))"
      ]
     },
     "metadata": {},
     "output_type": "display_data"
    },
    {
     "name": "stdout",
     "output_type": "stream",
     "text": [
      "\n"
     ]
    },
    {
     "data": {
      "text/plain": [
       "(0.012119588512644516, 0.015093678557731489, 0.07501472134104832)"
      ]
     },
     "execution_count": 103,
     "metadata": {},
     "output_type": "execute_result"
    }
   ],
   "source": [
    "evaluate(model, test_interactions, product_indices, 10, 20, True)"
   ]
  },
  {
   "cell_type": "code",
   "execution_count": null,
   "metadata": {},
   "outputs": [],
   "source": []
  }
 ],
 "metadata": {
  "accelerator": "GPU",
  "colab": {
   "name": "colab_train.ipynb",
   "provenance": []
  },
  "kernelspec": {
   "display_name": "Python 3",
   "language": "python",
   "name": "python3"
  },
  "language_info": {
   "codemirror_mode": {
    "name": "ipython",
    "version": 3
   },
   "file_extension": ".py",
   "mimetype": "text/x-python",
   "name": "python",
   "nbconvert_exporter": "python",
   "pygments_lexer": "ipython3",
   "version": "3.6.4"
  },
  "widgets": {
   "application/vnd.jupyter.widget-state+json": {
    "3adbcede053e4b04bb5e84dec5caed92": {
     "model_module": "@jupyter-widgets/base",
     "model_name": "LayoutModel",
     "state": {
      "_model_module": "@jupyter-widgets/base",
      "_model_module_version": "1.2.0",
      "_model_name": "LayoutModel",
      "_view_count": null,
      "_view_module": "@jupyter-widgets/base",
      "_view_module_version": "1.2.0",
      "_view_name": "LayoutView",
      "align_content": null,
      "align_items": null,
      "align_self": null,
      "border": null,
      "bottom": null,
      "display": null,
      "flex": null,
      "flex_flow": null,
      "grid_area": null,
      "grid_auto_columns": null,
      "grid_auto_flow": null,
      "grid_auto_rows": null,
      "grid_column": null,
      "grid_gap": null,
      "grid_row": null,
      "grid_template_areas": null,
      "grid_template_columns": null,
      "grid_template_rows": null,
      "height": null,
      "justify_content": null,
      "justify_items": null,
      "left": null,
      "margin": null,
      "max_height": null,
      "max_width": null,
      "min_height": null,
      "min_width": null,
      "object_fit": null,
      "object_position": null,
      "order": null,
      "overflow": null,
      "overflow_x": null,
      "overflow_y": null,
      "padding": null,
      "right": null,
      "top": null,
      "visibility": null,
      "width": null
     }
    },
    "4f193ee22cb841bc85b479c5b12fe595": {
     "model_module": "@jupyter-widgets/base",
     "model_name": "LayoutModel",
     "state": {
      "_model_module": "@jupyter-widgets/base",
      "_model_module_version": "1.2.0",
      "_model_name": "LayoutModel",
      "_view_count": null,
      "_view_module": "@jupyter-widgets/base",
      "_view_module_version": "1.2.0",
      "_view_name": "LayoutView",
      "align_content": null,
      "align_items": null,
      "align_self": null,
      "border": null,
      "bottom": null,
      "display": null,
      "flex": null,
      "flex_flow": null,
      "grid_area": null,
      "grid_auto_columns": null,
      "grid_auto_flow": null,
      "grid_auto_rows": null,
      "grid_column": null,
      "grid_gap": null,
      "grid_row": null,
      "grid_template_areas": null,
      "grid_template_columns": null,
      "grid_template_rows": null,
      "height": null,
      "justify_content": null,
      "justify_items": null,
      "left": null,
      "margin": null,
      "max_height": null,
      "max_width": null,
      "min_height": null,
      "min_width": null,
      "object_fit": null,
      "object_position": null,
      "order": null,
      "overflow": null,
      "overflow_x": null,
      "overflow_y": null,
      "padding": null,
      "right": null,
      "top": null,
      "visibility": null,
      "width": null
     }
    },
    "86002f6f7cab4226849c493fdaccfb08": {
     "model_module": "@jupyter-widgets/controls",
     "model_name": "HTMLModel",
     "state": {
      "_dom_classes": [],
      "_model_module": "@jupyter-widgets/controls",
      "_model_module_version": "1.5.0",
      "_model_name": "HTMLModel",
      "_view_count": null,
      "_view_module": "@jupyter-widgets/controls",
      "_view_module_version": "1.5.0",
      "_view_name": "HTMLView",
      "description": "",
      "description_tooltip": null,
      "layout": "IPY_MODEL_4f193ee22cb841bc85b479c5b12fe595",
      "placeholder": "​",
      "style": "IPY_MODEL_abc27c4abc0e4a77bd9d4b5784aa6ae7",
      "value": " 6/873 [00:54&lt;1:52:25,  7.78s/it]"
     }
    },
    "abc27c4abc0e4a77bd9d4b5784aa6ae7": {
     "model_module": "@jupyter-widgets/controls",
     "model_name": "DescriptionStyleModel",
     "state": {
      "_model_module": "@jupyter-widgets/controls",
      "_model_module_version": "1.5.0",
      "_model_name": "DescriptionStyleModel",
      "_view_count": null,
      "_view_module": "@jupyter-widgets/base",
      "_view_module_version": "1.2.0",
      "_view_name": "StyleView",
      "description_width": ""
     }
    },
    "af44b4b7c4424a5c8dc376ddeb5bd049": {
     "model_module": "@jupyter-widgets/controls",
     "model_name": "FloatProgressModel",
     "state": {
      "_dom_classes": [],
      "_model_module": "@jupyter-widgets/controls",
      "_model_module_version": "1.5.0",
      "_model_name": "FloatProgressModel",
      "_view_count": null,
      "_view_module": "@jupyter-widgets/controls",
      "_view_module_version": "1.5.0",
      "_view_name": "ProgressView",
      "bar_style": "danger",
      "description": "  1%",
      "description_tooltip": null,
      "layout": "IPY_MODEL_d16cad5beb514560b03b2c3503b39692",
      "max": 873,
      "min": 0,
      "orientation": "horizontal",
      "style": "IPY_MODEL_e705f016190641f2a29236e6dffaa19e",
      "value": 6
     }
    },
    "d16cad5beb514560b03b2c3503b39692": {
     "model_module": "@jupyter-widgets/base",
     "model_name": "LayoutModel",
     "state": {
      "_model_module": "@jupyter-widgets/base",
      "_model_module_version": "1.2.0",
      "_model_name": "LayoutModel",
      "_view_count": null,
      "_view_module": "@jupyter-widgets/base",
      "_view_module_version": "1.2.0",
      "_view_name": "LayoutView",
      "align_content": null,
      "align_items": null,
      "align_self": null,
      "border": null,
      "bottom": null,
      "display": null,
      "flex": null,
      "flex_flow": null,
      "grid_area": null,
      "grid_auto_columns": null,
      "grid_auto_flow": null,
      "grid_auto_rows": null,
      "grid_column": null,
      "grid_gap": null,
      "grid_row": null,
      "grid_template_areas": null,
      "grid_template_columns": null,
      "grid_template_rows": null,
      "height": null,
      "justify_content": null,
      "justify_items": null,
      "left": null,
      "margin": null,
      "max_height": null,
      "max_width": null,
      "min_height": null,
      "min_width": null,
      "object_fit": null,
      "object_position": null,
      "order": null,
      "overflow": null,
      "overflow_x": null,
      "overflow_y": null,
      "padding": null,
      "right": null,
      "top": null,
      "visibility": null,
      "width": null
     }
    },
    "e705f016190641f2a29236e6dffaa19e": {
     "model_module": "@jupyter-widgets/controls",
     "model_name": "ProgressStyleModel",
     "state": {
      "_model_module": "@jupyter-widgets/controls",
      "_model_module_version": "1.5.0",
      "_model_name": "ProgressStyleModel",
      "_view_count": null,
      "_view_module": "@jupyter-widgets/base",
      "_view_module_version": "1.2.0",
      "_view_name": "StyleView",
      "bar_color": null,
      "description_width": "initial"
     }
    },
    "e98930f95f9b416db8e7c742569674e1": {
     "model_module": "@jupyter-widgets/controls",
     "model_name": "HBoxModel",
     "state": {
      "_dom_classes": [],
      "_model_module": "@jupyter-widgets/controls",
      "_model_module_version": "1.5.0",
      "_model_name": "HBoxModel",
      "_view_count": null,
      "_view_module": "@jupyter-widgets/controls",
      "_view_module_version": "1.5.0",
      "_view_name": "HBoxView",
      "box_style": "",
      "children": [
       "IPY_MODEL_af44b4b7c4424a5c8dc376ddeb5bd049",
       "IPY_MODEL_86002f6f7cab4226849c493fdaccfb08"
      ],
      "layout": "IPY_MODEL_3adbcede053e4b04bb5e84dec5caed92"
     }
    }
   }
  }
 },
 "nbformat": 4,
 "nbformat_minor": 1
}
