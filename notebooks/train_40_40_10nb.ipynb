{
 "cells": [
  {
   "cell_type": "code",
   "execution_count": 1,
   "metadata": {},
   "outputs": [],
   "source": [
    "%load_ext autoreload\n",
    "%autoreload 2"
   ]
  },
  {
   "cell_type": "code",
   "execution_count": 2,
   "metadata": {
    "id": "w9BFgon4FW5j"
   },
   "outputs": [],
   "source": [
    "import sys  \n",
    "sys.path.insert(0, '..')"
   ]
  },
  {
   "cell_type": "code",
   "execution_count": 3,
   "metadata": {
    "id": "LinuSycdF3dK"
   },
   "outputs": [],
   "source": [
    "from utils import get_tafeng_graph, load_weights\n",
    "from knowledge_graph.datasets import KgPosNegTriples, TimeSplittedDataset, KgCustomers\n",
    "from knowledge_graph.layer_generators import LayerNodeGenerator\n",
    "from utils import get_dates_for_split, get_graph_splits, get_test_interactions\n",
    "from models.Model import Model\n",
    "from models.config import Config\n",
    "import numpy as np\n",
    "import random\n",
    "from tqdm.notebook import tqdm\n",
    "import sys\n",
    "import torch\n",
    "import torch.optim as optim\n",
    "from train import train_transR_one_epoch, train_lstm_one_epoch, evaluate\n",
    "from datetime import datetime"
   ]
  },
  {
   "cell_type": "code",
   "execution_count": 4,
   "metadata": {
    "colab": {
     "base_uri": "https://localhost:8080/"
    },
    "id": "_n-eIrFFF8s6",
    "outputId": "38eb0f99-24e3-4c0f-a485-c716de38d714"
   },
   "outputs": [
    {
     "data": {
      "text/plain": [
       "<torch._C.Generator at 0x248ab620858>"
      ]
     },
     "execution_count": 4,
     "metadata": {},
     "output_type": "execute_result"
    }
   ],
   "source": [
    "SEED = 42\n",
    "random.seed(SEED)\n",
    "np.random.seed(SEED)\n",
    "torch.manual_seed(SEED)"
   ]
  },
  {
   "cell_type": "code",
   "execution_count": 5,
   "metadata": {
    "colab": {
     "base_uri": "https://localhost:8080/"
    },
    "id": "5HlHcJHTGIrT",
    "outputId": "4063c54a-c1c9-4ca9-cfbb-acfed24e17fd"
   },
   "outputs": [
    {
     "name": "stderr",
     "output_type": "stream",
     "text": [
      "2021-05-11 18:36:55,723 - TaFengGraph - [INFO] - loading entities\n",
      "2021-05-11 18:36:55,978 - TaFengGraph - [INFO] - loading relations\n",
      "2021-05-11 18:38:37,854 - TaFengGraph - [INFO] - loaded purchase\n",
      "2021-05-11 18:39:40,246 - TaFengGraph - [INFO] - loaded bought_in\n",
      "2021-05-11 18:40:41,506 - TaFengGraph - [INFO] - loaded belongs_to_age_group\n",
      "2021-05-11 18:41:42,857 - TaFengGraph - [INFO] - loaded belongs_to_subclass\n"
     ]
    }
   ],
   "source": [
    "knowledge_graph = get_tafeng_graph(user_k_core=2, item_k_core=1)"
   ]
  },
  {
   "cell_type": "code",
   "execution_count": 6,
   "metadata": {
    "id": "owAcCwLiGLyo"
   },
   "outputs": [],
   "source": [
    "timestamps = knowledge_graph.relation_set.get_all_timestamps()\n",
    "splitting_points = get_dates_for_split(timestamps, n_points=5)"
   ]
  },
  {
   "cell_type": "code",
   "execution_count": 7,
   "metadata": {},
   "outputs": [
    {
     "data": {
      "text/plain": [
       "[datetime.datetime(2000, 11, 19, 3, 0),\n",
       " datetime.datetime(2000, 12, 8, 3, 0),\n",
       " datetime.datetime(2001, 1, 1, 3, 0),\n",
       " datetime.datetime(2001, 1, 21, 3, 0),\n",
       " datetime.datetime(2001, 2, 10, 3, 0)]"
      ]
     },
     "execution_count": 7,
     "metadata": {},
     "output_type": "execute_result"
    }
   ],
   "source": [
    "splitting_points"
   ]
  },
  {
   "cell_type": "code",
   "execution_count": 8,
   "metadata": {
    "colab": {
     "base_uri": "https://localhost:8080/"
    },
    "id": "8Kb4GoZQQu5w",
    "outputId": "a8af3744-8247-4e03-cdd8-88877c5d4f7d"
   },
   "outputs": [
    {
     "name": "stderr",
     "output_type": "stream",
     "text": [
      "2021-05-11 18:42:21,304 - TaFengGraph - [INFO] - converting bought_in\n",
      "2021-05-11 18:42:22,385 - TaFengGraph - [INFO] - converting belongs_to_age_group\n",
      "2021-05-11 18:42:22,766 - TaFengGraph - [INFO] - converting belongs_to_subclass\n",
      "2021-05-11 18:42:23,123 - TaFengGraph - [INFO] - converting purchase\n",
      "2021-05-11 18:42:24,761 - TaFengGraph - [INFO] - converting bought_in\n",
      "2021-05-11 18:42:25,692 - TaFengGraph - [INFO] - converting belongs_to_age_group\n",
      "2021-05-11 18:42:25,914 - TaFengGraph - [INFO] - converting belongs_to_subclass\n",
      "2021-05-11 18:42:26,092 - TaFengGraph - [INFO] - converting purchase\n",
      "2021-05-11 18:42:27,789 - TaFengGraph - [INFO] - converting bought_in\n",
      "2021-05-11 18:42:28,821 - TaFengGraph - [INFO] - converting belongs_to_age_group\n",
      "2021-05-11 18:42:29,037 - TaFengGraph - [INFO] - converting belongs_to_subclass\n",
      "2021-05-11 18:42:29,217 - TaFengGraph - [INFO] - converting purchase\n",
      "2021-05-11 18:42:30,939 - TaFengGraph - [INFO] - converting bought_in\n",
      "2021-05-11 18:42:31,595 - TaFengGraph - [INFO] - converting belongs_to_age_group\n",
      "2021-05-11 18:42:32,362 - TaFengGraph - [INFO] - converting belongs_to_subclass\n",
      "2021-05-11 18:42:32,538 - TaFengGraph - [INFO] - converting purchase\n",
      "2021-05-11 18:42:33,814 - TaFengGraph - [INFO] - converting bought_in\n",
      "2021-05-11 18:42:35,152 - TaFengGraph - [INFO] - converting belongs_to_age_group\n",
      "2021-05-11 18:42:35,370 - TaFengGraph - [INFO] - converting belongs_to_subclass\n",
      "2021-05-11 18:42:35,547 - TaFengGraph - [INFO] - converting purchase\n",
      "2021-05-11 18:42:36,903 - TaFengGraph - [INFO] - converting bought_in\n",
      "2021-05-11 18:42:37,562 - TaFengGraph - [INFO] - converting belongs_to_age_group\n",
      "2021-05-11 18:42:38,574 - TaFengGraph - [INFO] - converting belongs_to_subclass\n",
      "2021-05-11 18:42:38,755 - TaFengGraph - [INFO] - converting purchase\n"
     ]
    }
   ],
   "source": [
    "splits = get_graph_splits(knowledge_graph, splitting_points)\n",
    "del timestamps, splitting_points"
   ]
  },
  {
   "cell_type": "code",
   "execution_count": 9,
   "metadata": {
    "id": "TmpJ3tWVQsuT"
   },
   "outputs": [],
   "source": [
    "train_splits = splits[:-1]\n",
    "test_split = splits[-1]"
   ]
  },
  {
   "cell_type": "code",
   "execution_count": 10,
   "metadata": {
    "colab": {
     "base_uri": "https://localhost:8080/"
    },
    "id": "SbQw9XGcUQM2",
    "outputId": "5bfcf5dd-9232-401a-8233-3c8ed796fbcf"
   },
   "outputs": [
    {
     "data": {
      "text/plain": [
       "device(type='cuda')"
      ]
     },
     "execution_count": 10,
     "metadata": {},
     "output_type": "execute_result"
    }
   ],
   "source": [
    "device = torch.device('cuda') if torch.cuda.is_available() else torch.device('cpu')\n",
    "device"
   ]
  },
  {
   "cell_type": "code",
   "execution_count": 11,
   "metadata": {
    "id": "wnAnGRw5Vch1"
   },
   "outputs": [],
   "source": [
    "pos_neg_triples_ds = [KgPosNegTriples(split) for split in train_splits]\n",
    "ts_ds = TimeSplittedDataset(pos_neg_triples_ds)"
   ]
  },
  {
   "cell_type": "code",
   "execution_count": 12,
   "metadata": {
    "id": "qXRy9EaFZ2C7"
   },
   "outputs": [],
   "source": [
    "customer_indices = list(map(lambda x: knowledge_graph.entity_set.entity2idx[x], knowledge_graph.entity_set.customer))\n",
    "product_indices = list(map(lambda x: knowledge_graph.entity_set.entity2idx[x], knowledge_graph.entity_set.product))"
   ]
  },
  {
   "cell_type": "code",
   "execution_count": 13,
   "metadata": {
    "id": "SEKc24bZ6ay1"
   },
   "outputs": [],
   "source": [
    "customer_ds = KgCustomers(\n",
    "    splits=train_splits,\n",
    "    customer_indices=customer_indices,\n",
    "    product_indices=product_indices,\n",
    "    purchase_relation_idx=knowledge_graph.relation_set.relation2idx['purchase']\n",
    ")"
   ]
  },
  {
   "cell_type": "code",
   "execution_count": 14,
   "metadata": {
    "colab": {
     "base_uri": "https://localhost:8080/"
    },
    "id": "ItAuUm826d5O",
    "outputId": "82bc41cb-4aa6-46fe-a51c-336719b1132e"
   },
   "outputs": [
    {
     "data": {
      "text/plain": [
       "2018"
      ]
     },
     "execution_count": 14,
     "metadata": {},
     "output_type": "execute_result"
    }
   ],
   "source": [
    "len(customer_ds.customers_to_iterate_over)"
   ]
  },
  {
   "cell_type": "code",
   "execution_count": 17,
   "metadata": {},
   "outputs": [],
   "source": [
    "config = Config(\n",
    "    entity_embedding_dim=40,\n",
    "    relation_embedding_dim=40,\n",
    "    n_entities=len(knowledge_graph.entity_set),\n",
    "    n_relations=len(knowledge_graph.relation_set),\n",
    "    n_layers=2,\n",
    "    transR_l2_weight=1e-5,\n",
    "    concat_layers=True\n",
    ")\n",
    "model = Model(\n",
    "    config,\n",
    "    layer_generators=[LayerNodeGenerator(split, n_neighbours=10) for split in train_splits],\n",
    "    device=device\n",
    ").to(device)\n",
    "\n",
    "agg_optimizer = optim.Adam(model.transR_aggregator.parameters())\n",
    "lstm_optimizer = optim.Adam(model.lstm.parameters())"
   ]
  },
  {
   "cell_type": "code",
   "execution_count": 18,
   "metadata": {
    "scrolled": true
   },
   "outputs": [
    {
     "name": "stdout",
     "output_type": "stream",
     "text": [
      "Epoch #1:\n"
     ]
    },
    {
     "data": {
      "application/vnd.jupyter.widget-view+json": {
       "model_id": "bb2e3954f9754d71b2d5594af93b571f",
       "version_major": 2,
       "version_minor": 0
      },
      "text/plain": [
       "HBox(children=(FloatProgress(value=0.0, max=873.0), HTML(value='')))"
      ]
     },
     "metadata": {},
     "output_type": "display_data"
    },
    {
     "name": "stderr",
     "output_type": "stream",
     "text": [
      "2021-05-11 18:57:31,221 - ..\\train.py - [INFO] - Iter 50: batch loss -> 0.23862336575984955, mean loss -> 0.4497533056139946\n",
      "2021-05-11 19:09:02,037 - ..\\train.py - [INFO] - Iter 100: batch loss -> 0.19406430423259735, mean loss -> 0.3391272848844528\n",
      "2021-05-11 19:21:08,044 - ..\\train.py - [INFO] - Iter 150: batch loss -> 0.1555260270833969, mean loss -> 0.2881516190369924\n",
      "2021-05-11 19:33:08,699 - ..\\train.py - [INFO] - Iter 200: batch loss -> 0.205116868019104, mean loss -> 0.26186070501804354\n",
      "2021-05-11 19:45:10,772 - ..\\train.py - [INFO] - Iter 250: batch loss -> 0.15304410457611084, mean loss -> 0.24451343035697937\n",
      "2021-05-11 19:57:19,082 - ..\\train.py - [INFO] - Iter 300: batch loss -> 0.16409720480442047, mean loss -> 0.23085244578619799\n",
      "2021-05-11 20:08:48,634 - ..\\train.py - [INFO] - Iter 350: batch loss -> 0.1751822978258133, mean loss -> 0.22017998591065407\n",
      "2021-05-11 20:20:24,017 - ..\\train.py - [INFO] - Iter 400: batch loss -> 0.1601414829492569, mean loss -> 0.21156184747815132\n",
      "2021-05-11 20:31:59,077 - ..\\train.py - [INFO] - Iter 450: batch loss -> 0.13589857518672943, mean loss -> 0.20446820461087756\n",
      "2021-05-11 20:43:21,241 - ..\\train.py - [INFO] - Iter 500: batch loss -> 0.11765726655721664, mean loss -> 0.19805219942331315\n",
      "2021-05-11 20:54:50,131 - ..\\train.py - [INFO] - Iter 550: batch loss -> 0.13219855725765228, mean loss -> 0.19337224605408582\n",
      "2021-05-11 21:06:19,615 - ..\\train.py - [INFO] - Iter 600: batch loss -> 0.13729993999004364, mean loss -> 0.18863276841739812\n",
      "2021-05-11 21:17:50,356 - ..\\train.py - [INFO] - Iter 650: batch loss -> 0.14878331124782562, mean loss -> 0.18463045971897932\n",
      "2021-05-11 21:29:21,601 - ..\\train.py - [INFO] - Iter 700: batch loss -> 0.13122321665287018, mean loss -> 0.18093388182776315\n",
      "2021-05-11 21:40:53,394 - ..\\train.py - [INFO] - Iter 750: batch loss -> 0.13477900624275208, mean loss -> 0.17747909102837245\n",
      "2021-05-11 21:52:26,461 - ..\\train.py - [INFO] - Iter 800: batch loss -> 0.09427311271429062, mean loss -> 0.17431064184755088\n",
      "2021-05-11 22:04:00,635 - ..\\train.py - [INFO] - Iter 850: batch loss -> 0.1514778733253479, mean loss -> 0.1714879573881626\n"
     ]
    },
    {
     "name": "stdout",
     "output_type": "stream",
     "text": [
      "\n",
      "Epoch #2:\n"
     ]
    },
    {
     "data": {
      "application/vnd.jupyter.widget-view+json": {
       "model_id": "4882c8f49b064717a19b8ec3594702bd",
       "version_major": 2,
       "version_minor": 0
      },
      "text/plain": [
       "HBox(children=(FloatProgress(value=0.0, max=873.0), HTML(value='')))"
      ]
     },
     "metadata": {},
     "output_type": "display_data"
    },
    {
     "name": "stderr",
     "output_type": "stream",
     "text": [
      "2021-05-11 22:20:45,308 - ..\\train.py - [INFO] - Iter 50: batch loss -> 0.1389664262533188, mean loss -> 0.11977308943867683\n",
      "2021-05-11 22:32:15,311 - ..\\train.py - [INFO] - Iter 100: batch loss -> 0.09873940795660019, mean loss -> 0.1200471780449152\n",
      "2021-05-11 22:43:47,943 - ..\\train.py - [INFO] - Iter 150: batch loss -> 0.1084408089518547, mean loss -> 0.12148398816585541\n",
      "2021-05-11 22:55:18,026 - ..\\train.py - [INFO] - Iter 200: batch loss -> 0.10475680977106094, mean loss -> 0.12020584288984537\n",
      "2021-05-11 23:06:51,051 - ..\\train.py - [INFO] - Iter 250: batch loss -> 0.11463617533445358, mean loss -> 0.1200295937359333\n",
      "2021-05-11 23:18:20,829 - ..\\train.py - [INFO] - Iter 300: batch loss -> 0.14164726436138153, mean loss -> 0.12014813462893169\n",
      "2021-05-11 23:29:51,618 - ..\\train.py - [INFO] - Iter 350: batch loss -> 0.13513967394828796, mean loss -> 0.12007419426526342\n",
      "2021-05-11 23:41:23,351 - ..\\train.py - [INFO] - Iter 400: batch loss -> 0.09856875985860825, mean loss -> 0.1197597704268992\n",
      "2021-05-11 23:52:58,691 - ..\\train.py - [INFO] - Iter 450: batch loss -> 0.08494403958320618, mean loss -> 0.11931359421875742\n",
      "2021-05-12 00:04:24,432 - ..\\train.py - [INFO] - Iter 500: batch loss -> 0.09713046997785568, mean loss -> 0.11856010983139277\n",
      "2021-05-12 00:15:52,600 - ..\\train.py - [INFO] - Iter 550: batch loss -> 0.12163405865430832, mean loss -> 0.11845615519041365\n",
      "2021-05-12 00:27:21,711 - ..\\train.py - [INFO] - Iter 600: batch loss -> 0.134649395942688, mean loss -> 0.11794918614750106\n",
      "2021-05-12 00:38:53,117 - ..\\train.py - [INFO] - Iter 650: batch loss -> 0.12987388670444489, mean loss -> 0.1171551530693586\n",
      "2021-05-12 00:50:26,694 - ..\\train.py - [INFO] - Iter 700: batch loss -> 0.10859320312738419, mean loss -> 0.11676055750144379\n",
      "2021-05-12 01:01:55,832 - ..\\train.py - [INFO] - Iter 750: batch loss -> 0.15301136672496796, mean loss -> 0.11621611746648948\n",
      "2021-05-12 01:13:26,055 - ..\\train.py - [INFO] - Iter 800: batch loss -> 0.10446885973215103, mean loss -> 0.11598578982520849\n",
      "2021-05-12 01:24:59,606 - ..\\train.py - [INFO] - Iter 850: batch loss -> 0.09482283890247345, mean loss -> 0.11572338093291311\n"
     ]
    },
    {
     "name": "stdout",
     "output_type": "stream",
     "text": [
      "\n",
      "Epoch #3:\n"
     ]
    },
    {
     "data": {
      "application/vnd.jupyter.widget-view+json": {
       "model_id": "1bed9284267e49639fdd7e215b000dc1",
       "version_major": 2,
       "version_minor": 0
      },
      "text/plain": [
       "HBox(children=(FloatProgress(value=0.0, max=873.0), HTML(value='')))"
      ]
     },
     "metadata": {},
     "output_type": "display_data"
    },
    {
     "name": "stderr",
     "output_type": "stream",
     "text": [
      "2021-05-12 01:41:43,108 - ..\\train.py - [INFO] - Iter 50: batch loss -> 0.10192755609750748, mean loss -> 0.10874966725707054\n",
      "2021-05-12 01:53:12,940 - ..\\train.py - [INFO] - Iter 100: batch loss -> 0.10293164104223251, mean loss -> 0.10965817496180534\n",
      "2021-05-12 02:04:43,100 - ..\\train.py - [INFO] - Iter 150: batch loss -> 0.10254883766174316, mean loss -> 0.10856145794192949\n",
      "2021-05-12 02:16:13,673 - ..\\train.py - [INFO] - Iter 200: batch loss -> 0.12156584113836288, mean loss -> 0.10813035558909177\n",
      "2021-05-12 02:27:46,670 - ..\\train.py - [INFO] - Iter 250: batch loss -> 0.11363563686609268, mean loss -> 0.1080582674741745\n",
      "2021-05-12 02:39:17,426 - ..\\train.py - [INFO] - Iter 300: batch loss -> 0.0657184049487114, mean loss -> 0.10757759774724643\n",
      "2021-05-12 02:50:48,568 - ..\\train.py - [INFO] - Iter 350: batch loss -> 0.11249148100614548, mean loss -> 0.10863693205373628\n",
      "2021-05-12 03:02:18,105 - ..\\train.py - [INFO] - Iter 400: batch loss -> 0.08357327431440353, mean loss -> 0.10821363430470228\n",
      "2021-05-12 03:13:49,680 - ..\\train.py - [INFO] - Iter 450: batch loss -> 0.08420147001743317, mean loss -> 0.10795703848203023\n",
      "2021-05-12 03:25:16,410 - ..\\train.py - [INFO] - Iter 500: batch loss -> 0.09197583049535751, mean loss -> 0.10771872168779373\n",
      "2021-05-12 03:36:41,829 - ..\\train.py - [INFO] - Iter 550: batch loss -> 0.09676040709018707, mean loss -> 0.10718212351880291\n",
      "2021-05-12 03:48:11,184 - ..\\train.py - [INFO] - Iter 600: batch loss -> 0.09795458614826202, mean loss -> 0.10688378919536869\n",
      "2021-05-12 03:59:40,899 - ..\\train.py - [INFO] - Iter 650: batch loss -> 0.13791091740131378, mean loss -> 0.1062735245606074\n",
      "2021-05-12 04:11:11,930 - ..\\train.py - [INFO] - Iter 700: batch loss -> 0.11180281639099121, mean loss -> 0.10606673912278243\n",
      "2021-05-12 04:22:37,037 - ..\\train.py - [INFO] - Iter 750: batch loss -> 0.10520745813846588, mean loss -> 0.10581600001454353\n",
      "2021-05-12 04:34:09,043 - ..\\train.py - [INFO] - Iter 800: batch loss -> 0.10421321541070938, mean loss -> 0.10561370676383376\n",
      "2021-05-12 04:45:42,719 - ..\\train.py - [INFO] - Iter 850: batch loss -> 0.12740281224250793, mean loss -> 0.10542579596533495\n"
     ]
    },
    {
     "name": "stdout",
     "output_type": "stream",
     "text": [
      "\n",
      "Epoch #4:\n"
     ]
    },
    {
     "data": {
      "application/vnd.jupyter.widget-view+json": {
       "model_id": "b6727317b7a44d9c93351d023d94a81d",
       "version_major": 2,
       "version_minor": 0
      },
      "text/plain": [
       "HBox(children=(FloatProgress(value=0.0, max=873.0), HTML(value='')))"
      ]
     },
     "metadata": {},
     "output_type": "display_data"
    },
    {
     "name": "stderr",
     "output_type": "stream",
     "text": [
      "2021-05-12 05:02:30,795 - ..\\train.py - [INFO] - Iter 50: batch loss -> 0.13374115526676178, mean loss -> 0.10052919238805771\n",
      "2021-05-12 05:14:01,496 - ..\\train.py - [INFO] - Iter 100: batch loss -> 0.09244241565465927, mean loss -> 0.10387442834675312\n",
      "2021-05-12 05:25:31,075 - ..\\train.py - [INFO] - Iter 150: batch loss -> 0.0954880639910698, mean loss -> 0.10214481666684151\n",
      "2021-05-12 05:37:00,069 - ..\\train.py - [INFO] - Iter 200: batch loss -> 0.07620261609554291, mean loss -> 0.10063076481223106\n",
      "2021-05-12 05:48:32,469 - ..\\train.py - [INFO] - Iter 250: batch loss -> 0.10760956257581711, mean loss -> 0.10102837723493575\n",
      "2021-05-12 06:00:04,043 - ..\\train.py - [INFO] - Iter 300: batch loss -> 0.0779295265674591, mean loss -> 0.10162569561352332\n",
      "2021-05-12 06:11:34,481 - ..\\train.py - [INFO] - Iter 350: batch loss -> 0.09632392972707748, mean loss -> 0.10147434823215008\n",
      "2021-05-12 06:23:02,156 - ..\\train.py - [INFO] - Iter 400: batch loss -> 0.09485574811697006, mean loss -> 0.10153142149560153\n",
      "2021-05-12 06:34:32,453 - ..\\train.py - [INFO] - Iter 450: batch loss -> 0.06941504031419754, mean loss -> 0.10175652297834556\n",
      "2021-05-12 06:45:57,357 - ..\\train.py - [INFO] - Iter 500: batch loss -> 0.11788200587034225, mean loss -> 0.10143346093595028\n",
      "2021-05-12 06:57:26,945 - ..\\train.py - [INFO] - Iter 550: batch loss -> 0.09748046845197678, mean loss -> 0.1013505609672178\n",
      "2021-05-12 07:08:55,263 - ..\\train.py - [INFO] - Iter 600: batch loss -> 0.10717131942510605, mean loss -> 0.10111693487192194\n",
      "2021-05-12 07:20:25,191 - ..\\train.py - [INFO] - Iter 650: batch loss -> 0.11489405483007431, mean loss -> 0.10089052150455805\n",
      "2021-05-12 07:31:57,806 - ..\\train.py - [INFO] - Iter 700: batch loss -> 0.06155836582183838, mean loss -> 0.10099082394902195\n",
      "2021-05-12 07:43:27,254 - ..\\train.py - [INFO] - Iter 750: batch loss -> 0.10160557180643082, mean loss -> 0.10060904379189015\n",
      "2021-05-12 07:54:58,729 - ..\\train.py - [INFO] - Iter 800: batch loss -> 0.07819345593452454, mean loss -> 0.10053324946202338\n",
      "2021-05-12 08:06:28,009 - ..\\train.py - [INFO] - Iter 850: batch loss -> 0.09562921524047852, mean loss -> 0.10022461877149694\n"
     ]
    },
    {
     "name": "stdout",
     "output_type": "stream",
     "text": [
      "\n",
      "Epoch #5:\n"
     ]
    },
    {
     "data": {
      "application/vnd.jupyter.widget-view+json": {
       "model_id": "190d437dcfe6410993495f531e3d1d41",
       "version_major": 2,
       "version_minor": 0
      },
      "text/plain": [
       "HBox(children=(FloatProgress(value=0.0, max=873.0), HTML(value='')))"
      ]
     },
     "metadata": {},
     "output_type": "display_data"
    },
    {
     "name": "stderr",
     "output_type": "stream",
     "text": [
      "2021-05-12 08:23:16,137 - ..\\train.py - [INFO] - Iter 50: batch loss -> 0.06150885298848152, mean loss -> 0.10016116268932819\n",
      "2021-05-12 08:34:52,844 - ..\\train.py - [INFO] - Iter 100: batch loss -> 0.11105694621801376, mean loss -> 0.09926087852567435\n",
      "2021-05-12 08:46:29,163 - ..\\train.py - [INFO] - Iter 150: batch loss -> 0.08770490437746048, mean loss -> 0.09843596145510673\n",
      "2021-05-12 08:57:58,207 - ..\\train.py - [INFO] - Iter 200: batch loss -> 0.09292431175708771, mean loss -> 0.09703299093991519\n",
      "2021-05-12 09:09:32,149 - ..\\train.py - [INFO] - Iter 250: batch loss -> 0.0992947444319725, mean loss -> 0.09698767648637295\n",
      "2021-05-12 09:21:06,385 - ..\\train.py - [INFO] - Iter 300: batch loss -> 0.06772222369909286, mean loss -> 0.09694320282588402\n",
      "2021-05-12 09:32:37,693 - ..\\train.py - [INFO] - Iter 350: batch loss -> 0.09673847258090973, mean loss -> 0.09687722657408034\n",
      "2021-05-12 09:44:06,837 - ..\\train.py - [INFO] - Iter 400: batch loss -> 0.10891266912221909, mean loss -> 0.09654537660069763\n",
      "2021-05-12 09:55:36,749 - ..\\train.py - [INFO] - Iter 450: batch loss -> 0.11413086950778961, mean loss -> 0.09683300535711978\n",
      "2021-05-12 10:07:05,801 - ..\\train.py - [INFO] - Iter 500: batch loss -> 0.09448327869176865, mean loss -> 0.09670815175026655\n",
      "2021-05-12 10:18:32,455 - ..\\train.py - [INFO] - Iter 550: batch loss -> 0.11719948053359985, mean loss -> 0.09659511989490552\n",
      "2021-05-12 10:30:04,022 - ..\\train.py - [INFO] - Iter 600: batch loss -> 0.09933740645647049, mean loss -> 0.09650473482285937\n",
      "2021-05-12 10:41:32,314 - ..\\train.py - [INFO] - Iter 650: batch loss -> 0.10165240615606308, mean loss -> 0.09634292632341385\n",
      "2021-05-12 10:53:05,970 - ..\\train.py - [INFO] - Iter 700: batch loss -> 0.1068076640367508, mean loss -> 0.0963618792699916\n",
      "2021-05-12 11:04:33,692 - ..\\train.py - [INFO] - Iter 750: batch loss -> 0.10849908739328384, mean loss -> 0.09620841241876284\n",
      "2021-05-12 11:16:06,146 - ..\\train.py - [INFO] - Iter 800: batch loss -> 0.09716786444187164, mean loss -> 0.09598183274269104\n",
      "2021-05-12 11:27:41,809 - ..\\train.py - [INFO] - Iter 850: batch loss -> 0.07657229155302048, mean loss -> 0.09614133679691483\n"
     ]
    },
    {
     "name": "stdout",
     "output_type": "stream",
     "text": [
      "\n",
      "Epoch #6:\n"
     ]
    },
    {
     "data": {
      "application/vnd.jupyter.widget-view+json": {
       "model_id": "4a2fbb9836fb4b30b2368d2e52f77083",
       "version_major": 2,
       "version_minor": 0
      },
      "text/plain": [
       "HBox(children=(FloatProgress(value=0.0, max=873.0), HTML(value='')))"
      ]
     },
     "metadata": {},
     "output_type": "display_data"
    },
    {
     "name": "stderr",
     "output_type": "stream",
     "text": [
      "2021-05-12 11:44:23,708 - ..\\train.py - [INFO] - Iter 50: batch loss -> 0.06110602244734764, mean loss -> 0.09379192166030408\n",
      "2021-05-12 11:55:55,148 - ..\\train.py - [INFO] - Iter 100: batch loss -> 0.1005798727273941, mean loss -> 0.09453488323837518\n"
     ]
    },
    {
     "ename": "KeyboardInterrupt",
     "evalue": "",
     "output_type": "error",
     "traceback": [
      "\u001b[1;31m---------------------------------------------------------------------------\u001b[0m",
      "\u001b[1;31mKeyboardInterrupt\u001b[0m                         Traceback (most recent call last)",
      "\u001b[1;32m<ipython-input-18-75a1f2f6da1d>\u001b[0m in \u001b[0;36m<module>\u001b[1;34m\u001b[0m\n\u001b[0;32m      1\u001b[0m \u001b[1;32mfor\u001b[0m \u001b[0mi\u001b[0m \u001b[1;32min\u001b[0m \u001b[0mrange\u001b[0m\u001b[1;33m(\u001b[0m\u001b[1;36m10\u001b[0m\u001b[1;33m)\u001b[0m\u001b[1;33m:\u001b[0m\u001b[1;33m\u001b[0m\u001b[0m\n\u001b[0;32m      2\u001b[0m     \u001b[0mprint\u001b[0m\u001b[1;33m(\u001b[0m\u001b[1;34mf'Epoch #{i+1}:'\u001b[0m\u001b[1;33m)\u001b[0m\u001b[1;33m\u001b[0m\u001b[0m\n\u001b[1;32m----> 3\u001b[1;33m     \u001b[0mtrain_transR_one_epoch\u001b[0m\u001b[1;33m(\u001b[0m\u001b[0mmodel\u001b[0m\u001b[1;33m,\u001b[0m \u001b[0mts_ds\u001b[0m\u001b[1;33m,\u001b[0m \u001b[0magg_optimizer\u001b[0m\u001b[1;33m,\u001b[0m \u001b[0mbatch_size\u001b[0m\u001b[1;33m=\u001b[0m\u001b[1;36m64\u001b[0m\u001b[1;33m,\u001b[0m \u001b[0mverbose\u001b[0m\u001b[1;33m=\u001b[0m\u001b[1;36m50\u001b[0m\u001b[1;33m,\u001b[0m \u001b[0muse_tqdm\u001b[0m\u001b[1;33m=\u001b[0m\u001b[1;32mTrue\u001b[0m\u001b[1;33m)\u001b[0m\u001b[1;33m\u001b[0m\u001b[0m\n\u001b[0m\u001b[0;32m      4\u001b[0m     torch.save({\n\u001b[0;32m      5\u001b[0m         \u001b[1;34m'transR_aggregator'\u001b[0m\u001b[1;33m:\u001b[0m \u001b[0mmodel\u001b[0m\u001b[1;33m.\u001b[0m\u001b[0mtransR_aggregator\u001b[0m\u001b[1;33m.\u001b[0m\u001b[0mstate_dict\u001b[0m\u001b[1;33m(\u001b[0m\u001b[1;33m)\u001b[0m\u001b[1;33m,\u001b[0m\u001b[1;33m\u001b[0m\u001b[0m\n",
      "\u001b[1;32m~\\OneDrive\\Desktop\\diplom\\time_kge_gat_msc_thesis\\train.py\u001b[0m in \u001b[0;36mtrain_transR_one_epoch\u001b[1;34m(model, dataset, optimizer, batch_size, verbose, use_tqdm)\u001b[0m\n\u001b[0;32m     54\u001b[0m         \u001b[0mloss\u001b[0m \u001b[1;33m=\u001b[0m \u001b[0mmodel\u001b[0m\u001b[1;33m.\u001b[0m\u001b[0mtransR_loss\u001b[0m\u001b[1;33m(\u001b[0m\u001b[0mbatches\u001b[0m\u001b[1;33m,\u001b[0m \u001b[0mtime_outputs\u001b[0m\u001b[1;33m)\u001b[0m\u001b[1;33m\u001b[0m\u001b[0m\n\u001b[0;32m     55\u001b[0m \u001b[1;33m\u001b[0m\u001b[0m\n\u001b[1;32m---> 56\u001b[1;33m         \u001b[0mloss\u001b[0m\u001b[1;33m.\u001b[0m\u001b[0mbackward\u001b[0m\u001b[1;33m(\u001b[0m\u001b[1;33m)\u001b[0m\u001b[1;33m\u001b[0m\u001b[0m\n\u001b[0m\u001b[0;32m     57\u001b[0m         \u001b[0moptimizer\u001b[0m\u001b[1;33m.\u001b[0m\u001b[0mstep\u001b[0m\u001b[1;33m(\u001b[0m\u001b[1;33m)\u001b[0m\u001b[1;33m\u001b[0m\u001b[0m\n\u001b[0;32m     58\u001b[0m         \u001b[0moptimizer\u001b[0m\u001b[1;33m.\u001b[0m\u001b[0mzero_grad\u001b[0m\u001b[1;33m(\u001b[0m\u001b[1;33m)\u001b[0m\u001b[1;33m\u001b[0m\u001b[0m\n",
      "\u001b[1;32m~\\Anaconda3\\lib\\site-packages\\torch\\tensor.py\u001b[0m in \u001b[0;36mbackward\u001b[1;34m(self, gradient, retain_graph, create_graph, inputs)\u001b[0m\n\u001b[0;32m    243\u001b[0m                 \u001b[0mcreate_graph\u001b[0m\u001b[1;33m=\u001b[0m\u001b[0mcreate_graph\u001b[0m\u001b[1;33m,\u001b[0m\u001b[1;33m\u001b[0m\u001b[0m\n\u001b[0;32m    244\u001b[0m                 inputs=inputs)\n\u001b[1;32m--> 245\u001b[1;33m         \u001b[0mtorch\u001b[0m\u001b[1;33m.\u001b[0m\u001b[0mautograd\u001b[0m\u001b[1;33m.\u001b[0m\u001b[0mbackward\u001b[0m\u001b[1;33m(\u001b[0m\u001b[0mself\u001b[0m\u001b[1;33m,\u001b[0m \u001b[0mgradient\u001b[0m\u001b[1;33m,\u001b[0m \u001b[0mretain_graph\u001b[0m\u001b[1;33m,\u001b[0m \u001b[0mcreate_graph\u001b[0m\u001b[1;33m,\u001b[0m \u001b[0minputs\u001b[0m\u001b[1;33m=\u001b[0m\u001b[0minputs\u001b[0m\u001b[1;33m)\u001b[0m\u001b[1;33m\u001b[0m\u001b[0m\n\u001b[0m\u001b[0;32m    246\u001b[0m \u001b[1;33m\u001b[0m\u001b[0m\n\u001b[0;32m    247\u001b[0m     \u001b[1;32mdef\u001b[0m \u001b[0mregister_hook\u001b[0m\u001b[1;33m(\u001b[0m\u001b[0mself\u001b[0m\u001b[1;33m,\u001b[0m \u001b[0mhook\u001b[0m\u001b[1;33m)\u001b[0m\u001b[1;33m:\u001b[0m\u001b[1;33m\u001b[0m\u001b[0m\n",
      "\u001b[1;32m~\\Anaconda3\\lib\\site-packages\\torch\\autograd\\__init__.py\u001b[0m in \u001b[0;36mbackward\u001b[1;34m(tensors, grad_tensors, retain_graph, create_graph, grad_variables, inputs)\u001b[0m\n\u001b[0;32m    145\u001b[0m     Variable._execution_engine.run_backward(\n\u001b[0;32m    146\u001b[0m         \u001b[0mtensors\u001b[0m\u001b[1;33m,\u001b[0m \u001b[0mgrad_tensors_\u001b[0m\u001b[1;33m,\u001b[0m \u001b[0mretain_graph\u001b[0m\u001b[1;33m,\u001b[0m \u001b[0mcreate_graph\u001b[0m\u001b[1;33m,\u001b[0m \u001b[0minputs\u001b[0m\u001b[1;33m,\u001b[0m\u001b[1;33m\u001b[0m\u001b[0m\n\u001b[1;32m--> 147\u001b[1;33m         allow_unreachable=True, accumulate_grad=True)  # allow_unreachable flag\n\u001b[0m\u001b[0;32m    148\u001b[0m \u001b[1;33m\u001b[0m\u001b[0m\n\u001b[0;32m    149\u001b[0m \u001b[1;33m\u001b[0m\u001b[0m\n",
      "\u001b[1;31mKeyboardInterrupt\u001b[0m: "
     ]
    }
   ],
   "source": [
    "for i in range(10):\n",
    "    print(f'Epoch #{i+1}:')\n",
    "    train_transR_one_epoch(model, ts_ds, agg_optimizer, batch_size=64, verbose=50, use_tqdm=True)\n",
    "    torch.save({\n",
    "        'transR_aggregator': model.transR_aggregator.state_dict(),\n",
    "        'agg_optimizer': agg_optimizer.state_dict()\n",
    "    }, f'../checkpoints/transR_aggregator_{i}_epochs_40_40_10nb')"
   ]
  },
  {
   "cell_type": "code",
   "execution_count": 27,
   "metadata": {},
   "outputs": [],
   "source": [
    "# torch.save({\n",
    "#     'transR_aggregator': model.transR_aggregator.state_dict(),\n",
    "#     'agg_optimizer': agg_optimizer.state_dict()\n",
    "# }, '../checkpoints/transR_aggregator_2_epochs')"
   ]
  },
  {
   "cell_type": "code",
   "execution_count": 19,
   "metadata": {},
   "outputs": [
    {
     "data": {
      "text/plain": [
       "TransrAggregator(\n",
       "  (kgat): KGAT(\n",
       "    (relation_embedder): Embedding(4, 40)\n",
       "    (aggregator): RelationAttentiveAggregator()\n",
       "    (activation): LeakyReLU(negative_slope=0.01, inplace=True)\n",
       "    (node_layer_updating_matrices): ModuleList(\n",
       "      (0): Linear(in_features=80, out_features=40, bias=True)\n",
       "      (1): Linear(in_features=80, out_features=40, bias=True)\n",
       "    )\n",
       "  )\n",
       "  (time_entity_embeddings): ModuleList(\n",
       "    (0): Embedding(55868, 40)\n",
       "    (1): Embedding(55868, 40)\n",
       "    (2): Embedding(55868, 40)\n",
       "    (3): Embedding(55868, 40)\n",
       "    (4): Embedding(55868, 40)\n",
       "  )\n",
       ")"
      ]
     },
     "execution_count": 19,
     "metadata": {},
     "output_type": "execute_result"
    }
   ],
   "source": [
    "model.transR_aggregator"
   ]
  },
  {
   "cell_type": "code",
   "execution_count": 20,
   "metadata": {},
   "outputs": [
    {
     "name": "stdout",
     "output_type": "stream",
     "text": [
      "Epoch #1:\n"
     ]
    },
    {
     "data": {
      "application/vnd.jupyter.widget-view+json": {
       "model_id": "5b3b647585134fbea016ce7eddad5b13",
       "version_major": 2,
       "version_minor": 0
      },
      "text/plain": [
       "HBox(children=(FloatProgress(value=0.0, max=32.0), HTML(value='')))"
      ]
     },
     "metadata": {},
     "output_type": "display_data"
    },
    {
     "name": "stderr",
     "output_type": "stream",
     "text": [
      "2021-05-12 12:05:58,865 - ..\\train.py - [INFO] - Iter 10: batch loss -> 0.6504267454147339, mean loss -> 0.6723116338253021\n",
      "2021-05-12 12:08:38,496 - ..\\train.py - [INFO] - Iter 20: batch loss -> 0.5211248397827148, mean loss -> 0.629296749830246\n",
      "2021-05-12 12:11:18,147 - ..\\train.py - [INFO] - Iter 30: batch loss -> 0.4017091989517212, mean loss -> 0.5603638390700022\n"
     ]
    },
    {
     "name": "stdout",
     "output_type": "stream",
     "text": [
      "\n",
      "Epoch #2:\n"
     ]
    },
    {
     "data": {
      "application/vnd.jupyter.widget-view+json": {
       "model_id": "4d916e67d7454f2888bda65f9c852a61",
       "version_major": 2,
       "version_minor": 0
      },
      "text/plain": [
       "HBox(children=(FloatProgress(value=0.0, max=32.0), HTML(value='')))"
      ]
     },
     "metadata": {},
     "output_type": "display_data"
    },
    {
     "name": "stderr",
     "output_type": "stream",
     "text": [
      "2021-05-12 12:14:23,561 - ..\\train.py - [INFO] - Iter 10: batch loss -> 0.45109236240386963, mean loss -> 0.35554543435573577\n",
      "2021-05-12 12:17:03,622 - ..\\train.py - [INFO] - Iter 20: batch loss -> 0.32455986738204956, mean loss -> 0.3451751470565796\n",
      "2021-05-12 12:19:42,407 - ..\\train.py - [INFO] - Iter 30: batch loss -> 0.283122718334198, mean loss -> 0.33316895067691804\n"
     ]
    },
    {
     "name": "stdout",
     "output_type": "stream",
     "text": [
      "\n",
      "Epoch #3:\n"
     ]
    },
    {
     "data": {
      "application/vnd.jupyter.widget-view+json": {
       "model_id": "c61c4ebebbff4a2c9a29eaee19bdcc2b",
       "version_major": 2,
       "version_minor": 0
      },
      "text/plain": [
       "HBox(children=(FloatProgress(value=0.0, max=32.0), HTML(value='')))"
      ]
     },
     "metadata": {},
     "output_type": "display_data"
    },
    {
     "name": "stderr",
     "output_type": "stream",
     "text": [
      "2021-05-12 12:22:49,613 - ..\\train.py - [INFO] - Iter 10: batch loss -> 0.3607744872570038, mean loss -> 0.2960245326161385\n",
      "2021-05-12 12:25:30,752 - ..\\train.py - [INFO] - Iter 20: batch loss -> 0.2563594579696655, mean loss -> 0.2914949171245098\n",
      "2021-05-12 12:28:09,670 - ..\\train.py - [INFO] - Iter 30: batch loss -> 0.45373111963272095, mean loss -> 0.2953773121039073\n"
     ]
    },
    {
     "name": "stdout",
     "output_type": "stream",
     "text": [
      "\n",
      "Epoch #4:\n"
     ]
    },
    {
     "data": {
      "application/vnd.jupyter.widget-view+json": {
       "model_id": "3854093ea92e492d863850549bf053e5",
       "version_major": 2,
       "version_minor": 0
      },
      "text/plain": [
       "HBox(children=(FloatProgress(value=0.0, max=32.0), HTML(value='')))"
      ]
     },
     "metadata": {},
     "output_type": "display_data"
    },
    {
     "name": "stderr",
     "output_type": "stream",
     "text": [
      "2021-05-12 12:31:14,658 - ..\\train.py - [INFO] - Iter 10: batch loss -> 0.3153270483016968, mean loss -> 0.25811757445335387\n",
      "2021-05-12 12:33:53,873 - ..\\train.py - [INFO] - Iter 20: batch loss -> 0.1972748339176178, mean loss -> 0.2551142893731594\n",
      "2021-05-12 12:36:32,079 - ..\\train.py - [INFO] - Iter 30: batch loss -> 0.33990249037742615, mean loss -> 0.2608024929960569\n"
     ]
    },
    {
     "name": "stdout",
     "output_type": "stream",
     "text": [
      "\n",
      "Epoch #5:\n"
     ]
    },
    {
     "data": {
      "application/vnd.jupyter.widget-view+json": {
       "model_id": "d87f0e0ad48942789bd109243dc28fc9",
       "version_major": 2,
       "version_minor": 0
      },
      "text/plain": [
       "HBox(children=(FloatProgress(value=0.0, max=32.0), HTML(value='')))"
      ]
     },
     "metadata": {},
     "output_type": "display_data"
    },
    {
     "name": "stderr",
     "output_type": "stream",
     "text": [
      "2021-05-12 12:39:38,645 - ..\\train.py - [INFO] - Iter 10: batch loss -> 0.2647398114204407, mean loss -> 0.25233646482229233\n",
      "2021-05-12 12:42:17,769 - ..\\train.py - [INFO] - Iter 20: batch loss -> 0.23195703327655792, mean loss -> 0.2545634150505066\n",
      "2021-05-12 12:44:57,796 - ..\\train.py - [INFO] - Iter 30: batch loss -> 0.2962835729122162, mean loss -> 0.266706391175588\n"
     ]
    },
    {
     "name": "stdout",
     "output_type": "stream",
     "text": [
      "\n",
      "Epoch #6:\n"
     ]
    },
    {
     "data": {
      "application/vnd.jupyter.widget-view+json": {
       "model_id": "a0dbffc29de24ba7ba56199bf1003114",
       "version_major": 2,
       "version_minor": 0
      },
      "text/plain": [
       "HBox(children=(FloatProgress(value=0.0, max=32.0), HTML(value='')))"
      ]
     },
     "metadata": {},
     "output_type": "display_data"
    },
    {
     "name": "stderr",
     "output_type": "stream",
     "text": [
      "2021-05-12 12:48:04,755 - ..\\train.py - [INFO] - Iter 10: batch loss -> 0.29964479804039, mean loss -> 0.23459210395812988\n",
      "2021-05-12 12:50:43,620 - ..\\train.py - [INFO] - Iter 20: batch loss -> 0.2221505343914032, mean loss -> 0.24852111041545868\n",
      "2021-05-12 12:53:24,615 - ..\\train.py - [INFO] - Iter 30: batch loss -> 0.17506732046604156, mean loss -> 0.25122401416301726\n"
     ]
    },
    {
     "name": "stdout",
     "output_type": "stream",
     "text": [
      "\n",
      "Epoch #7:\n"
     ]
    },
    {
     "data": {
      "application/vnd.jupyter.widget-view+json": {
       "model_id": "2d3d7d9ac6744220a22052264af37f3c",
       "version_major": 2,
       "version_minor": 0
      },
      "text/plain": [
       "HBox(children=(FloatProgress(value=0.0, max=32.0), HTML(value='')))"
      ]
     },
     "metadata": {},
     "output_type": "display_data"
    },
    {
     "name": "stderr",
     "output_type": "stream",
     "text": [
      "2021-05-12 12:56:32,570 - ..\\train.py - [INFO] - Iter 10: batch loss -> 0.2305637151002884, mean loss -> 0.24491228759288788\n",
      "2021-05-12 12:59:12,160 - ..\\train.py - [INFO] - Iter 20: batch loss -> 0.2657455801963806, mean loss -> 0.24114710763096808\n",
      "2021-05-12 13:01:51,340 - ..\\train.py - [INFO] - Iter 30: batch loss -> 0.19023822247982025, mean loss -> 0.23994937390089036\n"
     ]
    },
    {
     "name": "stdout",
     "output_type": "stream",
     "text": [
      "\n",
      "Epoch #8:\n"
     ]
    },
    {
     "data": {
      "application/vnd.jupyter.widget-view+json": {
       "model_id": "193b4be028834a1d94e609253e6e99e2",
       "version_major": 2,
       "version_minor": 0
      },
      "text/plain": [
       "HBox(children=(FloatProgress(value=0.0, max=32.0), HTML(value='')))"
      ]
     },
     "metadata": {},
     "output_type": "display_data"
    },
    {
     "name": "stderr",
     "output_type": "stream",
     "text": [
      "2021-05-12 13:04:56,791 - ..\\train.py - [INFO] - Iter 10: batch loss -> 0.18884576857089996, mean loss -> 0.24196859449148178\n",
      "2021-05-12 13:07:35,629 - ..\\train.py - [INFO] - Iter 20: batch loss -> 0.23561444878578186, mean loss -> 0.2281319208443165\n",
      "2021-05-12 13:10:15,026 - ..\\train.py - [INFO] - Iter 30: batch loss -> 0.2811773121356964, mean loss -> 0.23388133943080902\n"
     ]
    },
    {
     "name": "stdout",
     "output_type": "stream",
     "text": [
      "\n",
      "Epoch #9:\n"
     ]
    },
    {
     "data": {
      "application/vnd.jupyter.widget-view+json": {
       "model_id": "693e42b672744b56a55a41946f4a2013",
       "version_major": 2,
       "version_minor": 0
      },
      "text/plain": [
       "HBox(children=(FloatProgress(value=0.0, max=32.0), HTML(value='')))"
      ]
     },
     "metadata": {},
     "output_type": "display_data"
    },
    {
     "name": "stderr",
     "output_type": "stream",
     "text": [
      "2021-05-12 13:13:20,133 - ..\\train.py - [INFO] - Iter 10: batch loss -> 0.26523536443710327, mean loss -> 0.23100804090499877\n",
      "2021-05-12 13:15:58,474 - ..\\train.py - [INFO] - Iter 20: batch loss -> 0.1809316724538803, mean loss -> 0.24011314809322357\n",
      "2021-05-12 13:18:46,875 - ..\\train.py - [INFO] - Iter 30: batch loss -> 0.27311423420906067, mean loss -> 0.23443628698587418\n"
     ]
    },
    {
     "name": "stdout",
     "output_type": "stream",
     "text": [
      "\n",
      "Epoch #10:\n"
     ]
    },
    {
     "data": {
      "application/vnd.jupyter.widget-view+json": {
       "model_id": "b00c6224e41b45aeb634f38313365db5",
       "version_major": 2,
       "version_minor": 0
      },
      "text/plain": [
       "HBox(children=(FloatProgress(value=0.0, max=32.0), HTML(value='')))"
      ]
     },
     "metadata": {},
     "output_type": "display_data"
    },
    {
     "ename": "KeyboardInterrupt",
     "evalue": "",
     "output_type": "error",
     "traceback": [
      "\u001b[1;31m---------------------------------------------------------------------------\u001b[0m",
      "\u001b[1;31mKeyboardInterrupt\u001b[0m                         Traceback (most recent call last)",
      "\u001b[1;32m<ipython-input-20-e9a75b1c5d26>\u001b[0m in \u001b[0;36m<module>\u001b[1;34m\u001b[0m\n\u001b[0;32m      1\u001b[0m \u001b[1;32mfor\u001b[0m \u001b[0mi\u001b[0m \u001b[1;32min\u001b[0m \u001b[0mrange\u001b[0m\u001b[1;33m(\u001b[0m\u001b[1;36m10\u001b[0m\u001b[1;33m)\u001b[0m\u001b[1;33m:\u001b[0m\u001b[1;33m\u001b[0m\u001b[0m\n\u001b[0;32m      2\u001b[0m     \u001b[0mprint\u001b[0m\u001b[1;33m(\u001b[0m\u001b[1;34mf'Epoch #{i+1}:'\u001b[0m\u001b[1;33m)\u001b[0m\u001b[1;33m\u001b[0m\u001b[0m\n\u001b[1;32m----> 3\u001b[1;33m     \u001b[0mtrain_lstm_one_epoch\u001b[0m\u001b[1;33m(\u001b[0m\u001b[0mmodel\u001b[0m\u001b[1;33m,\u001b[0m \u001b[0mcustomer_ds\u001b[0m\u001b[1;33m,\u001b[0m \u001b[0mlstm_optimizer\u001b[0m\u001b[1;33m,\u001b[0m \u001b[1;36m64\u001b[0m\u001b[1;33m,\u001b[0m \u001b[1;36m10\u001b[0m\u001b[1;33m,\u001b[0m \u001b[1;32mTrue\u001b[0m\u001b[1;33m)\u001b[0m\u001b[1;33m\u001b[0m\u001b[0m\n\u001b[0m",
      "\u001b[1;32m~\\OneDrive\\Desktop\\diplom\\time_kge_gat_msc_thesis\\train.py\u001b[0m in \u001b[0;36mtrain_lstm_one_epoch\u001b[1;34m(model, dataset, optimizer, batch_size, verbose, use_tqdm)\u001b[0m\n\u001b[0;32m     80\u001b[0m         \u001b[0mtotal_loss\u001b[0m \u001b[1;33m+=\u001b[0m \u001b[0mloss\u001b[0m\u001b[1;33m.\u001b[0m\u001b[0mitem\u001b[0m\u001b[1;33m(\u001b[0m\u001b[1;33m)\u001b[0m\u001b[1;33m\u001b[0m\u001b[0m\n\u001b[0;32m     81\u001b[0m \u001b[1;33m\u001b[0m\u001b[0m\n\u001b[1;32m---> 82\u001b[1;33m         \u001b[0mloss\u001b[0m\u001b[1;33m.\u001b[0m\u001b[0mbackward\u001b[0m\u001b[1;33m(\u001b[0m\u001b[1;33m)\u001b[0m\u001b[1;33m\u001b[0m\u001b[0m\n\u001b[0m\u001b[0;32m     83\u001b[0m         \u001b[0moptimizer\u001b[0m\u001b[1;33m.\u001b[0m\u001b[0mstep\u001b[0m\u001b[1;33m(\u001b[0m\u001b[1;33m)\u001b[0m\u001b[1;33m\u001b[0m\u001b[0m\n\u001b[0;32m     84\u001b[0m         \u001b[0moptimizer\u001b[0m\u001b[1;33m.\u001b[0m\u001b[0mzero_grad\u001b[0m\u001b[1;33m(\u001b[0m\u001b[1;33m)\u001b[0m\u001b[1;33m\u001b[0m\u001b[0m\n",
      "\u001b[1;32m~\\Anaconda3\\lib\\site-packages\\torch\\tensor.py\u001b[0m in \u001b[0;36mbackward\u001b[1;34m(self, gradient, retain_graph, create_graph, inputs)\u001b[0m\n\u001b[0;32m    243\u001b[0m                 \u001b[0mcreate_graph\u001b[0m\u001b[1;33m=\u001b[0m\u001b[0mcreate_graph\u001b[0m\u001b[1;33m,\u001b[0m\u001b[1;33m\u001b[0m\u001b[0m\n\u001b[0;32m    244\u001b[0m                 inputs=inputs)\n\u001b[1;32m--> 245\u001b[1;33m         \u001b[0mtorch\u001b[0m\u001b[1;33m.\u001b[0m\u001b[0mautograd\u001b[0m\u001b[1;33m.\u001b[0m\u001b[0mbackward\u001b[0m\u001b[1;33m(\u001b[0m\u001b[0mself\u001b[0m\u001b[1;33m,\u001b[0m \u001b[0mgradient\u001b[0m\u001b[1;33m,\u001b[0m \u001b[0mretain_graph\u001b[0m\u001b[1;33m,\u001b[0m \u001b[0mcreate_graph\u001b[0m\u001b[1;33m,\u001b[0m \u001b[0minputs\u001b[0m\u001b[1;33m=\u001b[0m\u001b[0minputs\u001b[0m\u001b[1;33m)\u001b[0m\u001b[1;33m\u001b[0m\u001b[0m\n\u001b[0m\u001b[0;32m    246\u001b[0m \u001b[1;33m\u001b[0m\u001b[0m\n\u001b[0;32m    247\u001b[0m     \u001b[1;32mdef\u001b[0m \u001b[0mregister_hook\u001b[0m\u001b[1;33m(\u001b[0m\u001b[0mself\u001b[0m\u001b[1;33m,\u001b[0m \u001b[0mhook\u001b[0m\u001b[1;33m)\u001b[0m\u001b[1;33m:\u001b[0m\u001b[1;33m\u001b[0m\u001b[0m\n",
      "\u001b[1;32m~\\Anaconda3\\lib\\site-packages\\torch\\autograd\\__init__.py\u001b[0m in \u001b[0;36mbackward\u001b[1;34m(tensors, grad_tensors, retain_graph, create_graph, grad_variables, inputs)\u001b[0m\n\u001b[0;32m    145\u001b[0m     Variable._execution_engine.run_backward(\n\u001b[0;32m    146\u001b[0m         \u001b[0mtensors\u001b[0m\u001b[1;33m,\u001b[0m \u001b[0mgrad_tensors_\u001b[0m\u001b[1;33m,\u001b[0m \u001b[0mretain_graph\u001b[0m\u001b[1;33m,\u001b[0m \u001b[0mcreate_graph\u001b[0m\u001b[1;33m,\u001b[0m \u001b[0minputs\u001b[0m\u001b[1;33m,\u001b[0m\u001b[1;33m\u001b[0m\u001b[0m\n\u001b[1;32m--> 147\u001b[1;33m         allow_unreachable=True, accumulate_grad=True)  # allow_unreachable flag\n\u001b[0m\u001b[0;32m    148\u001b[0m \u001b[1;33m\u001b[0m\u001b[0m\n\u001b[0;32m    149\u001b[0m \u001b[1;33m\u001b[0m\u001b[0m\n",
      "\u001b[1;31mKeyboardInterrupt\u001b[0m: "
     ]
    }
   ],
   "source": [
    "for i in range(10):\n",
    "    print(f'Epoch #{i+1}:')\n",
    "    train_lstm_one_epoch(model, customer_ds, lstm_optimizer, 64, 10, True)"
   ]
  },
  {
   "cell_type": "code",
   "execution_count": 77,
   "metadata": {},
   "outputs": [],
   "source": [
    "load_weights(model, '../checkpoints/transR_aggregator_2_epochs', '../checkpoints/lstm_4_epochs')"
   ]
  },
  {
   "cell_type": "code",
   "execution_count": 21,
   "metadata": {},
   "outputs": [
    {
     "data": {
      "text/plain": [
       "Model(\n",
       "  (transR_aggregator): TransrAggregator(\n",
       "    (kgat): KGAT(\n",
       "      (relation_embedder): Embedding(4, 40)\n",
       "      (aggregator): RelationAttentiveAggregator()\n",
       "      (activation): LeakyReLU(negative_slope=0.01, inplace=True)\n",
       "      (node_layer_updating_matrices): ModuleList(\n",
       "        (0): Linear(in_features=80, out_features=40, bias=True)\n",
       "        (1): Linear(in_features=80, out_features=40, bias=True)\n",
       "      )\n",
       "    )\n",
       "    (time_entity_embeddings): ModuleList(\n",
       "      (0): Embedding(55868, 40)\n",
       "      (1): Embedding(55868, 40)\n",
       "      (2): Embedding(55868, 40)\n",
       "      (3): Embedding(55868, 40)\n",
       "      (4): Embedding(55868, 40)\n",
       "    )\n",
       "  )\n",
       "  (lstm): LSTM(80, 80, batch_first=True)\n",
       ")"
      ]
     },
     "execution_count": 21,
     "metadata": {},
     "output_type": "execute_result"
    }
   ],
   "source": [
    "model"
   ]
  },
  {
   "cell_type": "code",
   "execution_count": 22,
   "metadata": {},
   "outputs": [],
   "source": [
    "test_interactions = get_test_interactions(\n",
    "    customer_ds.customers_to_iterate_over,\n",
    "    test_split,\n",
    "    knowledge_graph.relation_set.relation2idx['purchase']\n",
    ")"
   ]
  },
  {
   "cell_type": "code",
   "execution_count": null,
   "metadata": {},
   "outputs": [],
   "source": []
  },
  {
   "cell_type": "code",
   "execution_count": 23,
   "metadata": {},
   "outputs": [
    {
     "data": {
      "application/vnd.jupyter.widget-view+json": {
       "model_id": "11a87dd74faa482a9cf37c3357cf9bcc",
       "version_major": 2,
       "version_minor": 0
      },
      "text/plain": [
       "HBox(children=(FloatProgress(value=0.0, max=56.0), HTML(value='')))"
      ]
     },
     "metadata": {},
     "output_type": "display_data"
    },
    {
     "name": "stdout",
     "output_type": "stream",
     "text": [
      "\n"
     ]
    },
    {
     "data": {
      "text/plain": [
       "(0.0429541595925292, 0.08082151887958186, 0.572799475568759)"
      ]
     },
     "execution_count": 23,
     "metadata": {},
     "output_type": "execute_result"
    }
   ],
   "source": [
    "evaluate(model, test_interactions, product_indices, 32, 20, True)"
   ]
  },
  {
   "cell_type": "code",
   "execution_count": null,
   "metadata": {},
   "outputs": [],
   "source": []
  }
 ],
 "metadata": {
  "accelerator": "GPU",
  "colab": {
   "name": "colab_train.ipynb",
   "provenance": []
  },
  "kernelspec": {
   "display_name": "Python 3",
   "language": "python",
   "name": "python3"
  },
  "language_info": {
   "codemirror_mode": {
    "name": "ipython",
    "version": 3
   },
   "file_extension": ".py",
   "mimetype": "text/x-python",
   "name": "python",
   "nbconvert_exporter": "python",
   "pygments_lexer": "ipython3",
   "version": "3.6.4"
  },
  "widgets": {
   "application/vnd.jupyter.widget-state+json": {
    "3adbcede053e4b04bb5e84dec5caed92": {
     "model_module": "@jupyter-widgets/base",
     "model_name": "LayoutModel",
     "state": {
      "_model_module": "@jupyter-widgets/base",
      "_model_module_version": "1.2.0",
      "_model_name": "LayoutModel",
      "_view_count": null,
      "_view_module": "@jupyter-widgets/base",
      "_view_module_version": "1.2.0",
      "_view_name": "LayoutView",
      "align_content": null,
      "align_items": null,
      "align_self": null,
      "border": null,
      "bottom": null,
      "display": null,
      "flex": null,
      "flex_flow": null,
      "grid_area": null,
      "grid_auto_columns": null,
      "grid_auto_flow": null,
      "grid_auto_rows": null,
      "grid_column": null,
      "grid_gap": null,
      "grid_row": null,
      "grid_template_areas": null,
      "grid_template_columns": null,
      "grid_template_rows": null,
      "height": null,
      "justify_content": null,
      "justify_items": null,
      "left": null,
      "margin": null,
      "max_height": null,
      "max_width": null,
      "min_height": null,
      "min_width": null,
      "object_fit": null,
      "object_position": null,
      "order": null,
      "overflow": null,
      "overflow_x": null,
      "overflow_y": null,
      "padding": null,
      "right": null,
      "top": null,
      "visibility": null,
      "width": null
     }
    },
    "4f193ee22cb841bc85b479c5b12fe595": {
     "model_module": "@jupyter-widgets/base",
     "model_name": "LayoutModel",
     "state": {
      "_model_module": "@jupyter-widgets/base",
      "_model_module_version": "1.2.0",
      "_model_name": "LayoutModel",
      "_view_count": null,
      "_view_module": "@jupyter-widgets/base",
      "_view_module_version": "1.2.0",
      "_view_name": "LayoutView",
      "align_content": null,
      "align_items": null,
      "align_self": null,
      "border": null,
      "bottom": null,
      "display": null,
      "flex": null,
      "flex_flow": null,
      "grid_area": null,
      "grid_auto_columns": null,
      "grid_auto_flow": null,
      "grid_auto_rows": null,
      "grid_column": null,
      "grid_gap": null,
      "grid_row": null,
      "grid_template_areas": null,
      "grid_template_columns": null,
      "grid_template_rows": null,
      "height": null,
      "justify_content": null,
      "justify_items": null,
      "left": null,
      "margin": null,
      "max_height": null,
      "max_width": null,
      "min_height": null,
      "min_width": null,
      "object_fit": null,
      "object_position": null,
      "order": null,
      "overflow": null,
      "overflow_x": null,
      "overflow_y": null,
      "padding": null,
      "right": null,
      "top": null,
      "visibility": null,
      "width": null
     }
    },
    "86002f6f7cab4226849c493fdaccfb08": {
     "model_module": "@jupyter-widgets/controls",
     "model_name": "HTMLModel",
     "state": {
      "_dom_classes": [],
      "_model_module": "@jupyter-widgets/controls",
      "_model_module_version": "1.5.0",
      "_model_name": "HTMLModel",
      "_view_count": null,
      "_view_module": "@jupyter-widgets/controls",
      "_view_module_version": "1.5.0",
      "_view_name": "HTMLView",
      "description": "",
      "description_tooltip": null,
      "layout": "IPY_MODEL_4f193ee22cb841bc85b479c5b12fe595",
      "placeholder": "​",
      "style": "IPY_MODEL_abc27c4abc0e4a77bd9d4b5784aa6ae7",
      "value": " 6/873 [00:54&lt;1:52:25,  7.78s/it]"
     }
    },
    "abc27c4abc0e4a77bd9d4b5784aa6ae7": {
     "model_module": "@jupyter-widgets/controls",
     "model_name": "DescriptionStyleModel",
     "state": {
      "_model_module": "@jupyter-widgets/controls",
      "_model_module_version": "1.5.0",
      "_model_name": "DescriptionStyleModel",
      "_view_count": null,
      "_view_module": "@jupyter-widgets/base",
      "_view_module_version": "1.2.0",
      "_view_name": "StyleView",
      "description_width": ""
     }
    },
    "af44b4b7c4424a5c8dc376ddeb5bd049": {
     "model_module": "@jupyter-widgets/controls",
     "model_name": "FloatProgressModel",
     "state": {
      "_dom_classes": [],
      "_model_module": "@jupyter-widgets/controls",
      "_model_module_version": "1.5.0",
      "_model_name": "FloatProgressModel",
      "_view_count": null,
      "_view_module": "@jupyter-widgets/controls",
      "_view_module_version": "1.5.0",
      "_view_name": "ProgressView",
      "bar_style": "danger",
      "description": "  1%",
      "description_tooltip": null,
      "layout": "IPY_MODEL_d16cad5beb514560b03b2c3503b39692",
      "max": 873,
      "min": 0,
      "orientation": "horizontal",
      "style": "IPY_MODEL_e705f016190641f2a29236e6dffaa19e",
      "value": 6
     }
    },
    "d16cad5beb514560b03b2c3503b39692": {
     "model_module": "@jupyter-widgets/base",
     "model_name": "LayoutModel",
     "state": {
      "_model_module": "@jupyter-widgets/base",
      "_model_module_version": "1.2.0",
      "_model_name": "LayoutModel",
      "_view_count": null,
      "_view_module": "@jupyter-widgets/base",
      "_view_module_version": "1.2.0",
      "_view_name": "LayoutView",
      "align_content": null,
      "align_items": null,
      "align_self": null,
      "border": null,
      "bottom": null,
      "display": null,
      "flex": null,
      "flex_flow": null,
      "grid_area": null,
      "grid_auto_columns": null,
      "grid_auto_flow": null,
      "grid_auto_rows": null,
      "grid_column": null,
      "grid_gap": null,
      "grid_row": null,
      "grid_template_areas": null,
      "grid_template_columns": null,
      "grid_template_rows": null,
      "height": null,
      "justify_content": null,
      "justify_items": null,
      "left": null,
      "margin": null,
      "max_height": null,
      "max_width": null,
      "min_height": null,
      "min_width": null,
      "object_fit": null,
      "object_position": null,
      "order": null,
      "overflow": null,
      "overflow_x": null,
      "overflow_y": null,
      "padding": null,
      "right": null,
      "top": null,
      "visibility": null,
      "width": null
     }
    },
    "e705f016190641f2a29236e6dffaa19e": {
     "model_module": "@jupyter-widgets/controls",
     "model_name": "ProgressStyleModel",
     "state": {
      "_model_module": "@jupyter-widgets/controls",
      "_model_module_version": "1.5.0",
      "_model_name": "ProgressStyleModel",
      "_view_count": null,
      "_view_module": "@jupyter-widgets/base",
      "_view_module_version": "1.2.0",
      "_view_name": "StyleView",
      "bar_color": null,
      "description_width": "initial"
     }
    },
    "e98930f95f9b416db8e7c742569674e1": {
     "model_module": "@jupyter-widgets/controls",
     "model_name": "HBoxModel",
     "state": {
      "_dom_classes": [],
      "_model_module": "@jupyter-widgets/controls",
      "_model_module_version": "1.5.0",
      "_model_name": "HBoxModel",
      "_view_count": null,
      "_view_module": "@jupyter-widgets/controls",
      "_view_module_version": "1.5.0",
      "_view_name": "HBoxView",
      "box_style": "",
      "children": [
       "IPY_MODEL_af44b4b7c4424a5c8dc376ddeb5bd049",
       "IPY_MODEL_86002f6f7cab4226849c493fdaccfb08"
      ],
      "layout": "IPY_MODEL_3adbcede053e4b04bb5e84dec5caed92"
     }
    }
   }
  }
 },
 "nbformat": 4,
 "nbformat_minor": 1
}
